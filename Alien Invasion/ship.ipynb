{
 "cells": [
  {
   "cell_type": "code",
   "execution_count": 1,
   "metadata": {},
   "outputs": [
    {
     "name": "stdout",
     "output_type": "stream",
     "text": [
      "pygame 1.9.6\n",
      "Hello from the pygame community. https://www.pygame.org/contribute.html\n"
     ]
    }
   ],
   "source": [
    "import pygame\n",
    "\n",
    "class Ship:\n",
    "    \"\"\"A class to manage the ship.\"\"\"\n",
    "    \n",
    "    \n",
    "    def __init__(self, ai_game):\n",
    "        \"\"\"Initialize teh ship and set its starting position.\"\"\"\n",
    "        self.screen = ai_game.screen\n",
    "        self.settings = ai_game.settings\n",
    "        self.screen_rect = ai_game.screen.get_rect()\n",
    "        \n",
    "        #load the ship image and get its rect.\n",
    "        self.image = pygame.image.load('images/ship.bmp')\n",
    "        self.rect = self.image.get_rect()\n",
    "        \n",
    "        #start each new ship at the bottom center of the screen.\n",
    "        self.rect.midbottom = self.screen_rect.midbottom\n",
    "        \n",
    "        #store a decimal value for the ship's horizontal position.\n",
    "        self.x = float(self.rect.x)\n",
    "        \n",
    "        # Movement flag\n",
    "        self.moving_right = False\n",
    "        self.moving_left = False\n",
    "        \n",
    "        \n",
    "    def update(self):\n",
    "        \"\"\"Update the ship's position based on the movement flag\"\"\"\n",
    "        # Update the ship's x value, not the rect.\n",
    "        if self.moving_right and self.rect.right < self.screen_rect.right:\n",
    "            self.x += self.settings.ship_speed\n",
    "        if self.moving_left and self.rect.left > 0:\n",
    "            self.x -= self.settings.ship_speed\n",
    "            \n",
    "        # Update rect object from self.x.\n",
    "        self.rect.x = self.x\n",
    "        \n",
    "                \n",
    "    def blitme(self):\n",
    "            \"\"\"Draw the ship at its current location.\"\"\"\n",
    "            self.screen.blit(self.image, self.rect)\n",
    "    "
   ]
  },
  {
   "cell_type": "code",
   "execution_count": null,
   "metadata": {},
   "outputs": [],
   "source": []
  },
  {
   "cell_type": "code",
   "execution_count": null,
   "metadata": {},
   "outputs": [],
   "source": []
  }
 ],
 "metadata": {
  "kernelspec": {
   "display_name": "Python 3",
   "language": "python",
   "name": "python3"
  },
  "language_info": {
   "codemirror_mode": {
    "name": "ipython",
    "version": 3
   },
   "file_extension": ".py",
   "mimetype": "text/x-python",
   "name": "python",
   "nbconvert_exporter": "python",
   "pygments_lexer": "ipython3",
   "version": "3.7.4"
  }
 },
 "nbformat": 4,
 "nbformat_minor": 2
}
