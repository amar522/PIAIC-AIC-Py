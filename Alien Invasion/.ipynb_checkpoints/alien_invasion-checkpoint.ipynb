{
 "cells": [
  {
   "cell_type": "code",
   "execution_count": 1,
   "metadata": {},
   "outputs": [
    {
     "name": "stdout",
     "output_type": "stream",
     "text": [
      "Requirement already satisfied: pygame in c:\\users\\amari\\appdata\\roaming\\python\\python37\\site-packages (1.9.6)\n",
      "Note: you may need to restart the kernel to use updated packages.\n"
     ]
    }
   ],
   "source": [
    "pip install --user pygame"
   ]
  },
  {
   "cell_type": "code",
   "execution_count": 2,
   "metadata": {},
   "outputs": [],
   "source": [
    "import sys"
   ]
  },
  {
   "cell_type": "code",
   "execution_count": 3,
   "metadata": {},
   "outputs": [
    {
     "name": "stdout",
     "output_type": "stream",
     "text": [
      "pygame 1.9.6\n",
      "Hello from the pygame community. https://www.pygame.org/contribute.html\n"
     ]
    }
   ],
   "source": [
    "import pygame"
   ]
  },
  {
   "cell_type": "code",
   "execution_count": null,
   "metadata": {},
   "outputs": [],
   "source": []
  },
  {
   "cell_type": "code",
   "execution_count": 4,
   "metadata": {},
   "outputs": [
    {
     "name": "stdout",
     "output_type": "stream",
     "text": [
      "importing Jupyter notebook from settings.ipynb\n",
      "importing Jupyter notebook from ship.ipynb\n"
     ]
    }
   ],
   "source": [
    "import import_ipynb\n",
    "\n",
    "import settings\n",
    "from settings import Settings\n",
    "\n",
    "from ship import Ship"
   ]
  },
  {
   "cell_type": "code",
   "execution_count": 9,
   "metadata": {},
   "outputs": [
    {
     "ename": "SystemExit",
     "evalue": "",
     "output_type": "error",
     "traceback": [
      "An exception has occurred, use %tb to see the full traceback.\n",
      "\u001b[1;31mSystemExit\u001b[0m\n"
     ]
    }
   ],
   "source": [
    "class AlienInvasion:\n",
    "    #Overall class to manage game assets and and behavior.\n",
    "    \n",
    "    def __init__(self):\n",
    "        #initialize the game, and create game resources.\n",
    "        pygame.init()\n",
    "        self.settings = Settings()\n",
    "        \n",
    "        self.screen = pygame.display.set_mode(\n",
    "            (self.settings.screen_width, self.settings.screen_height))\n",
    "        pygame.display.set_caption(\"Alien Invasion\")\n",
    "        \n",
    "        self.ship = Ship(self)\n",
    "        \n",
    "        \n",
    "    def run_game(self):\n",
    "        #start main loop for the game.\n",
    "        while True:\n",
    "            self._check_events()\n",
    "            self._update_screen()\n",
    "            \n",
    "            \n",
    "    def _check_events(self):\n",
    "        \"\"\"Respond to keypresses and mouse events.\"\"\"        \n",
    "        #watch for keyboard and mouse events.\n",
    "        for event in pygame.event.get():\n",
    "            if event.type == pygame.QUIT:\n",
    "                sys.exit()\n",
    "            elif event.type == pygame.KEYDOWN:\n",
    "                if event.key == pygame.K RIGHT:\n",
    "                    #Move the ship to the right:\n",
    "                    self.ship.rect.x +=1\n",
    "        \n",
    "            \n",
    "      \n",
    "    \n",
    "    def _update_screen(self):\n",
    "        \"\"\"update images on the screen, and flip to the new screen.\"\"\"\n",
    "        #Redraw the screen during each pass through the loop\n",
    "        self.screen.fill(self.settings.bg_color)\n",
    "        self.ship.blitme()\n",
    "            \n",
    "            \n",
    "    \n",
    "                    \n",
    "        #make the most recentyly drawn screen visible.\n",
    "        pygame.display.flip()\n",
    "    \n",
    "\n",
    "if __name__ == '__main__':\n",
    "    #make a game instance, and run the game.\n",
    "    ai = AlienInvasion()\n",
    "    ai.run_game()\n",
    "            "
   ]
  },
  {
   "cell_type": "code",
   "execution_count": null,
   "metadata": {},
   "outputs": [],
   "source": []
  },
  {
   "cell_type": "code",
   "execution_count": null,
   "metadata": {},
   "outputs": [],
   "source": []
  }
 ],
 "metadata": {
  "kernelspec": {
   "display_name": "Python 3",
   "language": "python",
   "name": "python3"
  },
  "language_info": {
   "codemirror_mode": {
    "name": "ipython",
    "version": 3
   },
   "file_extension": ".py",
   "mimetype": "text/x-python",
   "name": "python",
   "nbconvert_exporter": "python",
   "pygments_lexer": "ipython3",
   "version": "3.7.4"
  }
 },
 "nbformat": 4,
 "nbformat_minor": 2
}
