{
 "cells": [
  {
   "cell_type": "code",
   "execution_count": 2,
   "metadata": {},
   "outputs": [
    {
     "name": "stdout",
     "output_type": "stream",
     "text": [
      "Requirement already satisfied: pygame in c:\\users\\amari\\appdata\\roaming\\python\\python37\\site-packages (1.9.6)\n",
      "Note: you may need to restart the kernel to use updated packages.\n"
     ]
    }
   ],
   "source": [
    "pip install --user pygame"
   ]
  },
  {
   "cell_type": "code",
   "execution_count": 3,
   "metadata": {},
   "outputs": [],
   "source": [
    "import sys"
   ]
  },
  {
   "cell_type": "code",
   "execution_count": 4,
   "metadata": {},
   "outputs": [
    {
     "name": "stdout",
     "output_type": "stream",
     "text": [
      "pygame 1.9.6\n",
      "Hello from the pygame community. https://www.pygame.org/contribute.html\n"
     ]
    }
   ],
   "source": [
    "import pygame"
   ]
  },
  {
   "cell_type": "code",
   "execution_count": 5,
   "metadata": {},
   "outputs": [],
   "source": [
    "import import_ipynb\n"
   ]
  },
  {
   "cell_type": "code",
   "execution_count": 6,
   "metadata": {},
   "outputs": [
    {
     "name": "stdout",
     "output_type": "stream",
     "text": [
      "importing Jupyter notebook from settings.ipynb\n",
      "importing Jupyter notebook from ship.ipynb\n",
      "importing Jupyter notebook from bullet.ipynb\n",
      "importing Jupyter notebook from alien.ipynb\n"
     ]
    }
   ],
   "source": [
    "\n",
    "import settings\n",
    "from settings import Settings\n",
    "\n",
    "import ship\n",
    "from ship import Ship\n",
    "\n",
    "import bullet\n",
    "from bullet import Bullet\n",
    "\n",
    "import alien\n",
    "from alien import Alien"
   ]
  },
  {
   "cell_type": "code",
   "execution_count": 7,
   "metadata": {},
   "outputs": [
    {
     "ename": "SystemExit",
     "evalue": "",
     "output_type": "error",
     "traceback": [
      "An exception has occurred, use %tb to see the full traceback.\n",
      "\u001b[1;31mSystemExit\u001b[0m\n"
     ]
    },
    {
     "name": "stderr",
     "output_type": "stream",
     "text": [
      "C:\\Users\\amari\\Anaconda3\\lib\\site-packages\\IPython\\core\\interactiveshell.py:3334: UserWarning: To exit: use 'exit', 'quit', or Ctrl-D.\n",
      "  warn(\"To exit: use 'exit', 'quit', or Ctrl-D.\", stacklevel=1)\n"
     ]
    }
   ],
   "source": [
    "class AlienInvasion:\n",
    "    #Overall class to manage game assets and and behavior.\n",
    "    \n",
    "    def __init__(self):\n",
    "        #initialize the game, and create game resources.\n",
    "        pygame.init()\n",
    "        self.settings = Settings()\n",
    "        \n",
    "        self.screen = pygame.display.set_mode(\n",
    "            (self.settings.screen_width, self.settings.screen_height))\n",
    "        \"\"\"self.screen = pygame.display.set_mode((0,0), pygame.FULLSCREEN)\n",
    "        self.settings.screen_width = self.screen.get_rect().width\n",
    "        self.settings.screen_height = self.screen.get_rect().height\n",
    "        \"\"\"\n",
    "        pygame.display.set_caption(\"Alien Invasion\")\n",
    "        \n",
    "        self.ship = Ship(self)\n",
    "        self.bullets = pygame.sprite.Group()\n",
    "        self.aliens = pygame.sprite.Group()\n",
    "        \n",
    "        self._create_fleet()\n",
    "        \n",
    "        \n",
    "    def run_game(self):\n",
    "        #start main loop for the game.\n",
    "        while True:\n",
    "            self._check_events()\n",
    "            self.ship.update()\n",
    "            self._update_bullets()\n",
    "            self._update_aliens()\n",
    "            self._update_screen()\n",
    "            \n",
    "            \n",
    "    def _check_events(self):\n",
    "        \"\"\"Respond to keypresses and mouse events.\"\"\"        \n",
    "        #watch for keyboard and mouse events.\n",
    "        for event in pygame.event.get():\n",
    "            if event.type == pygame.QUIT:\n",
    "                sys.exit()\n",
    "            elif event.type == pygame.KEYDOWN:\n",
    "                self._check_keydown_events(event)\n",
    "            elif event.type == pygame.KEYUP:\n",
    "                self._check_keyup_events(event)\n",
    "                \n",
    "                \n",
    "    def _check_keydown_events(self,event):\n",
    "        \"\"\"Respond to keypresses\"\"\"\n",
    "        if event.key == pygame.K_RIGHT:\n",
    "            self.ship.moving_right = True\n",
    "        elif event.key == pygame.K_LEFT:\n",
    "            self.ship.moving_left = True\n",
    "        elif event.key == pygame.K_q:\n",
    "            sys.exit()\n",
    "        elif event.key == pygame.K_SPACE:\n",
    "            self._fire_bullet()\n",
    "            \n",
    "            \n",
    "    def _check_keyup_events(self, event):\n",
    "        \"\"\"Respond to key resleases.\"\"\"\n",
    "        if event.key == pygame.K_RIGHT:\n",
    "            self.ship.moving_right = False\n",
    "        elif event.type == pygame.K_LEFT:\n",
    "            self.ship.moving_left = False  \n",
    "            \n",
    "    \n",
    "    def _fire_bullet(self):\n",
    "        \"\"\"Create a new bullet and add it to the bullets group.\"\"\"\n",
    "        if len(self.bullets) < self.settings.bullets_allowed:\n",
    "            new_bullet = Bullet(self)\n",
    "            self.bullets.add(new_bullet)\n",
    "    \n",
    "    \n",
    "    def _update_bullets(self):\n",
    "        \"\"\"Update position of bullets and get rid of old bullets.\"\"\"\n",
    "        # Update bullet position.\n",
    "        self.bullets.update()\n",
    "            \n",
    "        # Get rid of bullets that have disappeared.\n",
    "        for bullet in self.bullets.copy():\n",
    "            if bullet.rect.bottom <= 0:\n",
    "                self.bullets.remove(bullet)\n",
    "                \n",
    "        # Check for any bullets that have hit aliens.\n",
    "        # If so, get rid of the bullet and the alien.\n",
    "        collisions = pygame.sprite.groupcollide(\n",
    "                self.bullets, self.aliens, True, True)\n",
    "                \n",
    "        if not self.aliens:\n",
    "            # Destroy existing bullets and create new fleet.\n",
    "            self.bullets.empty()\n",
    "            self._create_fleet()\n",
    "            \n",
    "            \n",
    "    def _update_aliens(self):\n",
    "        \"\"\"\n",
    "        Check if the fleet is at an edge,\n",
    "        then update the positions of all aliens in the fleet.\n",
    "        \"\"\"\n",
    "        self._check_fleet_edges()\n",
    "        self.aliens.update()\n",
    "                \n",
    "\n",
    "    def _create_fleet(self):\n",
    "        \"\"\"Create the fleet of aliens.\"\"\"\n",
    "        # Create a alien and find the number of aliens in a row.\n",
    "        # Spacing bewteen each alien is equal to one alien width.\n",
    "        # Make an alien.\n",
    "        alien = Alien(self)\n",
    "        alien_width, alien_height = alien.rect.size\n",
    "        available_space_x = self.settings.screen_width - (2 * alien_width)\n",
    "        number_aliens_x = available_space_x // (2 * alien_width)\n",
    "        \n",
    "        # Determine the number of rows of aliens that fit on the screen.\n",
    "        ship_height = self.ship.rect.height\n",
    "        available_space_y = (self.settings.screen_height - \n",
    "                            (3 * alien_height) - ship_height)\n",
    "        number_rows = available_space_y // (2 * alien_height)\n",
    "        \n",
    "        #Create the full fleet of aliens.\n",
    "        for row_number in range(number_rows):\n",
    "            for alien_number in range(number_aliens_x):\n",
    "                self._create_alien(alien_number, row_number)\n",
    "        \n",
    "        \n",
    "    def _create_alien(self, alien_number, row_number):\n",
    "        \"\"\"Create an alien and place it in the row.\"\"\"\n",
    "        alien = Alien(self)\n",
    "        alien_width, alien_height = alien.rect.size\n",
    "        alien.x = alien_width + 2 * alien_width * alien_number\n",
    "        alien.rect.x = alien.x\n",
    "        alien.rect.y = alien.rect.height + 2 * alien.rect.height * row_number\n",
    "        self.aliens.add(alien)\n",
    "    \n",
    "    \n",
    "    def _check_fleet_edges(self):\n",
    "        \"\"\"Respond appropriately if any aliens have reached an edge.\"\"\"\n",
    "        for alien in self.aliens.sprites():\n",
    "            if alien.check_edges():\n",
    "                self._change_fleet_direction()\n",
    "                break\n",
    "                \n",
    "                \n",
    "    def _change_fleet_direction(self):\n",
    "        \"\"\"Drop the entire fleet and change the fleet's direction.\"\"\"\n",
    "        for alien in self.aliens.sprites():\n",
    "            alien.rect.y += self.settings.fleet_drop_speed\n",
    "            self.settings.fleet_direction *= -1\n",
    "    \n",
    "    \n",
    "    def _update_screen(self):\n",
    "        \"\"\"update images on the screen, and flip to the new screen.\"\"\"\n",
    "        #Redraw the screen during each pass through the loop\n",
    "        self.screen.fill(self.settings.bg_color)\n",
    "        self.ship.blitme()\n",
    "        for bullet in self.bullets.sprites():\n",
    "            bullet.draw_bullet()\n",
    "        self.aliens.draw(self.screen)\n",
    "        \n",
    "        #make the most recentyly drawn screen visible.\n",
    "        pygame.display.flip()\n",
    "    \n",
    "\n",
    "if __name__ == '__main__':\n",
    "    #make a game instance, and run the game.\n",
    "    ai = AlienInvasion()\n",
    "    ai.run_game()\n",
    "            "
   ]
  },
  {
   "cell_type": "code",
   "execution_count": null,
   "metadata": {},
   "outputs": [],
   "source": []
  },
  {
   "cell_type": "code",
   "execution_count": null,
   "metadata": {},
   "outputs": [],
   "source": []
  }
 ],
 "metadata": {
  "kernelspec": {
   "display_name": "Python 3",
   "language": "python",
   "name": "python3"
  },
  "language_info": {
   "codemirror_mode": {
    "name": "ipython",
    "version": 3
   },
   "file_extension": ".py",
   "mimetype": "text/x-python",
   "name": "python",
   "nbconvert_exporter": "python",
   "pygments_lexer": "ipython3",
   "version": "3.7.4"
  }
 },
 "nbformat": 4,
 "nbformat_minor": 2
}
