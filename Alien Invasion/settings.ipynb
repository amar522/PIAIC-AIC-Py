{
 "cells": [
  {
   "cell_type": "code",
   "execution_count": 2,
   "metadata": {},
   "outputs": [],
   "source": [
    "class Settings:\n",
    "    # A clss to store all settings for Alien Invasion.\n",
    "    \n",
    "    def __init__(self):\n",
    "        #initialize the game's settings.\n",
    "        #screen settings\n",
    "        self.screen_width = 1200\n",
    "        self.screen_height = 800\n",
    "        self.bg_color = (230,230,230)\n",
    "        \n",
    "        #Ship setting\n",
    "        self.ship_speed = 1.5\n",
    "        \n",
    "        # Bullet settings\n",
    "        self.bullet_speed = 1.0\n",
    "        self.bullet_speed = 1.5 \n",
    "        self.bullet_width = 3\n",
    "        self.bullet_height = 15\n",
    "        self.bullet_color = (60, 60, 60)\n",
    "        self.bullets_allowed = 3\n",
    "        \n",
    "         # Alien Setting\n",
    "        self.alien_speed = 1.0\n",
    "        self.fleet_drop_speed = 10\n",
    "        # Fleet direction of 1 represents right; -1 represents left.\n",
    "        self.fleet_direction = 1"
   ]
  },
  {
   "cell_type": "code",
   "execution_count": null,
   "metadata": {},
   "outputs": [],
   "source": []
  }
 ],
 "metadata": {
  "kernelspec": {
   "display_name": "Python 3",
   "language": "python",
   "name": "python3"
  },
  "language_info": {
   "codemirror_mode": {
    "name": "ipython",
    "version": 3
   },
   "file_extension": ".py",
   "mimetype": "text/x-python",
   "name": "python",
   "nbconvert_exporter": "python",
   "pygments_lexer": "ipython3",
   "version": "3.7.4"
  }
 },
 "nbformat": 4,
 "nbformat_minor": 2
}
