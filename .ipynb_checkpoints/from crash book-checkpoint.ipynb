{
 "cells": [
  {
   "cell_type": "code",
   "execution_count": 4,
   "metadata": {},
   "outputs": [
    {
     "name": "stdout",
     "output_type": "stream",
     "text": [
      "hi how are you Ali\n",
      "hi how are you zain\n",
      "hi how are you shoukat\n"
     ]
    }
   ],
   "source": [
    "person_name=['Ali', 'zain', 'shoukat']\n",
    "msg_list=[f'hi how are you {person_name[0]}', f'hi how are you {person_name[1]}', f'hi how are you {person_name[2]}']\n",
    "print(msg_list[0])\n",
    "print(msg_list[1])\n",
    "print(msg_list[2])\n"
   ]
  },
  {
   "cell_type": "code",
   "execution_count": 5,
   "metadata": {
    "scrolled": true
   },
   "outputs": [
    {
     "name": "stdout",
     "output_type": "stream",
     "text": [
      "['Ali', 'zain']\n",
      "shoukat\n"
     ]
    }
   ],
   "source": [
    "pooped_name = person_name.pop()\n",
    "print(person_name)\n",
    "print(pooped_name)"
   ]
  },
  {
   "cell_type": "code",
   "execution_count": null,
   "metadata": {},
   "outputs": [],
   "source": []
  }
 ],
 "metadata": {
  "kernelspec": {
   "display_name": "Python 3",
   "language": "python",
   "name": "python3"
  },
  "language_info": {
   "codemirror_mode": {
    "name": "ipython",
    "version": 3
   },
   "file_extension": ".py",
   "mimetype": "text/x-python",
   "name": "python",
   "nbconvert_exporter": "python",
   "pygments_lexer": "ipython3",
   "version": "3.7.4"
  }
 },
 "nbformat": 4,
 "nbformat_minor": 2
}
