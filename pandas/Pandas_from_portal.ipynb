{
 "cells": [
  {
   "cell_type": "code",
   "execution_count": 4,
   "metadata": {},
   "outputs": [],
   "source": [
    "import pandas as pd\n",
    "import numpy as np"
   ]
  },
  {
   "cell_type": "markdown",
   "metadata": {},
   "source": [
    "# Series"
   ]
  },
  {
   "cell_type": "code",
   "execution_count": 3,
   "metadata": {},
   "outputs": [
    {
     "name": "stdout",
     "output_type": "stream",
     "text": [
      "0    4\n",
      "1    7\n",
      "2   -5\n",
      "3    3\n",
      "dtype: int64\n"
     ]
    }
   ],
   "source": [
    "obj = pd.Series([4, 7, -5, 3])\n",
    "print(obj)"
   ]
  },
  {
   "cell_type": "code",
   "execution_count": 4,
   "metadata": {},
   "outputs": [
    {
     "name": "stdout",
     "output_type": "stream",
     "text": [
      "[100 200 100 400]\n",
      "RangeIndex(start=0, stop=4, step=1)\n"
     ]
    }
   ],
   "source": [
    "sales = pd.Series([100, 200, 100, 400])\n",
    "print(sales.values)\n",
    "print(sales.index)"
   ]
  },
  {
   "cell_type": "code",
   "execution_count": 5,
   "metadata": {},
   "outputs": [
    {
     "name": "stdout",
     "output_type": "stream",
     "text": [
      "Jan    100\n",
      "Feb    200\n",
      "Mar    100\n",
      "Apr    400\n",
      "dtype: int64\n"
     ]
    }
   ],
   "source": [
    "sales = pd.Series([100, 200, 100, 400], index = ['Jan', 'Feb', 'Mar', 'Apr'])\n",
    "print(sales)"
   ]
  },
  {
   "cell_type": "code",
   "execution_count": 6,
   "metadata": {},
   "outputs": [
    {
     "name": "stdout",
     "output_type": "stream",
     "text": [
      "Index(['Jan', 'Feb', 'Mar', 'Apr'], dtype='object')\n",
      "[100 200 100 400]\n",
      "100\n"
     ]
    }
   ],
   "source": [
    "print(sales.index)\n",
    "print(sales.values)\n",
    "print(sales['Jan'])"
   ]
  },
  {
   "cell_type": "code",
   "execution_count": 7,
   "metadata": {},
   "outputs": [
    {
     "name": "stdout",
     "output_type": "stream",
     "text": [
      "Jan    100\n",
      "Feb    200\n",
      "Mar    100\n",
      "Apr    400\n",
      "Name: 4 month sales, dtype: int64\n"
     ]
    }
   ],
   "source": [
    "sales = pd.Series([100, 200, 100, 400], index = ['Jan', 'Feb', 'Mar', 'Apr'], name = \"4 month sales\" )\n",
    "print(sales)"
   ]
  },
  {
   "cell_type": "code",
   "execution_count": 8,
   "metadata": {},
   "outputs": [
    {
     "name": "stdout",
     "output_type": "stream",
     "text": [
      "Mon     30\n",
      "Tue     40\n",
      "Wed     20\n",
      "Thur    50\n",
      "Fri     45\n",
      "Sat     35\n",
      "Sun     40\n",
      "Name: Sandwitches sale whole week, dtype: int64\n"
     ]
    }
   ],
   "source": [
    "sw = pd.Series([30, 40, 20, 50, 45, 35, 40], \n",
    "                            index=['Mon', 'Tue', 'Wed', 'Thur', 'Fri', 'Sat', 'Sun'], \n",
    "                            name = \"Sandwitches sale whole week\")\n",
    "print(sw)"
   ]
  },
  {
   "cell_type": "code",
   "execution_count": 9,
   "metadata": {},
   "outputs": [
    {
     "name": "stdout",
     "output_type": "stream",
     "text": [
      "50\n",
      "--------------------\n",
      "Thur    50\n",
      "Sat     35\n",
      "Name: Sandwitches sale whole week, dtype: int64\n",
      "--------------------\n",
      "Thur    50\n",
      "Fri     45\n",
      "Name: Sandwitches sale whole week, dtype: int64\n",
      "--------------------\n",
      "Wed     20\n",
      "Thur    50\n",
      "Name: Sandwitches sale whole week, dtype: int64\n"
     ]
    }
   ],
   "source": [
    "print(sw[3])\n",
    "print(\"--------------------\")\n",
    "print(sw[[3, 5]])\n",
    "print(\"--------------------\")\n",
    "print(sw[3:5])\n",
    "print(\"--------------------\")\n",
    "print(sw[['Wed','Thur']])"
   ]
  },
  {
   "cell_type": "code",
   "execution_count": 10,
   "metadata": {},
   "outputs": [
    {
     "name": "stdout",
     "output_type": "stream",
     "text": [
      "Series([], Name: Sandwitches sale whole week, dtype: int64)\n"
     ]
    }
   ],
   "source": [
    "print(sw[sw<20])"
   ]
  },
  {
   "cell_type": "code",
   "execution_count": 11,
   "metadata": {},
   "outputs": [
    {
     "name": "stdout",
     "output_type": "stream",
     "text": [
      "Mon    30\n",
      "Tue    40\n",
      "Wed    20\n",
      "Sat    35\n",
      "Sun    40\n",
      "Name: Sandwitches sale whole week, dtype: int64\n"
     ]
    }
   ],
   "source": [
    "print(sw[sw <= 40])"
   ]
  },
  {
   "cell_type": "code",
   "execution_count": 12,
   "metadata": {},
   "outputs": [
    {
     "data": {
      "text/plain": [
       "Mon      60\n",
       "Tue      80\n",
       "Wed      40\n",
       "Thur    100\n",
       "Fri      90\n",
       "Sat      70\n",
       "Sun      80\n",
       "Name: Sandwitches sale whole week, dtype: int64"
      ]
     },
     "execution_count": 12,
     "metadata": {},
     "output_type": "execute_result"
    }
   ],
   "source": [
    "sw * 2"
   ]
  },
  {
   "cell_type": "code",
   "execution_count": 13,
   "metadata": {},
   "outputs": [
    {
     "name": "stdout",
     "output_type": "stream",
     "text": [
      "Mon     30\n",
      "Tue     40\n",
      "Wed     20\n",
      "Thur    50\n",
      "Fri     45\n",
      "Sat     35\n",
      "Sun     40\n",
      "Name: Sandwitches sale whole week, dtype: int64\n"
     ]
    }
   ],
   "source": [
    "print(sw)"
   ]
  },
  {
   "cell_type": "code",
   "execution_count": 14,
   "metadata": {},
   "outputs": [
    {
     "name": "stdout",
     "output_type": "stream",
     "text": [
      "Mon      60\n",
      "Tue      80\n",
      "Wed      40\n",
      "Thur    100\n",
      "Fri      90\n",
      "Sat      70\n",
      "Sun      80\n",
      "Name: Sandwitches sale whole week, dtype: int64\n"
     ]
    }
   ],
   "source": [
    "sw = sw * 2\n",
    "print(sw)"
   ]
  },
  {
   "cell_type": "code",
   "execution_count": 15,
   "metadata": {},
   "outputs": [
    {
     "name": "stdout",
     "output_type": "stream",
     "text": [
      "Mon     30.0\n",
      "Tue     40.0\n",
      "Wed     20.0\n",
      "Thur    50.0\n",
      "Fri     45.0\n",
      "Sat     35.0\n",
      "Sun     40.0\n",
      "Name: Sandwitches sale whole week, dtype: float64\n"
     ]
    }
   ],
   "source": [
    "sw = sw / 2\n",
    "print(sw)"
   ]
  },
  {
   "cell_type": "code",
   "execution_count": 16,
   "metadata": {},
   "outputs": [
    {
     "name": "stdout",
     "output_type": "stream",
     "text": [
      "a    3\n",
      "b    2\n",
      "c    4\n",
      "d    5\n",
      "e    6\n",
      "dtype: int32\n"
     ]
    }
   ],
   "source": [
    "import numpy as np\n",
    "ar = np.array([3,2,4,5,6])\n",
    "ind = np.array(['a', 'b', 'c', 'd', 'e'])\n",
    "\n",
    "obj2 = pd.Series(ar, index = ind)\n",
    "print(obj2)"
   ]
  },
  {
   "cell_type": "code",
   "execution_count": 17,
   "metadata": {},
   "outputs": [
    {
     "name": "stdout",
     "output_type": "stream",
     "text": [
      "Sindh          3500\n",
      "Punjab         3000\n",
      "KPK            2500\n",
      "Balochistan    2000\n",
      "dtype: int64\n"
     ]
    }
   ],
   "source": [
    "sdata = {'Sindh': 3500, 'Punjab': 3000, 'KPK': 2500, 'Balochistan': 2000}\n",
    "tax_by_state = pd.Series(sdata)\n",
    "print(tax_by_state)"
   ]
  },
  {
   "cell_type": "code",
   "execution_count": 18,
   "metadata": {},
   "outputs": [
    {
     "name": "stdout",
     "output_type": "stream",
     "text": [
      "Punjab         3000.0\n",
      "Sindh          3500.0\n",
      "KPK            2500.0\n",
      "Balochistan    2000.0\n",
      "GB                NaN\n",
      "dtype: float64\n"
     ]
    }
   ],
   "source": [
    "sdata = {'Sindh': 3500, 'Punjab': 3000, 'KPK': 2500, 'Balochistan': 2000}\n",
    "tax_by_state = pd.Series(sdata, index = ['Punjab', 'Sindh', 'KPK', 'Balochistan', 'GB'])\n",
    "print(tax_by_state)"
   ]
  },
  {
   "cell_type": "code",
   "execution_count": 19,
   "metadata": {},
   "outputs": [
    {
     "name": "stdout",
     "output_type": "stream",
     "text": [
      "Punjab         False\n",
      "Sindh          False\n",
      "KPK            False\n",
      "Balochistan    False\n",
      "GB              True\n",
      "dtype: bool\n",
      "Punjab         False\n",
      "Sindh          False\n",
      "KPK            False\n",
      "Balochistan    False\n",
      "GB              True\n",
      "dtype: bool\n"
     ]
    }
   ],
   "source": [
    "print(pd.isnull(tax_by_state))\n",
    "print(tax_by_state.isnull())"
   ]
  },
  {
   "cell_type": "markdown",
   "metadata": {},
   "source": [
    "**Soure of Data**\n",
    "* Data from direct entry in Series method \n",
    "* Data from numpy array or list \n",
    "* Data from dictionary "
   ]
  },
  {
   "cell_type": "markdown",
   "metadata": {},
   "source": [
    "# Data Frame"
   ]
  },
  {
   "cell_type": "code",
   "execution_count": 20,
   "metadata": {},
   "outputs": [
    {
     "name": "stdout",
     "output_type": "stream",
     "text": [
      "0    3\n",
      "1    2\n",
      "2    0\n",
      "3    1\n",
      "dtype: int64 0    3\n",
      "1    2\n",
      "2    0\n",
      "3    1\n",
      "dtype: int64\n",
      "   apples  oranges\n",
      "0       3        3\n",
      "1       2        2\n",
      "2       0        0\n",
      "3       1        1\n"
     ]
    }
   ],
   "source": [
    "import pandas as pd\n",
    "\n",
    "apples = pd.Series([3, 2, 0, 1])\n",
    "oranges = pd.Series([3, 2, 0, 1])\n",
    "print(apples, oranges)\n",
    "\n",
    "data = {'apples': apples, 'oranges': oranges}\n",
    "fruits_df = pd.DataFrame(data)\n",
    "print(fruits_df)"
   ]
  },
  {
   "cell_type": "code",
   "execution_count": 21,
   "metadata": {},
   "outputs": [
    {
     "name": "stdout",
     "output_type": "stream",
     "text": [
      "    State  Year  Pop\n",
      "0    Ohio  2000  1.5\n",
      "1    Ohio  2001  1.7\n",
      "2    Ohio  2002  3.4\n",
      "3  Neveda  2001  2.4\n",
      "4  Neveda  2002  2.9\n",
      "5  Neveda  2003  3.2\n"
     ]
    }
   ],
   "source": [
    "state = ['Ohio', 'Ohio', 'Ohio', 'Neveda', 'Neveda', 'Neveda' ]\n",
    "year = [2000, 2001, 2002, 2001, 2002, 2003]\n",
    "pop = [1.5, 1.7, 3.4, 2.4, 2.9, 3.2]\n",
    "data = { 'State': state,\n",
    "       'Year': year,\n",
    "       'Pop': pop}\n",
    "df = pd.DataFrame(data)\n",
    "print(df)"
   ]
  },
  {
   "cell_type": "code",
   "execution_count": 22,
   "metadata": {},
   "outputs": [
    {
     "name": "stdout",
     "output_type": "stream",
     "text": [
      "      State  Year  Pop\n",
      "1st    Ohio  2000  1.5\n",
      "2nd    Ohio  2001  1.7\n",
      "3rd    Ohio  2002  3.4\n",
      "4th  Neveda  2001  2.4\n",
      "5th  Neveda  2002  2.9\n",
      "6th  Neveda  2003  3.2\n"
     ]
    }
   ],
   "source": [
    "index = ['1st', '2nd', '3rd', '4th', '5th', '6th']\n",
    "df = pd.DataFrame(data, index)\n",
    "print(df)"
   ]
  },
  {
   "cell_type": "code",
   "execution_count": 23,
   "metadata": {},
   "outputs": [
    {
     "data": {
      "text/html": [
       "<div>\n",
       "<style scoped>\n",
       "    .dataframe tbody tr th:only-of-type {\n",
       "        vertical-align: middle;\n",
       "    }\n",
       "\n",
       "    .dataframe tbody tr th {\n",
       "        vertical-align: top;\n",
       "    }\n",
       "\n",
       "    .dataframe thead th {\n",
       "        text-align: right;\n",
       "    }\n",
       "</style>\n",
       "<table border=\"1\" class=\"dataframe\">\n",
       "  <thead>\n",
       "    <tr style=\"text-align: right;\">\n",
       "      <th></th>\n",
       "      <th>State</th>\n",
       "      <th>Year</th>\n",
       "      <th>Pop</th>\n",
       "    </tr>\n",
       "  </thead>\n",
       "  <tbody>\n",
       "    <tr>\n",
       "      <th>1st</th>\n",
       "      <td>Ohio</td>\n",
       "      <td>2000</td>\n",
       "      <td>1.5</td>\n",
       "    </tr>\n",
       "    <tr>\n",
       "      <th>2nd</th>\n",
       "      <td>Ohio</td>\n",
       "      <td>2001</td>\n",
       "      <td>1.7</td>\n",
       "    </tr>\n",
       "    <tr>\n",
       "      <th>3rd</th>\n",
       "      <td>Ohio</td>\n",
       "      <td>2002</td>\n",
       "      <td>3.4</td>\n",
       "    </tr>\n",
       "    <tr>\n",
       "      <th>4th</th>\n",
       "      <td>Neveda</td>\n",
       "      <td>2001</td>\n",
       "      <td>2.4</td>\n",
       "    </tr>\n",
       "    <tr>\n",
       "      <th>5th</th>\n",
       "      <td>Neveda</td>\n",
       "      <td>2002</td>\n",
       "      <td>2.9</td>\n",
       "    </tr>\n",
       "  </tbody>\n",
       "</table>\n",
       "</div>"
      ],
      "text/plain": [
       "      State  Year  Pop\n",
       "1st    Ohio  2000  1.5\n",
       "2nd    Ohio  2001  1.7\n",
       "3rd    Ohio  2002  3.4\n",
       "4th  Neveda  2001  2.4\n",
       "5th  Neveda  2002  2.9"
      ]
     },
     "execution_count": 23,
     "metadata": {},
     "output_type": "execute_result"
    }
   ],
   "source": [
    "df.head()"
   ]
  },
  {
   "cell_type": "code",
   "execution_count": 24,
   "metadata": {},
   "outputs": [
    {
     "data": {
      "text/html": [
       "<div>\n",
       "<style scoped>\n",
       "    .dataframe tbody tr th:only-of-type {\n",
       "        vertical-align: middle;\n",
       "    }\n",
       "\n",
       "    .dataframe tbody tr th {\n",
       "        vertical-align: top;\n",
       "    }\n",
       "\n",
       "    .dataframe thead th {\n",
       "        text-align: right;\n",
       "    }\n",
       "</style>\n",
       "<table border=\"1\" class=\"dataframe\">\n",
       "  <thead>\n",
       "    <tr style=\"text-align: right;\">\n",
       "      <th></th>\n",
       "      <th>Year</th>\n",
       "      <th>State</th>\n",
       "      <th>Pop</th>\n",
       "    </tr>\n",
       "  </thead>\n",
       "  <tbody>\n",
       "    <tr>\n",
       "      <th>0</th>\n",
       "      <td>2000</td>\n",
       "      <td>Ohio</td>\n",
       "      <td>1.5</td>\n",
       "    </tr>\n",
       "    <tr>\n",
       "      <th>1</th>\n",
       "      <td>2001</td>\n",
       "      <td>Ohio</td>\n",
       "      <td>1.7</td>\n",
       "    </tr>\n",
       "    <tr>\n",
       "      <th>2</th>\n",
       "      <td>2002</td>\n",
       "      <td>Ohio</td>\n",
       "      <td>3.4</td>\n",
       "    </tr>\n",
       "    <tr>\n",
       "      <th>3</th>\n",
       "      <td>2001</td>\n",
       "      <td>Neveda</td>\n",
       "      <td>2.4</td>\n",
       "    </tr>\n",
       "    <tr>\n",
       "      <th>4</th>\n",
       "      <td>2002</td>\n",
       "      <td>Neveda</td>\n",
       "      <td>2.9</td>\n",
       "    </tr>\n",
       "  </tbody>\n",
       "</table>\n",
       "</div>"
      ],
      "text/plain": [
       "   Year   State  Pop\n",
       "0  2000    Ohio  1.5\n",
       "1  2001    Ohio  1.7\n",
       "2  2002    Ohio  3.4\n",
       "3  2001  Neveda  2.4\n",
       "4  2002  Neveda  2.9"
      ]
     },
     "execution_count": 24,
     "metadata": {},
     "output_type": "execute_result"
    }
   ],
   "source": [
    "df = pd.DataFrame(data, columns = ['Year', 'State', 'Pop'])  #change columns arrangement\n",
    "df.head()"
   ]
  },
  {
   "cell_type": "code",
   "execution_count": 25,
   "metadata": {},
   "outputs": [
    {
     "data": {
      "text/plain": [
       "Index(['Year', 'State', 'Pop'], dtype='object')"
      ]
     },
     "execution_count": 25,
     "metadata": {},
     "output_type": "execute_result"
    }
   ],
   "source": [
    "df.columns"
   ]
  },
  {
   "cell_type": "code",
   "execution_count": 26,
   "metadata": {},
   "outputs": [
    {
     "data": {
      "text/plain": [
       "RangeIndex(start=0, stop=6, step=1)"
      ]
     },
     "execution_count": 26,
     "metadata": {},
     "output_type": "execute_result"
    }
   ],
   "source": [
    "df.index"
   ]
  },
  {
   "cell_type": "markdown",
   "metadata": {},
   "source": [
    "## A column in DataFrame can be retrieved as a Series either by dict-like notation or  by attribute"
   ]
  },
  {
   "cell_type": "code",
   "execution_count": 27,
   "metadata": {},
   "outputs": [
    {
     "data": {
      "text/plain": [
       "0      Ohio\n",
       "1      Ohio\n",
       "2      Ohio\n",
       "3    Neveda\n",
       "4    Neveda\n",
       "5    Neveda\n",
       "Name: State, dtype: object"
      ]
     },
     "execution_count": 27,
     "metadata": {},
     "output_type": "execute_result"
    }
   ],
   "source": [
    "df['State'] #this is dict-like notation access"
   ]
  },
  {
   "cell_type": "code",
   "execution_count": 28,
   "metadata": {},
   "outputs": [
    {
     "data": {
      "text/plain": [
       "0      Ohio\n",
       "1      Ohio\n",
       "2      Ohio\n",
       "3    Neveda\n",
       "4    Neveda\n",
       "5    Neveda\n",
       "Name: State, dtype: object"
      ]
     },
     "execution_count": 28,
     "metadata": {},
     "output_type": "execute_result"
    }
   ],
   "source": [
    "#this is another method to access which is attribute style\n",
    "df.State"
   ]
  },
  {
   "cell_type": "code",
   "execution_count": 29,
   "metadata": {},
   "outputs": [
    {
     "data": {
      "text/html": [
       "<div>\n",
       "<style scoped>\n",
       "    .dataframe tbody tr th:only-of-type {\n",
       "        vertical-align: middle;\n",
       "    }\n",
       "\n",
       "    .dataframe tbody tr th {\n",
       "        vertical-align: top;\n",
       "    }\n",
       "\n",
       "    .dataframe thead th {\n",
       "        text-align: right;\n",
       "    }\n",
       "</style>\n",
       "<table border=\"1\" class=\"dataframe\">\n",
       "  <thead>\n",
       "    <tr style=\"text-align: right;\">\n",
       "      <th></th>\n",
       "      <th>State</th>\n",
       "      <th>Year</th>\n",
       "      <th>Pop</th>\n",
       "    </tr>\n",
       "  </thead>\n",
       "  <tbody>\n",
       "    <tr>\n",
       "      <th>0</th>\n",
       "      <td>Ohio</td>\n",
       "      <td>2000</td>\n",
       "      <td>1.5</td>\n",
       "    </tr>\n",
       "    <tr>\n",
       "      <th>1</th>\n",
       "      <td>Ohio</td>\n",
       "      <td>2001</td>\n",
       "      <td>1.7</td>\n",
       "    </tr>\n",
       "    <tr>\n",
       "      <th>2</th>\n",
       "      <td>Ohio</td>\n",
       "      <td>2002</td>\n",
       "      <td>3.4</td>\n",
       "    </tr>\n",
       "    <tr>\n",
       "      <th>3</th>\n",
       "      <td>Neveda</td>\n",
       "      <td>2001</td>\n",
       "      <td>2.4</td>\n",
       "    </tr>\n",
       "    <tr>\n",
       "      <th>4</th>\n",
       "      <td>Neveda</td>\n",
       "      <td>2002</td>\n",
       "      <td>2.9</td>\n",
       "    </tr>\n",
       "  </tbody>\n",
       "</table>\n",
       "</div>"
      ],
      "text/plain": [
       "    State  Year  Pop\n",
       "0    Ohio  2000  1.5\n",
       "1    Ohio  2001  1.7\n",
       "2    Ohio  2002  3.4\n",
       "3  Neveda  2001  2.4\n",
       "4  Neveda  2002  2.9"
      ]
     },
     "execution_count": 29,
     "metadata": {},
     "output_type": "execute_result"
    }
   ],
   "source": [
    "state = ['Ohio', 'Ohio', 'Ohio', 'Neveda', 'Neveda', 'Neveda' ]\n",
    "year = [2000, 2001, 2002, 2001, 2002, 2003]\n",
    "pop = [1.5, 1.7, 3.4, 2.4, 2.9, 3.2]\n",
    "data = { 'State': state,\n",
    "       'Year': year,\n",
    "       'Pop': pop}\n",
    "df = pd.DataFrame(data)\n",
    "df.head()"
   ]
  },
  {
   "cell_type": "code",
   "execution_count": 30,
   "metadata": {},
   "outputs": [
    {
     "name": "stdout",
     "output_type": "stream",
     "text": [
      "[0 1 2 3 4 5]\n"
     ]
    },
    {
     "data": {
      "text/html": [
       "<div>\n",
       "<style scoped>\n",
       "    .dataframe tbody tr th:only-of-type {\n",
       "        vertical-align: middle;\n",
       "    }\n",
       "\n",
       "    .dataframe tbody tr th {\n",
       "        vertical-align: top;\n",
       "    }\n",
       "\n",
       "    .dataframe thead th {\n",
       "        text-align: right;\n",
       "    }\n",
       "</style>\n",
       "<table border=\"1\" class=\"dataframe\">\n",
       "  <thead>\n",
       "    <tr style=\"text-align: right;\">\n",
       "      <th></th>\n",
       "      <th>year</th>\n",
       "      <th>state</th>\n",
       "      <th>pop</th>\n",
       "      <th>debt</th>\n",
       "    </tr>\n",
       "  </thead>\n",
       "  <tbody>\n",
       "    <tr>\n",
       "      <th>one</th>\n",
       "      <td>NaN</td>\n",
       "      <td>NaN</td>\n",
       "      <td>NaN</td>\n",
       "      <td>0</td>\n",
       "    </tr>\n",
       "    <tr>\n",
       "      <th>two</th>\n",
       "      <td>NaN</td>\n",
       "      <td>NaN</td>\n",
       "      <td>NaN</td>\n",
       "      <td>1</td>\n",
       "    </tr>\n",
       "    <tr>\n",
       "      <th>three</th>\n",
       "      <td>NaN</td>\n",
       "      <td>NaN</td>\n",
       "      <td>NaN</td>\n",
       "      <td>2</td>\n",
       "    </tr>\n",
       "    <tr>\n",
       "      <th>four</th>\n",
       "      <td>NaN</td>\n",
       "      <td>NaN</td>\n",
       "      <td>NaN</td>\n",
       "      <td>3</td>\n",
       "    </tr>\n",
       "    <tr>\n",
       "      <th>five</th>\n",
       "      <td>NaN</td>\n",
       "      <td>NaN</td>\n",
       "      <td>NaN</td>\n",
       "      <td>4</td>\n",
       "    </tr>\n",
       "  </tbody>\n",
       "</table>\n",
       "</div>"
      ],
      "text/plain": [
       "      year state  pop  debt\n",
       "one    NaN   NaN  NaN     0\n",
       "two    NaN   NaN  NaN     1\n",
       "three  NaN   NaN  NaN     2\n",
       "four   NaN   NaN  NaN     3\n",
       "five   NaN   NaN  NaN     4"
      ]
     },
     "execution_count": 30,
     "metadata": {},
     "output_type": "execute_result"
    }
   ],
   "source": [
    "frame2 = pd.DataFrame(data, columns =['year', 'state', 'pop', 'debt'],\n",
    "                     index = ['one', 'two', 'three', 'four', 'five', 'six'])\n",
    "ln = len(frame2)\n",
    "rng = np.arange(ln)\n",
    "print(rng)\n",
    "frame2['debt'] = rng\n",
    "frame2.head()"
   ]
  },
  {
   "cell_type": "markdown",
   "metadata": {},
   "source": [
    "## Point to remember, inserting new values, needs to be match in length of DataFrame ( mean number of elements)"
   ]
  },
  {
   "cell_type": "markdown",
   "metadata": {},
   "source": [
    "## Function Application and Mapping"
   ]
  },
  {
   "cell_type": "code",
   "execution_count": 31,
   "metadata": {},
   "outputs": [
    {
     "name": "stdout",
     "output_type": "stream",
     "text": [
      "               b         d         e\n",
      "Uthao   1.676846  0.464122  0.794390\n",
      "Ohio    1.130889  0.680709  0.649698\n",
      "Texas   0.247402  0.195910  0.180344\n",
      "Oregon  0.961897  0.072979  0.896362\n",
      "-0.6807092711968465\n",
      "0.4641223033340845\n",
      "0.0\n",
      "b    2.807735\n",
      "d    1.144832\n",
      "e    1.690751\n",
      "dtype: float64 <class 'pandas.core.series.Series'>\n",
      "                                b         d         e\n",
      "<built-in function max>  1.676846  0.464122  0.794390\n",
      "<built-in function min> -1.130889 -0.680709 -0.896362 <class 'pandas.core.frame.DataFrame'>\n"
     ]
    }
   ],
   "source": [
    "frame = pd.DataFrame(np.random.randn(4,3),\n",
    "                    columns = list('bde'),\n",
    "                    index = ['Uthao', 'Ohio', 'Texas', 'Oregon'])\n",
    "#print(frame)\n",
    "print(np.abs(frame))\n",
    "\n",
    "#using simple method\n",
    "print(frame['d'].min())\n",
    "print(frame['d'].max())\n",
    "print(frame['d'].min() - frame['d'].min())\n",
    "\n",
    "\n",
    "#using lamda function \n",
    "f = lambda x: x.max() - x.min()\n",
    "df = frame.apply(f)\n",
    "print(df, type(df))\n",
    "\n",
    "\n",
    "#using simple functions\n",
    "def min_max(x):\n",
    "    minimum = x.min()\n",
    "    maximum = x.max()\n",
    "    return pd.Series([maximum, minimum], index =[max, min])\n",
    "\n",
    "df = frame.apply(min_max)\n",
    "print(df, type(df))"
   ]
  },
  {
   "cell_type": "code",
   "execution_count": 32,
   "metadata": {},
   "outputs": [
    {
     "name": "stdout",
     "output_type": "stream",
     "text": [
      "          one  two  three  four\n",
      "Ohio        0    1      2     3\n",
      "Colorado    4    5      6     7\n",
      "Utah        8    9     10    11\n",
      "New York   12   13     14    15 \n",
      "\n",
      "          one  three  four\n",
      "Ohio        0      2     3\n",
      "Colorado    4      6     7\n",
      "Utah        8     10    11\n",
      "New York   12     14    15\n"
     ]
    }
   ],
   "source": [
    "import numpy as np\n",
    "import pandas as pd\n",
    "\n",
    "data_df = pd.DataFrame(np.arange(16).reshape((4, 4)),\n",
    "                      index=['Ohio', 'Colorado', 'Utah', 'New York'],\n",
    "                      columns=['one', 'two', 'three', 'four'])\n",
    "\n",
    "print(data_df, '\\n')\n",
    "data_df = data_df.drop('two', axis=1) #deleting columns\n",
    "print(data_df)"
   ]
  },
  {
   "cell_type": "code",
   "execution_count": 33,
   "metadata": {},
   "outputs": [
    {
     "name": "stdout",
     "output_type": "stream",
     "text": [
      "          one  three  four\n",
      "Ohio        0      2     3\n",
      "Utah        8     10    11\n",
      "New York   12     14    15\n"
     ]
    }
   ],
   "source": [
    "data_df = data_df.drop('Colorado', axis=0) #deleting rows\n",
    "print(data_df)"
   ]
  },
  {
   "cell_type": "markdown",
   "metadata": {},
   "source": [
    "# Indexing,  Selection and Filtering"
   ]
  },
  {
   "cell_type": "code",
   "execution_count": 34,
   "metadata": {},
   "outputs": [
    {
     "name": "stdout",
     "output_type": "stream",
     "text": [
      "0      blue\n",
      "3    purple\n",
      "6    yellow\n",
      "dtype: object\n",
      "0      blue\n",
      "1      blue\n",
      "2      blue\n",
      "3    purple\n",
      "4    purple\n",
      "5    purple\n",
      "6    yellow\n",
      "7    yellow\n",
      "8    yellow\n",
      "dtype: object\n"
     ]
    }
   ],
   "source": [
    "obj3 = pd.Series(['blue', 'purple', 'yellow'], index=[0,3,6])\n",
    "print(obj3)\n",
    "#might create a new rows\n",
    "#obj3 = obj3.reindex(range(9))\n",
    "#print(obj3, '\\n')\n",
    "obj3 = obj3.reindex(range(9), method='ffill')\n",
    "print(obj3)\n"
   ]
  },
  {
   "cell_type": "markdown",
   "metadata": {},
   "source": [
    "# Data Loading, Storage and File Formatting"
   ]
  },
  {
   "cell_type": "code",
   "execution_count": 35,
   "metadata": {},
   "outputs": [
    {
     "name": "stdout",
     "output_type": "stream",
     "text": [
      "  studentid         name   chimestry   physics   english   math\n",
      "0       A01     arif ali          20        30        40     50\n",
      "1       A02  kamran khan          30        40        50     60\n",
      "2       A03   imran ali           40        50        60     70\n",
      "3       A04  kashif khan          50        60        70     80\n"
     ]
    }
   ],
   "source": [
    "import pandas as pd\n",
    "\n",
    "sample_df = pd.read_csv(\"examples/sample.csv\")\n",
    "print(sample_df)"
   ]
  },
  {
   "cell_type": "code",
   "execution_count": 36,
   "metadata": {},
   "outputs": [
    {
     "name": "stdout",
     "output_type": "stream",
     "text": [
      "          id         name        chem       phy       eng    mth\n",
      "0  studentid         name   chimestry   physics   english   math\n",
      "1        A01     arif ali          20        30        40     50\n",
      "2        A02  kamran khan          30        40        50     60\n",
      "3        A03   imran ali           40        50        60     70\n",
      "4        A04  kashif khan          50        60        70     80\n"
     ]
    }
   ],
   "source": [
    "sample_df = pd.read_csv(\"examples/sample.csv\", \n",
    "                       names = ['id', 'name', 'chem', 'phy', 'eng', 'mth']) # we can change the column names while loading\n",
    "print(sample_df)"
   ]
  },
  {
   "cell_type": "code",
   "execution_count": 37,
   "metadata": {},
   "outputs": [
    {
     "name": "stdout",
     "output_type": "stream",
     "text": [
      "    id         name  chem  phy  eng  mth\n",
      "0  A01     arif ali    20   30   40   50\n",
      "1  A02  kamran khan    30   40   50   60\n",
      "2  A03   imran ali     40   50   60   70\n",
      "3  A04  kashif khan    50   60   70   80\n"
     ]
    }
   ],
   "source": [
    "#skip rows\n",
    "sample_df = pd.read_csv(\"examples/sample.csv\", skiprows = 1,\n",
    "                       names = ['id', 'name', 'chem', 'phy', 'eng', 'mth']) # we can change the column names while loading\n",
    "print(sample_df)"
   ]
  },
  {
   "cell_type": "code",
   "execution_count": 38,
   "metadata": {},
   "outputs": [
    {
     "name": "stdout",
     "output_type": "stream",
     "text": [
      "  key1 key2  value1  value2\n",
      "0  one    a       1       2\n",
      "1  one    b       3       4\n",
      "2  one    c       5       6\n",
      "3  one    d       7       8\n",
      "4  two    a       9      10\n",
      "5  two    b      11      12\n",
      "6  two    c      13      14\n",
      "7  two    d      15      16\n"
     ]
    },
    {
     "data": {
      "text/html": [
       "<div>\n",
       "<style scoped>\n",
       "    .dataframe tbody tr th:only-of-type {\n",
       "        vertical-align: middle;\n",
       "    }\n",
       "\n",
       "    .dataframe tbody tr th {\n",
       "        vertical-align: top;\n",
       "    }\n",
       "\n",
       "    .dataframe thead th {\n",
       "        text-align: right;\n",
       "    }\n",
       "</style>\n",
       "<table border=\"1\" class=\"dataframe\">\n",
       "  <thead>\n",
       "    <tr style=\"text-align: right;\">\n",
       "      <th></th>\n",
       "      <th></th>\n",
       "      <th>value1</th>\n",
       "      <th>value2</th>\n",
       "    </tr>\n",
       "    <tr>\n",
       "      <th>key1</th>\n",
       "      <th>key2</th>\n",
       "      <th></th>\n",
       "      <th></th>\n",
       "    </tr>\n",
       "  </thead>\n",
       "  <tbody>\n",
       "    <tr>\n",
       "      <th rowspan=\"4\" valign=\"top\">one</th>\n",
       "      <th>a</th>\n",
       "      <td>1</td>\n",
       "      <td>2</td>\n",
       "    </tr>\n",
       "    <tr>\n",
       "      <th>b</th>\n",
       "      <td>3</td>\n",
       "      <td>4</td>\n",
       "    </tr>\n",
       "    <tr>\n",
       "      <th>c</th>\n",
       "      <td>5</td>\n",
       "      <td>6</td>\n",
       "    </tr>\n",
       "    <tr>\n",
       "      <th>d</th>\n",
       "      <td>7</td>\n",
       "      <td>8</td>\n",
       "    </tr>\n",
       "    <tr>\n",
       "      <th rowspan=\"4\" valign=\"top\">two</th>\n",
       "      <th>a</th>\n",
       "      <td>9</td>\n",
       "      <td>10</td>\n",
       "    </tr>\n",
       "    <tr>\n",
       "      <th>b</th>\n",
       "      <td>11</td>\n",
       "      <td>12</td>\n",
       "    </tr>\n",
       "    <tr>\n",
       "      <th>c</th>\n",
       "      <td>13</td>\n",
       "      <td>14</td>\n",
       "    </tr>\n",
       "    <tr>\n",
       "      <th>d</th>\n",
       "      <td>15</td>\n",
       "      <td>16</td>\n",
       "    </tr>\n",
       "  </tbody>\n",
       "</table>\n",
       "</div>"
      ],
      "text/plain": [
       "           value1  value2\n",
       "key1 key2                \n",
       "one  a          1       2\n",
       "     b          3       4\n",
       "     c          5       6\n",
       "     d          7       8\n",
       "two  a          9      10\n",
       "     b         11      12\n",
       "     c         13      14\n",
       "     d         15      16"
      ]
     },
     "execution_count": 38,
     "metadata": {},
     "output_type": "execute_result"
    }
   ],
   "source": [
    "s2_df = pd.read_csv(\"examples/sample2.csv\")\n",
    "print(s2_df)\n",
    "\n",
    "parsed = pd.read_csv(\"examples/sample2.csv\", index_col = ['key1', 'key2'])\n",
    "parsed"
   ]
  },
  {
   "cell_type": "markdown",
   "metadata": {},
   "source": [
    "## Handling missing values"
   ]
  },
  {
   "cell_type": "code",
   "execution_count": 39,
   "metadata": {},
   "outputs": [
    {
     "name": "stdout",
     "output_type": "stream",
     "text": [
      "  something  a   b     c   d message\n",
      "0       one  1   2   3.0   4     NaN\n",
      "1       two  5   6   NaN   8   world\n",
      "2     three  9  10  11.0  12     foo\n"
     ]
    }
   ],
   "source": [
    "result = pd.read_csv(\"examples/sample3.csv\")\n",
    "print(result)"
   ]
  },
  {
   "cell_type": "code",
   "execution_count": 40,
   "metadata": {},
   "outputs": [
    {
     "data": {
      "text/html": [
       "<div>\n",
       "<style scoped>\n",
       "    .dataframe tbody tr th:only-of-type {\n",
       "        vertical-align: middle;\n",
       "    }\n",
       "\n",
       "    .dataframe tbody tr th {\n",
       "        vertical-align: top;\n",
       "    }\n",
       "\n",
       "    .dataframe thead th {\n",
       "        text-align: right;\n",
       "    }\n",
       "</style>\n",
       "<table border=\"1\" class=\"dataframe\">\n",
       "  <thead>\n",
       "    <tr style=\"text-align: right;\">\n",
       "      <th></th>\n",
       "      <th>something</th>\n",
       "      <th>a</th>\n",
       "      <th>b</th>\n",
       "      <th>c</th>\n",
       "      <th>d</th>\n",
       "      <th>message</th>\n",
       "    </tr>\n",
       "  </thead>\n",
       "  <tbody>\n",
       "    <tr>\n",
       "      <th>0</th>\n",
       "      <td>one</td>\n",
       "      <td>1</td>\n",
       "      <td>2</td>\n",
       "      <td>3.0</td>\n",
       "      <td>4</td>\n",
       "      <td>NaN</td>\n",
       "    </tr>\n",
       "    <tr>\n",
       "      <th>1</th>\n",
       "      <td>two</td>\n",
       "      <td>5</td>\n",
       "      <td>6</td>\n",
       "      <td>NaN</td>\n",
       "      <td>8</td>\n",
       "      <td>world</td>\n",
       "    </tr>\n",
       "    <tr>\n",
       "      <th>2</th>\n",
       "      <td>three</td>\n",
       "      <td>9</td>\n",
       "      <td>10</td>\n",
       "      <td>11.0</td>\n",
       "      <td>12</td>\n",
       "      <td>NaN</td>\n",
       "    </tr>\n",
       "  </tbody>\n",
       "</table>\n",
       "</div>"
      ],
      "text/plain": [
       "  something  a   b     c   d message\n",
       "0       one  1   2   3.0   4     NaN\n",
       "1       two  5   6   NaN   8   world\n",
       "2     three  9  10  11.0  12     NaN"
      ]
     },
     "execution_count": 40,
     "metadata": {},
     "output_type": "execute_result"
    }
   ],
   "source": [
    "#changing data while loading \n",
    "#dictionary = {coulumn_name : [source_value, target_value]}\n",
    "sentinals = {'message' : ['foo', 'NA']}\n",
    "pd.read_csv(\"examples/sample3.csv\", na_values=sentinals)"
   ]
  },
  {
   "cell_type": "code",
   "execution_count": 41,
   "metadata": {},
   "outputs": [],
   "source": [
    "result = pd.read_csv(\"examples/sample3.csv\", na_values=[\"NULL\"])"
   ]
  },
  {
   "cell_type": "markdown",
   "metadata": {},
   "source": [
    "## Reading and Text files in pieces"
   ]
  },
  {
   "cell_type": "code",
   "execution_count": 42,
   "metadata": {},
   "outputs": [
    {
     "data": {
      "text/html": [
       "<div>\n",
       "<style scoped>\n",
       "    .dataframe tbody tr th:only-of-type {\n",
       "        vertical-align: middle;\n",
       "    }\n",
       "\n",
       "    .dataframe tbody tr th {\n",
       "        vertical-align: top;\n",
       "    }\n",
       "\n",
       "    .dataframe thead th {\n",
       "        text-align: right;\n",
       "    }\n",
       "</style>\n",
       "<table border=\"1\" class=\"dataframe\">\n",
       "  <thead>\n",
       "    <tr style=\"text-align: right;\">\n",
       "      <th></th>\n",
       "      <th>battery_power</th>\n",
       "      <th>blue</th>\n",
       "      <th>clock_speed</th>\n",
       "      <th>dual_sim</th>\n",
       "      <th>fc</th>\n",
       "      <th>four_g</th>\n",
       "      <th>int_memory</th>\n",
       "      <th>m_dep</th>\n",
       "      <th>mobile_wt</th>\n",
       "      <th>n_cores</th>\n",
       "      <th>...</th>\n",
       "      <th>px_height</th>\n",
       "      <th>px_width</th>\n",
       "      <th>ram</th>\n",
       "      <th>sc_h</th>\n",
       "      <th>sc_w</th>\n",
       "      <th>talk_time</th>\n",
       "      <th>three_g</th>\n",
       "      <th>touch_screen</th>\n",
       "      <th>wifi</th>\n",
       "      <th>price_range</th>\n",
       "    </tr>\n",
       "  </thead>\n",
       "  <tbody>\n",
       "    <tr>\n",
       "      <th>0</th>\n",
       "      <td>842</td>\n",
       "      <td>0</td>\n",
       "      <td>2.2</td>\n",
       "      <td>0</td>\n",
       "      <td>1</td>\n",
       "      <td>0</td>\n",
       "      <td>7</td>\n",
       "      <td>0.6</td>\n",
       "      <td>188</td>\n",
       "      <td>2</td>\n",
       "      <td>...</td>\n",
       "      <td>20</td>\n",
       "      <td>756</td>\n",
       "      <td>2549</td>\n",
       "      <td>9</td>\n",
       "      <td>7</td>\n",
       "      <td>19</td>\n",
       "      <td>0</td>\n",
       "      <td>0</td>\n",
       "      <td>1</td>\n",
       "      <td>1</td>\n",
       "    </tr>\n",
       "    <tr>\n",
       "      <th>1</th>\n",
       "      <td>1021</td>\n",
       "      <td>1</td>\n",
       "      <td>0.5</td>\n",
       "      <td>1</td>\n",
       "      <td>0</td>\n",
       "      <td>1</td>\n",
       "      <td>53</td>\n",
       "      <td>0.7</td>\n",
       "      <td>136</td>\n",
       "      <td>3</td>\n",
       "      <td>...</td>\n",
       "      <td>905</td>\n",
       "      <td>1988</td>\n",
       "      <td>2631</td>\n",
       "      <td>17</td>\n",
       "      <td>3</td>\n",
       "      <td>7</td>\n",
       "      <td>1</td>\n",
       "      <td>1</td>\n",
       "      <td>0</td>\n",
       "      <td>2</td>\n",
       "    </tr>\n",
       "    <tr>\n",
       "      <th>2</th>\n",
       "      <td>563</td>\n",
       "      <td>1</td>\n",
       "      <td>0.5</td>\n",
       "      <td>1</td>\n",
       "      <td>2</td>\n",
       "      <td>1</td>\n",
       "      <td>41</td>\n",
       "      <td>0.9</td>\n",
       "      <td>145</td>\n",
       "      <td>5</td>\n",
       "      <td>...</td>\n",
       "      <td>1263</td>\n",
       "      <td>1716</td>\n",
       "      <td>2603</td>\n",
       "      <td>11</td>\n",
       "      <td>2</td>\n",
       "      <td>9</td>\n",
       "      <td>1</td>\n",
       "      <td>1</td>\n",
       "      <td>0</td>\n",
       "      <td>2</td>\n",
       "    </tr>\n",
       "    <tr>\n",
       "      <th>3</th>\n",
       "      <td>615</td>\n",
       "      <td>1</td>\n",
       "      <td>2.5</td>\n",
       "      <td>0</td>\n",
       "      <td>0</td>\n",
       "      <td>0</td>\n",
       "      <td>10</td>\n",
       "      <td>0.8</td>\n",
       "      <td>131</td>\n",
       "      <td>6</td>\n",
       "      <td>...</td>\n",
       "      <td>1216</td>\n",
       "      <td>1786</td>\n",
       "      <td>2769</td>\n",
       "      <td>16</td>\n",
       "      <td>8</td>\n",
       "      <td>11</td>\n",
       "      <td>1</td>\n",
       "      <td>0</td>\n",
       "      <td>0</td>\n",
       "      <td>2</td>\n",
       "    </tr>\n",
       "    <tr>\n",
       "      <th>4</th>\n",
       "      <td>1821</td>\n",
       "      <td>1</td>\n",
       "      <td>1.2</td>\n",
       "      <td>0</td>\n",
       "      <td>13</td>\n",
       "      <td>1</td>\n",
       "      <td>44</td>\n",
       "      <td>0.6</td>\n",
       "      <td>141</td>\n",
       "      <td>2</td>\n",
       "      <td>...</td>\n",
       "      <td>1208</td>\n",
       "      <td>1212</td>\n",
       "      <td>1411</td>\n",
       "      <td>8</td>\n",
       "      <td>2</td>\n",
       "      <td>15</td>\n",
       "      <td>1</td>\n",
       "      <td>1</td>\n",
       "      <td>0</td>\n",
       "      <td>1</td>\n",
       "    </tr>\n",
       "    <tr>\n",
       "      <th>...</th>\n",
       "      <td>...</td>\n",
       "      <td>...</td>\n",
       "      <td>...</td>\n",
       "      <td>...</td>\n",
       "      <td>...</td>\n",
       "      <td>...</td>\n",
       "      <td>...</td>\n",
       "      <td>...</td>\n",
       "      <td>...</td>\n",
       "      <td>...</td>\n",
       "      <td>...</td>\n",
       "      <td>...</td>\n",
       "      <td>...</td>\n",
       "      <td>...</td>\n",
       "      <td>...</td>\n",
       "      <td>...</td>\n",
       "      <td>...</td>\n",
       "      <td>...</td>\n",
       "      <td>...</td>\n",
       "      <td>...</td>\n",
       "      <td>...</td>\n",
       "    </tr>\n",
       "    <tr>\n",
       "      <th>1995</th>\n",
       "      <td>794</td>\n",
       "      <td>1</td>\n",
       "      <td>0.5</td>\n",
       "      <td>1</td>\n",
       "      <td>0</td>\n",
       "      <td>1</td>\n",
       "      <td>2</td>\n",
       "      <td>0.8</td>\n",
       "      <td>106</td>\n",
       "      <td>6</td>\n",
       "      <td>...</td>\n",
       "      <td>1222</td>\n",
       "      <td>1890</td>\n",
       "      <td>668</td>\n",
       "      <td>13</td>\n",
       "      <td>4</td>\n",
       "      <td>19</td>\n",
       "      <td>1</td>\n",
       "      <td>1</td>\n",
       "      <td>0</td>\n",
       "      <td>0</td>\n",
       "    </tr>\n",
       "    <tr>\n",
       "      <th>1996</th>\n",
       "      <td>1965</td>\n",
       "      <td>1</td>\n",
       "      <td>2.6</td>\n",
       "      <td>1</td>\n",
       "      <td>0</td>\n",
       "      <td>0</td>\n",
       "      <td>39</td>\n",
       "      <td>0.2</td>\n",
       "      <td>187</td>\n",
       "      <td>4</td>\n",
       "      <td>...</td>\n",
       "      <td>915</td>\n",
       "      <td>1965</td>\n",
       "      <td>2032</td>\n",
       "      <td>11</td>\n",
       "      <td>10</td>\n",
       "      <td>16</td>\n",
       "      <td>1</td>\n",
       "      <td>1</td>\n",
       "      <td>1</td>\n",
       "      <td>2</td>\n",
       "    </tr>\n",
       "    <tr>\n",
       "      <th>1997</th>\n",
       "      <td>1911</td>\n",
       "      <td>0</td>\n",
       "      <td>0.9</td>\n",
       "      <td>1</td>\n",
       "      <td>1</td>\n",
       "      <td>1</td>\n",
       "      <td>36</td>\n",
       "      <td>0.7</td>\n",
       "      <td>108</td>\n",
       "      <td>8</td>\n",
       "      <td>...</td>\n",
       "      <td>868</td>\n",
       "      <td>1632</td>\n",
       "      <td>3057</td>\n",
       "      <td>9</td>\n",
       "      <td>1</td>\n",
       "      <td>5</td>\n",
       "      <td>1</td>\n",
       "      <td>1</td>\n",
       "      <td>0</td>\n",
       "      <td>3</td>\n",
       "    </tr>\n",
       "    <tr>\n",
       "      <th>1998</th>\n",
       "      <td>1512</td>\n",
       "      <td>0</td>\n",
       "      <td>0.9</td>\n",
       "      <td>0</td>\n",
       "      <td>4</td>\n",
       "      <td>1</td>\n",
       "      <td>46</td>\n",
       "      <td>0.1</td>\n",
       "      <td>145</td>\n",
       "      <td>5</td>\n",
       "      <td>...</td>\n",
       "      <td>336</td>\n",
       "      <td>670</td>\n",
       "      <td>869</td>\n",
       "      <td>18</td>\n",
       "      <td>10</td>\n",
       "      <td>19</td>\n",
       "      <td>1</td>\n",
       "      <td>1</td>\n",
       "      <td>1</td>\n",
       "      <td>0</td>\n",
       "    </tr>\n",
       "    <tr>\n",
       "      <th>1999</th>\n",
       "      <td>510</td>\n",
       "      <td>1</td>\n",
       "      <td>2.0</td>\n",
       "      <td>1</td>\n",
       "      <td>5</td>\n",
       "      <td>1</td>\n",
       "      <td>45</td>\n",
       "      <td>0.9</td>\n",
       "      <td>168</td>\n",
       "      <td>6</td>\n",
       "      <td>...</td>\n",
       "      <td>483</td>\n",
       "      <td>754</td>\n",
       "      <td>3919</td>\n",
       "      <td>19</td>\n",
       "      <td>4</td>\n",
       "      <td>2</td>\n",
       "      <td>1</td>\n",
       "      <td>1</td>\n",
       "      <td>1</td>\n",
       "      <td>3</td>\n",
       "    </tr>\n",
       "  </tbody>\n",
       "</table>\n",
       "<p>2000 rows × 21 columns</p>\n",
       "</div>"
      ],
      "text/plain": [
       "      battery_power  blue  clock_speed  dual_sim  fc  four_g  int_memory  \\\n",
       "0               842     0          2.2         0   1       0           7   \n",
       "1              1021     1          0.5         1   0       1          53   \n",
       "2               563     1          0.5         1   2       1          41   \n",
       "3               615     1          2.5         0   0       0          10   \n",
       "4              1821     1          1.2         0  13       1          44   \n",
       "...             ...   ...          ...       ...  ..     ...         ...   \n",
       "1995            794     1          0.5         1   0       1           2   \n",
       "1996           1965     1          2.6         1   0       0          39   \n",
       "1997           1911     0          0.9         1   1       1          36   \n",
       "1998           1512     0          0.9         0   4       1          46   \n",
       "1999            510     1          2.0         1   5       1          45   \n",
       "\n",
       "      m_dep  mobile_wt  n_cores  ...  px_height  px_width   ram  sc_h  sc_w  \\\n",
       "0       0.6        188        2  ...         20       756  2549     9     7   \n",
       "1       0.7        136        3  ...        905      1988  2631    17     3   \n",
       "2       0.9        145        5  ...       1263      1716  2603    11     2   \n",
       "3       0.8        131        6  ...       1216      1786  2769    16     8   \n",
       "4       0.6        141        2  ...       1208      1212  1411     8     2   \n",
       "...     ...        ...      ...  ...        ...       ...   ...   ...   ...   \n",
       "1995    0.8        106        6  ...       1222      1890   668    13     4   \n",
       "1996    0.2        187        4  ...        915      1965  2032    11    10   \n",
       "1997    0.7        108        8  ...        868      1632  3057     9     1   \n",
       "1998    0.1        145        5  ...        336       670   869    18    10   \n",
       "1999    0.9        168        6  ...        483       754  3919    19     4   \n",
       "\n",
       "      talk_time  three_g  touch_screen  wifi  price_range  \n",
       "0            19        0             0     1            1  \n",
       "1             7        1             1     0            2  \n",
       "2             9        1             1     0            2  \n",
       "3            11        1             0     0            2  \n",
       "4            15        1             1     0            1  \n",
       "...         ...      ...           ...   ...          ...  \n",
       "1995         19        1             1     0            0  \n",
       "1996         16        1             1     1            2  \n",
       "1997          5        1             1     0            3  \n",
       "1998         19        1             1     1            0  \n",
       "1999          2        1             1     1            3  \n",
       "\n",
       "[2000 rows x 21 columns]"
      ]
     },
     "execution_count": 42,
     "metadata": {},
     "output_type": "execute_result"
    }
   ],
   "source": [
    "pd.read_csv(\"datasets/train.csv\")\n"
   ]
  },
  {
   "cell_type": "code",
   "execution_count": 43,
   "metadata": {},
   "outputs": [
    {
     "data": {
      "text/html": [
       "<div>\n",
       "<style scoped>\n",
       "    .dataframe tbody tr th:only-of-type {\n",
       "        vertical-align: middle;\n",
       "    }\n",
       "\n",
       "    .dataframe tbody tr th {\n",
       "        vertical-align: top;\n",
       "    }\n",
       "\n",
       "    .dataframe thead th {\n",
       "        text-align: right;\n",
       "    }\n",
       "</style>\n",
       "<table border=\"1\" class=\"dataframe\">\n",
       "  <thead>\n",
       "    <tr style=\"text-align: right;\">\n",
       "      <th></th>\n",
       "      <th>battery_power</th>\n",
       "      <th>blue</th>\n",
       "      <th>clock_speed</th>\n",
       "      <th>dual_sim</th>\n",
       "      <th>fc</th>\n",
       "      <th>four_g</th>\n",
       "      <th>int_memory</th>\n",
       "      <th>m_dep</th>\n",
       "      <th>mobile_wt</th>\n",
       "      <th>n_cores</th>\n",
       "      <th>...</th>\n",
       "      <th>px_height</th>\n",
       "      <th>px_width</th>\n",
       "      <th>ram</th>\n",
       "      <th>sc_h</th>\n",
       "      <th>sc_w</th>\n",
       "      <th>talk_time</th>\n",
       "      <th>three_g</th>\n",
       "      <th>touch_screen</th>\n",
       "      <th>wifi</th>\n",
       "      <th>price_range</th>\n",
       "    </tr>\n",
       "  </thead>\n",
       "  <tbody>\n",
       "    <tr>\n",
       "      <th>0</th>\n",
       "      <td>842</td>\n",
       "      <td>0</td>\n",
       "      <td>2.2</td>\n",
       "      <td>0</td>\n",
       "      <td>1</td>\n",
       "      <td>0</td>\n",
       "      <td>7</td>\n",
       "      <td>0.6</td>\n",
       "      <td>188</td>\n",
       "      <td>2</td>\n",
       "      <td>...</td>\n",
       "      <td>20</td>\n",
       "      <td>756</td>\n",
       "      <td>2549</td>\n",
       "      <td>9</td>\n",
       "      <td>7</td>\n",
       "      <td>19</td>\n",
       "      <td>0</td>\n",
       "      <td>0</td>\n",
       "      <td>1</td>\n",
       "      <td>1</td>\n",
       "    </tr>\n",
       "    <tr>\n",
       "      <th>1</th>\n",
       "      <td>1021</td>\n",
       "      <td>1</td>\n",
       "      <td>0.5</td>\n",
       "      <td>1</td>\n",
       "      <td>0</td>\n",
       "      <td>1</td>\n",
       "      <td>53</td>\n",
       "      <td>0.7</td>\n",
       "      <td>136</td>\n",
       "      <td>3</td>\n",
       "      <td>...</td>\n",
       "      <td>905</td>\n",
       "      <td>1988</td>\n",
       "      <td>2631</td>\n",
       "      <td>17</td>\n",
       "      <td>3</td>\n",
       "      <td>7</td>\n",
       "      <td>1</td>\n",
       "      <td>1</td>\n",
       "      <td>0</td>\n",
       "      <td>2</td>\n",
       "    </tr>\n",
       "    <tr>\n",
       "      <th>2</th>\n",
       "      <td>563</td>\n",
       "      <td>1</td>\n",
       "      <td>0.5</td>\n",
       "      <td>1</td>\n",
       "      <td>2</td>\n",
       "      <td>1</td>\n",
       "      <td>41</td>\n",
       "      <td>0.9</td>\n",
       "      <td>145</td>\n",
       "      <td>5</td>\n",
       "      <td>...</td>\n",
       "      <td>1263</td>\n",
       "      <td>1716</td>\n",
       "      <td>2603</td>\n",
       "      <td>11</td>\n",
       "      <td>2</td>\n",
       "      <td>9</td>\n",
       "      <td>1</td>\n",
       "      <td>1</td>\n",
       "      <td>0</td>\n",
       "      <td>2</td>\n",
       "    </tr>\n",
       "    <tr>\n",
       "      <th>3</th>\n",
       "      <td>615</td>\n",
       "      <td>1</td>\n",
       "      <td>2.5</td>\n",
       "      <td>0</td>\n",
       "      <td>0</td>\n",
       "      <td>0</td>\n",
       "      <td>10</td>\n",
       "      <td>0.8</td>\n",
       "      <td>131</td>\n",
       "      <td>6</td>\n",
       "      <td>...</td>\n",
       "      <td>1216</td>\n",
       "      <td>1786</td>\n",
       "      <td>2769</td>\n",
       "      <td>16</td>\n",
       "      <td>8</td>\n",
       "      <td>11</td>\n",
       "      <td>1</td>\n",
       "      <td>0</td>\n",
       "      <td>0</td>\n",
       "      <td>2</td>\n",
       "    </tr>\n",
       "    <tr>\n",
       "      <th>4</th>\n",
       "      <td>1821</td>\n",
       "      <td>1</td>\n",
       "      <td>1.2</td>\n",
       "      <td>0</td>\n",
       "      <td>13</td>\n",
       "      <td>1</td>\n",
       "      <td>44</td>\n",
       "      <td>0.6</td>\n",
       "      <td>141</td>\n",
       "      <td>2</td>\n",
       "      <td>...</td>\n",
       "      <td>1208</td>\n",
       "      <td>1212</td>\n",
       "      <td>1411</td>\n",
       "      <td>8</td>\n",
       "      <td>2</td>\n",
       "      <td>15</td>\n",
       "      <td>1</td>\n",
       "      <td>1</td>\n",
       "      <td>0</td>\n",
       "      <td>1</td>\n",
       "    </tr>\n",
       "    <tr>\n",
       "      <th>...</th>\n",
       "      <td>...</td>\n",
       "      <td>...</td>\n",
       "      <td>...</td>\n",
       "      <td>...</td>\n",
       "      <td>...</td>\n",
       "      <td>...</td>\n",
       "      <td>...</td>\n",
       "      <td>...</td>\n",
       "      <td>...</td>\n",
       "      <td>...</td>\n",
       "      <td>...</td>\n",
       "      <td>...</td>\n",
       "      <td>...</td>\n",
       "      <td>...</td>\n",
       "      <td>...</td>\n",
       "      <td>...</td>\n",
       "      <td>...</td>\n",
       "      <td>...</td>\n",
       "      <td>...</td>\n",
       "      <td>...</td>\n",
       "      <td>...</td>\n",
       "    </tr>\n",
       "    <tr>\n",
       "      <th>195</th>\n",
       "      <td>1526</td>\n",
       "      <td>0</td>\n",
       "      <td>2.1</td>\n",
       "      <td>0</td>\n",
       "      <td>1</td>\n",
       "      <td>1</td>\n",
       "      <td>23</td>\n",
       "      <td>0.2</td>\n",
       "      <td>117</td>\n",
       "      <td>7</td>\n",
       "      <td>...</td>\n",
       "      <td>718</td>\n",
       "      <td>751</td>\n",
       "      <td>2227</td>\n",
       "      <td>18</td>\n",
       "      <td>10</td>\n",
       "      <td>3</td>\n",
       "      <td>1</td>\n",
       "      <td>1</td>\n",
       "      <td>0</td>\n",
       "      <td>2</td>\n",
       "    </tr>\n",
       "    <tr>\n",
       "      <th>196</th>\n",
       "      <td>1989</td>\n",
       "      <td>0</td>\n",
       "      <td>2.5</td>\n",
       "      <td>1</td>\n",
       "      <td>0</td>\n",
       "      <td>1</td>\n",
       "      <td>41</td>\n",
       "      <td>0.8</td>\n",
       "      <td>94</td>\n",
       "      <td>3</td>\n",
       "      <td>...</td>\n",
       "      <td>1100</td>\n",
       "      <td>1497</td>\n",
       "      <td>1665</td>\n",
       "      <td>17</td>\n",
       "      <td>9</td>\n",
       "      <td>12</td>\n",
       "      <td>1</td>\n",
       "      <td>1</td>\n",
       "      <td>1</td>\n",
       "      <td>2</td>\n",
       "    </tr>\n",
       "    <tr>\n",
       "      <th>197</th>\n",
       "      <td>1308</td>\n",
       "      <td>0</td>\n",
       "      <td>1.9</td>\n",
       "      <td>0</td>\n",
       "      <td>0</td>\n",
       "      <td>1</td>\n",
       "      <td>61</td>\n",
       "      <td>0.7</td>\n",
       "      <td>106</td>\n",
       "      <td>3</td>\n",
       "      <td>...</td>\n",
       "      <td>59</td>\n",
       "      <td>1215</td>\n",
       "      <td>3355</td>\n",
       "      <td>15</td>\n",
       "      <td>2</td>\n",
       "      <td>4</td>\n",
       "      <td>1</td>\n",
       "      <td>0</td>\n",
       "      <td>1</td>\n",
       "      <td>3</td>\n",
       "    </tr>\n",
       "    <tr>\n",
       "      <th>198</th>\n",
       "      <td>609</td>\n",
       "      <td>0</td>\n",
       "      <td>0.5</td>\n",
       "      <td>0</td>\n",
       "      <td>3</td>\n",
       "      <td>0</td>\n",
       "      <td>26</td>\n",
       "      <td>0.3</td>\n",
       "      <td>93</td>\n",
       "      <td>4</td>\n",
       "      <td>...</td>\n",
       "      <td>938</td>\n",
       "      <td>1948</td>\n",
       "      <td>1866</td>\n",
       "      <td>11</td>\n",
       "      <td>10</td>\n",
       "      <td>14</td>\n",
       "      <td>1</td>\n",
       "      <td>1</td>\n",
       "      <td>1</td>\n",
       "      <td>1</td>\n",
       "    </tr>\n",
       "    <tr>\n",
       "      <th>199</th>\n",
       "      <td>1905</td>\n",
       "      <td>0</td>\n",
       "      <td>0.6</td>\n",
       "      <td>1</td>\n",
       "      <td>9</td>\n",
       "      <td>1</td>\n",
       "      <td>36</td>\n",
       "      <td>0.4</td>\n",
       "      <td>119</td>\n",
       "      <td>3</td>\n",
       "      <td>...</td>\n",
       "      <td>825</td>\n",
       "      <td>1542</td>\n",
       "      <td>1287</td>\n",
       "      <td>13</td>\n",
       "      <td>4</td>\n",
       "      <td>16</td>\n",
       "      <td>1</td>\n",
       "      <td>0</td>\n",
       "      <td>0</td>\n",
       "      <td>1</td>\n",
       "    </tr>\n",
       "  </tbody>\n",
       "</table>\n",
       "<p>200 rows × 21 columns</p>\n",
       "</div>"
      ],
      "text/plain": [
       "     battery_power  blue  clock_speed  dual_sim  fc  four_g  int_memory  \\\n",
       "0              842     0          2.2         0   1       0           7   \n",
       "1             1021     1          0.5         1   0       1          53   \n",
       "2              563     1          0.5         1   2       1          41   \n",
       "3              615     1          2.5         0   0       0          10   \n",
       "4             1821     1          1.2         0  13       1          44   \n",
       "..             ...   ...          ...       ...  ..     ...         ...   \n",
       "195           1526     0          2.1         0   1       1          23   \n",
       "196           1989     0          2.5         1   0       1          41   \n",
       "197           1308     0          1.9         0   0       1          61   \n",
       "198            609     0          0.5         0   3       0          26   \n",
       "199           1905     0          0.6         1   9       1          36   \n",
       "\n",
       "     m_dep  mobile_wt  n_cores  ...  px_height  px_width   ram  sc_h  sc_w  \\\n",
       "0      0.6        188        2  ...         20       756  2549     9     7   \n",
       "1      0.7        136        3  ...        905      1988  2631    17     3   \n",
       "2      0.9        145        5  ...       1263      1716  2603    11     2   \n",
       "3      0.8        131        6  ...       1216      1786  2769    16     8   \n",
       "4      0.6        141        2  ...       1208      1212  1411     8     2   \n",
       "..     ...        ...      ...  ...        ...       ...   ...   ...   ...   \n",
       "195    0.2        117        7  ...        718       751  2227    18    10   \n",
       "196    0.8         94        3  ...       1100      1497  1665    17     9   \n",
       "197    0.7        106        3  ...         59      1215  3355    15     2   \n",
       "198    0.3         93        4  ...        938      1948  1866    11    10   \n",
       "199    0.4        119        3  ...        825      1542  1287    13     4   \n",
       "\n",
       "     talk_time  three_g  touch_screen  wifi  price_range  \n",
       "0           19        0             0     1            1  \n",
       "1            7        1             1     0            2  \n",
       "2            9        1             1     0            2  \n",
       "3           11        1             0     0            2  \n",
       "4           15        1             1     0            1  \n",
       "..         ...      ...           ...   ...          ...  \n",
       "195          3        1             1     0            2  \n",
       "196         12        1             1     1            2  \n",
       "197          4        1             0     1            3  \n",
       "198         14        1             1     1            1  \n",
       "199         16        1             0     0            1  \n",
       "\n",
       "[200 rows x 21 columns]"
      ]
     },
     "execution_count": 43,
     "metadata": {},
     "output_type": "execute_result"
    }
   ],
   "source": [
    "#extracting selected rows from a large datasets\n",
    "pd.read_csv(\"datasets/train.csv\", nrows=200)"
   ]
  },
  {
   "cell_type": "code",
   "execution_count": 44,
   "metadata": {},
   "outputs": [
    {
     "data": {
      "text/html": [
       "<div>\n",
       "<style scoped>\n",
       "    .dataframe tbody tr th:only-of-type {\n",
       "        vertical-align: middle;\n",
       "    }\n",
       "\n",
       "    .dataframe tbody tr th {\n",
       "        vertical-align: top;\n",
       "    }\n",
       "\n",
       "    .dataframe thead th {\n",
       "        text-align: right;\n",
       "    }\n",
       "</style>\n",
       "<table border=\"1\" class=\"dataframe\">\n",
       "  <thead>\n",
       "    <tr style=\"text-align: right;\">\n",
       "      <th></th>\n",
       "      <th>battery_power</th>\n",
       "      <th>blue</th>\n",
       "      <th>clock_speed</th>\n",
       "      <th>dual_sim</th>\n",
       "      <th>fc</th>\n",
       "      <th>four_g</th>\n",
       "      <th>int_memory</th>\n",
       "      <th>m_dep</th>\n",
       "      <th>mobile_wt</th>\n",
       "      <th>n_cores</th>\n",
       "      <th>...</th>\n",
       "      <th>px_height</th>\n",
       "      <th>px_width</th>\n",
       "      <th>ram</th>\n",
       "      <th>sc_h</th>\n",
       "      <th>sc_w</th>\n",
       "      <th>talk_time</th>\n",
       "      <th>three_g</th>\n",
       "      <th>touch_screen</th>\n",
       "      <th>wifi</th>\n",
       "      <th>price_range</th>\n",
       "    </tr>\n",
       "  </thead>\n",
       "  <tbody>\n",
       "    <tr>\n",
       "      <th>0</th>\n",
       "      <td>842</td>\n",
       "      <td>0</td>\n",
       "      <td>2.2</td>\n",
       "      <td>0</td>\n",
       "      <td>1</td>\n",
       "      <td>0</td>\n",
       "      <td>7</td>\n",
       "      <td>0.6</td>\n",
       "      <td>188</td>\n",
       "      <td>2</td>\n",
       "      <td>...</td>\n",
       "      <td>20</td>\n",
       "      <td>756</td>\n",
       "      <td>2549</td>\n",
       "      <td>9</td>\n",
       "      <td>7</td>\n",
       "      <td>19</td>\n",
       "      <td>0</td>\n",
       "      <td>0</td>\n",
       "      <td>1</td>\n",
       "      <td>1</td>\n",
       "    </tr>\n",
       "    <tr>\n",
       "      <th>1</th>\n",
       "      <td>1021</td>\n",
       "      <td>1</td>\n",
       "      <td>0.5</td>\n",
       "      <td>1</td>\n",
       "      <td>0</td>\n",
       "      <td>1</td>\n",
       "      <td>53</td>\n",
       "      <td>0.7</td>\n",
       "      <td>136</td>\n",
       "      <td>3</td>\n",
       "      <td>...</td>\n",
       "      <td>905</td>\n",
       "      <td>1988</td>\n",
       "      <td>2631</td>\n",
       "      <td>17</td>\n",
       "      <td>3</td>\n",
       "      <td>7</td>\n",
       "      <td>1</td>\n",
       "      <td>1</td>\n",
       "      <td>0</td>\n",
       "      <td>2</td>\n",
       "    </tr>\n",
       "    <tr>\n",
       "      <th>2</th>\n",
       "      <td>563</td>\n",
       "      <td>1</td>\n",
       "      <td>0.5</td>\n",
       "      <td>1</td>\n",
       "      <td>2</td>\n",
       "      <td>1</td>\n",
       "      <td>41</td>\n",
       "      <td>0.9</td>\n",
       "      <td>145</td>\n",
       "      <td>5</td>\n",
       "      <td>...</td>\n",
       "      <td>1263</td>\n",
       "      <td>1716</td>\n",
       "      <td>2603</td>\n",
       "      <td>11</td>\n",
       "      <td>2</td>\n",
       "      <td>9</td>\n",
       "      <td>1</td>\n",
       "      <td>1</td>\n",
       "      <td>0</td>\n",
       "      <td>2</td>\n",
       "    </tr>\n",
       "    <tr>\n",
       "      <th>3</th>\n",
       "      <td>615</td>\n",
       "      <td>1</td>\n",
       "      <td>2.5</td>\n",
       "      <td>0</td>\n",
       "      <td>0</td>\n",
       "      <td>0</td>\n",
       "      <td>10</td>\n",
       "      <td>0.8</td>\n",
       "      <td>131</td>\n",
       "      <td>6</td>\n",
       "      <td>...</td>\n",
       "      <td>1216</td>\n",
       "      <td>1786</td>\n",
       "      <td>2769</td>\n",
       "      <td>16</td>\n",
       "      <td>8</td>\n",
       "      <td>11</td>\n",
       "      <td>1</td>\n",
       "      <td>0</td>\n",
       "      <td>0</td>\n",
       "      <td>2</td>\n",
       "    </tr>\n",
       "    <tr>\n",
       "      <th>4</th>\n",
       "      <td>1821</td>\n",
       "      <td>1</td>\n",
       "      <td>1.2</td>\n",
       "      <td>0</td>\n",
       "      <td>13</td>\n",
       "      <td>1</td>\n",
       "      <td>44</td>\n",
       "      <td>0.6</td>\n",
       "      <td>141</td>\n",
       "      <td>2</td>\n",
       "      <td>...</td>\n",
       "      <td>1208</td>\n",
       "      <td>1212</td>\n",
       "      <td>1411</td>\n",
       "      <td>8</td>\n",
       "      <td>2</td>\n",
       "      <td>15</td>\n",
       "      <td>1</td>\n",
       "      <td>1</td>\n",
       "      <td>0</td>\n",
       "      <td>1</td>\n",
       "    </tr>\n",
       "  </tbody>\n",
       "</table>\n",
       "<p>5 rows × 21 columns</p>\n",
       "</div>"
      ],
      "text/plain": [
       "   battery_power  blue  clock_speed  dual_sim  fc  four_g  int_memory  m_dep  \\\n",
       "0            842     0          2.2         0   1       0           7    0.6   \n",
       "1           1021     1          0.5         1   0       1          53    0.7   \n",
       "2            563     1          0.5         1   2       1          41    0.9   \n",
       "3            615     1          2.5         0   0       0          10    0.8   \n",
       "4           1821     1          1.2         0  13       1          44    0.6   \n",
       "\n",
       "   mobile_wt  n_cores  ...  px_height  px_width   ram  sc_h  sc_w  talk_time  \\\n",
       "0        188        2  ...         20       756  2549     9     7         19   \n",
       "1        136        3  ...        905      1988  2631    17     3          7   \n",
       "2        145        5  ...       1263      1716  2603    11     2          9   \n",
       "3        131        6  ...       1216      1786  2769    16     8         11   \n",
       "4        141        2  ...       1208      1212  1411     8     2         15   \n",
       "\n",
       "   three_g  touch_screen  wifi  price_range  \n",
       "0        0             0     1            1  \n",
       "1        1             1     0            2  \n",
       "2        1             1     0            2  \n",
       "3        1             0     0            2  \n",
       "4        1             1     0            1  \n",
       "\n",
       "[5 rows x 21 columns]"
      ]
     },
     "execution_count": 44,
     "metadata": {},
     "output_type": "execute_result"
    }
   ],
   "source": [
    "#to read a file in pieces, specify a chunksize as a number of rows:\n",
    "chunks = pd.read_csv(\"datasets/train.csv\", chunksize=200)\n",
    "chunkList = []\n",
    "for chunk in chunks:\n",
    "    #print(chunk.head())\n",
    "    chunkList.append(chunk)\n",
    "    \n",
    "df = chunkList[0]\n",
    "df.head()"
   ]
  },
  {
   "cell_type": "markdown",
   "metadata": {},
   "source": [
    "## Reading from Multipsace Text File"
   ]
  },
  {
   "cell_type": "code",
   "execution_count": 45,
   "metadata": {},
   "outputs": [
    {
     "name": "stdout",
     "output_type": "stream",
     "text": [
      "['            A         B         C\\n', 'aaa -0.264438 -1.026059 -0.619500\\n', 'bbb  0.927272  0.302904 -0.032399\\n', 'ccc -0.264273 -0.386314 -0.217601\\n', 'ddd -0.871858 -0.348382  1.100491\\n']\n"
     ]
    },
    {
     "data": {
      "text/html": [
       "<div>\n",
       "<style scoped>\n",
       "    .dataframe tbody tr th:only-of-type {\n",
       "        vertical-align: middle;\n",
       "    }\n",
       "\n",
       "    .dataframe tbody tr th {\n",
       "        vertical-align: top;\n",
       "    }\n",
       "\n",
       "    .dataframe thead th {\n",
       "        text-align: right;\n",
       "    }\n",
       "</style>\n",
       "<table border=\"1\" class=\"dataframe\">\n",
       "  <thead>\n",
       "    <tr style=\"text-align: right;\">\n",
       "      <th></th>\n",
       "      <th>A</th>\n",
       "      <th>B</th>\n",
       "      <th>C</th>\n",
       "    </tr>\n",
       "  </thead>\n",
       "  <tbody>\n",
       "    <tr>\n",
       "      <th>aaa</th>\n",
       "      <td>-0.264438</td>\n",
       "      <td>-1.026059</td>\n",
       "      <td>-0.619500</td>\n",
       "    </tr>\n",
       "    <tr>\n",
       "      <th>bbb</th>\n",
       "      <td>0.927272</td>\n",
       "      <td>0.302904</td>\n",
       "      <td>-0.032399</td>\n",
       "    </tr>\n",
       "    <tr>\n",
       "      <th>ccc</th>\n",
       "      <td>-0.264273</td>\n",
       "      <td>-0.386314</td>\n",
       "      <td>-0.217601</td>\n",
       "    </tr>\n",
       "    <tr>\n",
       "      <th>ddd</th>\n",
       "      <td>-0.871858</td>\n",
       "      <td>-0.348382</td>\n",
       "      <td>1.100491</td>\n",
       "    </tr>\n",
       "  </tbody>\n",
       "</table>\n",
       "</div>"
      ],
      "text/plain": [
       "            A         B         C\n",
       "aaa -0.264438 -1.026059 -0.619500\n",
       "bbb  0.927272  0.302904 -0.032399\n",
       "ccc -0.264273 -0.386314 -0.217601\n",
       "ddd -0.871858 -0.348382  1.100491"
      ]
     },
     "execution_count": 45,
     "metadata": {},
     "output_type": "execute_result"
    }
   ],
   "source": [
    "data = list(open(\"examples/ex3.txt\"))\n",
    "print(data)\n",
    "result = pd.read_table(\"examples/ex3.txt\", sep='\\s+')\n",
    "result"
   ]
  },
  {
   "cell_type": "code",
   "execution_count": 46,
   "metadata": {},
   "outputs": [
    {
     "data": {
      "text/html": [
       "<div>\n",
       "<style scoped>\n",
       "    .dataframe tbody tr th:only-of-type {\n",
       "        vertical-align: middle;\n",
       "    }\n",
       "\n",
       "    .dataframe tbody tr th {\n",
       "        vertical-align: top;\n",
       "    }\n",
       "\n",
       "    .dataframe thead th {\n",
       "        text-align: right;\n",
       "    }\n",
       "</style>\n",
       "<table border=\"1\" class=\"dataframe\">\n",
       "  <thead>\n",
       "    <tr style=\"text-align: right;\">\n",
       "      <th></th>\n",
       "      <th></th>\n",
       "      <th></th>\n",
       "      <th></th>\n",
       "      <th># hey!</th>\n",
       "    </tr>\n",
       "  </thead>\n",
       "  <tbody>\n",
       "    <tr>\n",
       "      <th>a</th>\n",
       "      <th>b</th>\n",
       "      <th>c</th>\n",
       "      <th>d</th>\n",
       "      <td>message</td>\n",
       "    </tr>\n",
       "    <tr>\n",
       "      <th># just wanted to make things more difficult for you</th>\n",
       "      <th>NaN</th>\n",
       "      <th>NaN</th>\n",
       "      <th>NaN</th>\n",
       "      <td>NaN</td>\n",
       "    </tr>\n",
       "    <tr>\n",
       "      <th># who reads CSV files with computers</th>\n",
       "      <th>anyway?</th>\n",
       "      <th>NaN</th>\n",
       "      <th>NaN</th>\n",
       "      <td>NaN</td>\n",
       "    </tr>\n",
       "    <tr>\n",
       "      <th>1</th>\n",
       "      <th>2</th>\n",
       "      <th>3</th>\n",
       "      <th>4</th>\n",
       "      <td>hello</td>\n",
       "    </tr>\n",
       "    <tr>\n",
       "      <th>5</th>\n",
       "      <th>6</th>\n",
       "      <th>7</th>\n",
       "      <th>8</th>\n",
       "      <td>world</td>\n",
       "    </tr>\n",
       "    <tr>\n",
       "      <th>9</th>\n",
       "      <th>10</th>\n",
       "      <th>11</th>\n",
       "      <th>12</th>\n",
       "      <td>foo</td>\n",
       "    </tr>\n",
       "  </tbody>\n",
       "</table>\n",
       "</div>"
      ],
      "text/plain": [
       "                                                                      # hey!\n",
       "a                                                  b        c   d    message\n",
       "# just wanted to make things more difficult for... NaN      NaN NaN      NaN\n",
       "# who reads CSV files with computers                anyway? NaN NaN      NaN\n",
       "1                                                  2        3   4      hello\n",
       "5                                                  6        7   8      world\n",
       "9                                                  10       11  12       foo"
      ]
     },
     "execution_count": 46,
     "metadata": {},
     "output_type": "execute_result"
    }
   ],
   "source": [
    "df = pd.read_csv(\"examples/ex4.csv\")\n",
    "df"
   ]
  },
  {
   "cell_type": "code",
   "execution_count": 47,
   "metadata": {},
   "outputs": [
    {
     "data": {
      "text/html": [
       "<div>\n",
       "<style scoped>\n",
       "    .dataframe tbody tr th:only-of-type {\n",
       "        vertical-align: middle;\n",
       "    }\n",
       "\n",
       "    .dataframe tbody tr th {\n",
       "        vertical-align: top;\n",
       "    }\n",
       "\n",
       "    .dataframe thead th {\n",
       "        text-align: right;\n",
       "    }\n",
       "</style>\n",
       "<table border=\"1\" class=\"dataframe\">\n",
       "  <thead>\n",
       "    <tr style=\"text-align: right;\">\n",
       "      <th></th>\n",
       "      <th>a</th>\n",
       "      <th>b</th>\n",
       "      <th>c</th>\n",
       "      <th>d</th>\n",
       "      <th>message</th>\n",
       "    </tr>\n",
       "  </thead>\n",
       "  <tbody>\n",
       "    <tr>\n",
       "      <th>0</th>\n",
       "      <td>1</td>\n",
       "      <td>2</td>\n",
       "      <td>3</td>\n",
       "      <td>4</td>\n",
       "      <td>hello</td>\n",
       "    </tr>\n",
       "    <tr>\n",
       "      <th>1</th>\n",
       "      <td>5</td>\n",
       "      <td>6</td>\n",
       "      <td>7</td>\n",
       "      <td>8</td>\n",
       "      <td>world</td>\n",
       "    </tr>\n",
       "    <tr>\n",
       "      <th>2</th>\n",
       "      <td>9</td>\n",
       "      <td>10</td>\n",
       "      <td>11</td>\n",
       "      <td>12</td>\n",
       "      <td>foo</td>\n",
       "    </tr>\n",
       "  </tbody>\n",
       "</table>\n",
       "</div>"
      ],
      "text/plain": [
       "   a   b   c   d message\n",
       "0  1   2   3   4   hello\n",
       "1  5   6   7   8   world\n",
       "2  9  10  11  12     foo"
      ]
     },
     "execution_count": 47,
     "metadata": {},
     "output_type": "execute_result"
    }
   ],
   "source": [
    "df = pd.read_csv(\"examples/ex4.csv\", skiprows=[0,2,3])\n",
    "df"
   ]
  },
  {
   "cell_type": "markdown",
   "metadata": {},
   "source": [
    "## Writing Data to Text Format"
   ]
  },
  {
   "cell_type": "code",
   "execution_count": 48,
   "metadata": {},
   "outputs": [
    {
     "name": "stdout",
     "output_type": "stream",
     "text": [
      "  something  a   b     c   d message\n",
      "0       one  1   2   3.0   4     NaN\n",
      "1       two  5   6   NaN   8   world\n",
      "2     three  9  10  11.0  12     foo\n"
     ]
    }
   ],
   "source": [
    "data = pd.read_csv(\"examples/ex5.csv\")\n",
    "print(data)\n",
    "data.to_csv(\"examples/out.csv\")"
   ]
  },
  {
   "cell_type": "code",
   "execution_count": 49,
   "metadata": {},
   "outputs": [],
   "source": [
    "import numpy as np\n"
   ]
  },
  {
   "cell_type": "code",
   "execution_count": 50,
   "metadata": {},
   "outputs": [
    {
     "name": "stdout",
     "output_type": "stream",
     "text": [
      "DatetimeIndex(['2000-01-01', '2000-01-02', '2000-01-03', '2000-01-04',\n",
      "               '2000-01-05', '2000-01-06', '2000-01-07'],\n",
      "              dtype='datetime64[ns]', freq='D')\n"
     ]
    }
   ],
   "source": [
    "dates = pd.date_range('1/1/2000', periods=7)\n",
    "print(dates)\n",
    "ts = pd.Series(dates, index = np.arange(7))\n",
    "ts.to_csv(\"examples/ts.csv\")"
   ]
  },
  {
   "cell_type": "markdown",
   "metadata": {},
   "source": [
    "## Working with Delimited Formats"
   ]
  },
  {
   "cell_type": "code",
   "execution_count": 51,
   "metadata": {},
   "outputs": [],
   "source": [
    "import csv"
   ]
  },
  {
   "cell_type": "code",
   "execution_count": 52,
   "metadata": {},
   "outputs": [
    {
     "name": "stdout",
     "output_type": "stream",
     "text": [
      "['a', 'b', 'c']\n",
      "['1', '2', '3']\n",
      "['1', '2', '3']\n"
     ]
    }
   ],
   "source": [
    "f = open(\"examples/ex7.csv\")\n",
    "reader = csv.reader(f)\n",
    "for line in reader:\n",
    "    print(line)"
   ]
  },
  {
   "cell_type": "markdown",
   "metadata": {},
   "source": [
    "## JSON Data\n",
    "short  for JavaScript Object Notation"
   ]
  },
  {
   "cell_type": "code",
   "execution_count": 53,
   "metadata": {},
   "outputs": [
    {
     "data": {
      "text/html": [
       "<div>\n",
       "<style scoped>\n",
       "    .dataframe tbody tr th:only-of-type {\n",
       "        vertical-align: middle;\n",
       "    }\n",
       "\n",
       "    .dataframe tbody tr th {\n",
       "        vertical-align: top;\n",
       "    }\n",
       "\n",
       "    .dataframe thead th {\n",
       "        text-align: right;\n",
       "    }\n",
       "</style>\n",
       "<table border=\"1\" class=\"dataframe\">\n",
       "  <thead>\n",
       "    <tr style=\"text-align: right;\">\n",
       "      <th></th>\n",
       "      <th>a</th>\n",
       "      <th>b</th>\n",
       "      <th>c</th>\n",
       "    </tr>\n",
       "  </thead>\n",
       "  <tbody>\n",
       "    <tr>\n",
       "      <th>0</th>\n",
       "      <td>1</td>\n",
       "      <td>2</td>\n",
       "      <td>3</td>\n",
       "    </tr>\n",
       "    <tr>\n",
       "      <th>1</th>\n",
       "      <td>4</td>\n",
       "      <td>5</td>\n",
       "      <td>6</td>\n",
       "    </tr>\n",
       "    <tr>\n",
       "      <th>2</th>\n",
       "      <td>7</td>\n",
       "      <td>8</td>\n",
       "      <td>9</td>\n",
       "    </tr>\n",
       "  </tbody>\n",
       "</table>\n",
       "</div>"
      ],
      "text/plain": [
       "   a  b  c\n",
       "0  1  2  3\n",
       "1  4  5  6\n",
       "2  7  8  9"
      ]
     },
     "execution_count": 53,
     "metadata": {},
     "output_type": "execute_result"
    }
   ],
   "source": [
    "data = pd.read_json(\"examples/example.json\")\n",
    "data"
   ]
  },
  {
   "cell_type": "markdown",
   "metadata": {},
   "source": [
    "## Web Data Loading"
   ]
  },
  {
   "cell_type": "code",
   "execution_count": 54,
   "metadata": {},
   "outputs": [
    {
     "name": "stdout",
     "output_type": "stream",
     "text": [
      "<class 'list'>\n",
      "1\n",
      "<class 'pandas.core.frame.DataFrame'>\n",
      "(547, 7)\n",
      "Index(['Bank Name', 'City', 'ST', 'CERT', 'Acquiring Institution',\n",
      "       'Closing Date', 'Updated Date'],\n",
      "      dtype='object')\n",
      "0           Mulberry\n",
      "1           Woodbury\n",
      "2    King of Prussia\n",
      "3            Memphis\n",
      "4          Milwaukee\n",
      "Name: City, dtype: object\n",
      "0                     Allied Bank\n",
      "1    The Woodbury Banking Company\n",
      "2          First CornerStone Bank\n",
      "3              Trust Company Bank\n",
      "4      North Milwaukee State Bank\n",
      "Name: Bank Name, dtype: object\n",
      "                      Bank Name             City  ST   CERT  \\\n",
      "0                   Allied Bank         Mulberry  AR     91   \n",
      "1  The Woodbury Banking Company         Woodbury  GA  11297   \n",
      "2        First CornerStone Bank  King of Prussia  PA  35312   \n",
      "3            Trust Company Bank          Memphis  TN   9956   \n",
      "4    North Milwaukee State Bank        Milwaukee  WI  20364   \n",
      "\n",
      "                 Acquiring Institution        Closing Date       Updated Date  \n",
      "0                         Today's Bank  September 23, 2016  November 17, 2016  \n",
      "1                          United Bank     August 19, 2016  November 17, 2016  \n",
      "2  First-Citizens Bank & Trust Company         May 6, 2016  September 6, 2016  \n",
      "3           The Bank of Fayette County      April 29, 2016  September 6, 2016  \n",
      "4  First-Citizens Bank & Trust Company      March 11, 2016      June 16, 2016  \n",
      "[                             Bank Name             City  ST   CERT  \\\n",
      "0                          Allied Bank         Mulberry  AR     91   \n",
      "1         The Woodbury Banking Company         Woodbury  GA  11297   \n",
      "2               First CornerStone Bank  King of Prussia  PA  35312   \n",
      "3                   Trust Company Bank          Memphis  TN   9956   \n",
      "4           North Milwaukee State Bank        Milwaukee  WI  20364   \n",
      "..                                 ...              ...  ..    ...   \n",
      "542                 Superior Bank, FSB         Hinsdale  IL  32646   \n",
      "543                Malta National Bank            Malta  OH   6629   \n",
      "544    First Alliance Bank & Trust Co.       Manchester  NH  34264   \n",
      "545  National State Bank of Metropolis       Metropolis  IL   3815   \n",
      "546                   Bank of Honolulu         Honolulu  HI  21029   \n",
      "\n",
      "                   Acquiring Institution        Closing Date  \\\n",
      "0                           Today's Bank  September 23, 2016   \n",
      "1                            United Bank     August 19, 2016   \n",
      "2    First-Citizens Bank & Trust Company         May 6, 2016   \n",
      "3             The Bank of Fayette County      April 29, 2016   \n",
      "4    First-Citizens Bank & Trust Company      March 11, 2016   \n",
      "..                                   ...                 ...   \n",
      "542                Superior Federal, FSB       July 27, 2001   \n",
      "543                    North Valley Bank         May 3, 2001   \n",
      "544  Southern New Hampshire Bank & Trust    February 2, 2001   \n",
      "545              Banterra Bank of Marion   December 14, 2000   \n",
      "546                   Bank of the Orient    October 13, 2000   \n",
      "\n",
      "          Updated Date  \n",
      "0    November 17, 2016  \n",
      "1    November 17, 2016  \n",
      "2    September 6, 2016  \n",
      "3    September 6, 2016  \n",
      "4        June 16, 2016  \n",
      "..                 ...  \n",
      "542    August 19, 2014  \n",
      "543  November 18, 2002  \n",
      "544  February 18, 2003  \n",
      "545     March 17, 2005  \n",
      "546     March 17, 2005  \n",
      "\n",
      "[547 rows x 7 columns]]\n"
     ]
    }
   ],
   "source": [
    "tables = pd.read_html(\"examples/fdic_failed_bank_list.html\")\n",
    "print(type(tables))\n",
    "print(len(tables))\n",
    "failures_df = tables[0]\n",
    "print(type(failures_df))\n",
    "print(failures_df.shape)\n",
    "print(failures_df.columns)\n",
    "len(failures_df)\n",
    "print(failures_df[\"City\"].head())\n",
    "print(failures_df[\"Bank Name\"].head())\n",
    "print(failures_df.head())\n",
    "print(tables)"
   ]
  },
  {
   "cell_type": "code",
   "execution_count": 55,
   "metadata": {},
   "outputs": [
    {
     "data": {
      "text/html": [
       "<div>\n",
       "<style scoped>\n",
       "    .dataframe tbody tr th:only-of-type {\n",
       "        vertical-align: middle;\n",
       "    }\n",
       "\n",
       "    .dataframe tbody tr th {\n",
       "        vertical-align: top;\n",
       "    }\n",
       "\n",
       "    .dataframe thead th {\n",
       "        text-align: right;\n",
       "    }\n",
       "</style>\n",
       "<table border=\"1\" class=\"dataframe\">\n",
       "  <thead>\n",
       "    <tr style=\"text-align: right;\">\n",
       "      <th></th>\n",
       "      <th>a</th>\n",
       "      <th>b</th>\n",
       "      <th>c</th>\n",
       "      <th>d</th>\n",
       "      <th>message</th>\n",
       "    </tr>\n",
       "  </thead>\n",
       "  <tbody>\n",
       "    <tr>\n",
       "      <th>0</th>\n",
       "      <td>1</td>\n",
       "      <td>2</td>\n",
       "      <td>3</td>\n",
       "      <td>4</td>\n",
       "      <td>hello</td>\n",
       "    </tr>\n",
       "    <tr>\n",
       "      <th>1</th>\n",
       "      <td>5</td>\n",
       "      <td>6</td>\n",
       "      <td>7</td>\n",
       "      <td>8</td>\n",
       "      <td>world</td>\n",
       "    </tr>\n",
       "    <tr>\n",
       "      <th>2</th>\n",
       "      <td>9</td>\n",
       "      <td>10</td>\n",
       "      <td>11</td>\n",
       "      <td>12</td>\n",
       "      <td>foo</td>\n",
       "    </tr>\n",
       "  </tbody>\n",
       "</table>\n",
       "</div>"
      ],
      "text/plain": [
       "   a   b   c   d message\n",
       "0  1   2   3   4   hello\n",
       "1  5   6   7   8   world\n",
       "2  9  10  11  12     foo"
      ]
     },
     "execution_count": 55,
     "metadata": {},
     "output_type": "execute_result"
    }
   ],
   "source": [
    "frame = pd.read_csv(\"examples/ex1.csv\")\n",
    "frame.to_pickle(\"examples/frame_pickle\")\n",
    "pd.read_pickle(\"examples/frame_pickle\")"
   ]
  },
  {
   "cell_type": "markdown",
   "metadata": {},
   "source": [
    "## HDF "
   ]
  },
  {
   "cell_type": "code",
   "execution_count": 56,
   "metadata": {},
   "outputs": [
    {
     "name": "stdout",
     "output_type": "stream",
     "text": [
      "<class 'pandas.core.frame.DataFrame'>\n",
      "          a\n",
      "0 -1.780712\n",
      "1  0.929520\n",
      "2  0.815142\n",
      "3 -0.051365\n",
      "4 -0.036673\n",
      "------------------------\n"
     ]
    }
   ],
   "source": [
    "frame = pd.DataFrame({'a': np.random.randn(100)})\n",
    "#print(frame)\n",
    "store = pd.HDFStore('mydata.h5')\n",
    "store['obj1'] = frame\n",
    "store['obj1_col'] = frame['a']\n",
    "#print(store)\n",
    "x = store.obj1\n",
    "print(type(x))\n",
    "print(x.head())\n",
    "print('------------------------')\n",
    "store.put('obj2', frame, format='table')\n",
    "store.select('obj2', where=['index >=10 and index <=15'])\n",
    "store.close()\n",
    "frame.to_hdf('mydata.h5', 'obj3', format='table')\n",
    "#frame = pd.read_hdf('mydata.h5', 'obj3' , where=['index < 5'])"
   ]
  },
  {
   "cell_type": "markdown",
   "metadata": {},
   "source": [
    " ## Reading MS Excel file"
   ]
  },
  {
   "cell_type": "code",
   "execution_count": 57,
   "metadata": {},
   "outputs": [],
   "source": [
    "import pandas as pd\n",
    "#reading\n",
    "xlsx = pd.ExcelFile(\"examples/ex1.xlsx\")\n",
    "frame = pd.read_excel(\"examples/ex1.xlsx\", \"Sheet1\")\n",
    "#writing\n",
    "writer = pd.ExcelWriter(\"examples/ex2.xlsx\")\n",
    "frame.to_excel(writer, 'Sheet1')\n",
    "writer.save()\n",
    "#alternative option for single sheet\n",
    "frame.to_excel(\"examples/ex2.xlsx\")"
   ]
  },
  {
   "cell_type": "code",
   "execution_count": 58,
   "metadata": {},
   "outputs": [
    {
     "name": "stdout",
     "output_type": "stream",
     "text": [
      "   Unnamed: 0  a   b   c   d message\n",
      "0           0  1   2   3   4   hello\n",
      "1           1  5   6   7   8   world\n",
      "2           2  9  10  11  12     foo\n"
     ]
    }
   ],
   "source": [
    "print(frame)"
   ]
  },
  {
   "cell_type": "markdown",
   "metadata": {},
   "source": [
    "## Working with web APIs"
   ]
  },
  {
   "cell_type": "code",
   "execution_count": 59,
   "metadata": {},
   "outputs": [
    {
     "name": "stdout",
     "output_type": "stream",
     "text": [
      "<Response [200]>\n",
      "[{'url': 'https://api.github.com/repos/pandas-dev/pandas/issues/39957', 'repository_url': 'https://api.github.com/repos/pandas-dev/pandas', 'labels_url': 'https://api.github.com/repos/pandas-dev/pandas/issues/39957/labels{/name}', 'comments_url': 'https://api.github.com/repos/pandas-dev/pandas/issues/39957/comments', 'events_url': 'https://api.github.com/repos/pandas-dev/pandas/issues/39957/events', 'html_url': 'https://github.com/pandas-dev/pandas/pull/39957', 'id': 812860983, 'node_id': 'MDExOlB1bGxSZXF1ZXN0NTc3MTE1NDk1', 'number': 39957, 'title': 'REF: Move transform into apply', 'user': {'login': 'rhshadrach', 'id': 45562402, 'node_id': 'MDQ6VXNlcjQ1NTYyNDAy', 'avatar_url': 'https://avatars.githubusercontent.com/u/45562402?v=4', 'gravatar_id': '', 'url': 'https://api.github.com/users/rhshadrach', 'html_url': 'https://github.com/rhshadrach', 'followers_url': 'https://api.github.com/users/rhshadrach/followers', 'following_url': 'https://api.github.com/users/rhshadrach/following{/other_user}', 'gists_url': 'https://api.github.com/users/rhshadrach/gists{/gist_id}', 'starred_url': 'https://api.github.com/users/rhshadrach/starred{/owner}{/repo}', 'subscriptions_url': 'https://api.github.com/users/rhshadrach/subscriptions', 'organizations_url': 'https://api.github.com/users/rhshadrach/orgs', 'repos_url': 'https://api.github.com/users/rhshadrach/repos', 'events_url': 'https://api.github.com/users/rhshadrach/events{/privacy}', 'received_events_url': 'https://api.github.com/users/rhshadrach/received_events', 'type': 'User', 'site_admin': False}, 'labels': [{'id': 697792067, 'node_id': 'MDU6TGFiZWw2OTc3OTIwNjc=', 'url': 'https://api.github.com/repos/pandas-dev/pandas/labels/Apply', 'name': 'Apply', 'color': 'fbca04', 'default': False, 'description': 'Apply, Aggregate, Transform'}, {'id': 1049312478, 'node_id': 'MDU6TGFiZWwxMDQ5MzEyNDc4', 'url': 'https://api.github.com/repos/pandas-dev/pandas/labels/DataFrame', 'name': 'DataFrame', 'color': '370f77', 'default': False, 'description': 'DataFrame data structure'}, {'id': 127681, 'node_id': 'MDU6TGFiZWwxMjc2ODE=', 'url': 'https://api.github.com/repos/pandas-dev/pandas/labels/Refactor', 'name': 'Refactor', 'color': 'FCE94F', 'default': False, 'description': 'Internal refactoring of code'}, {'id': 1357732944, 'node_id': 'MDU6TGFiZWwxMzU3NzMyOTQ0', 'url': 'https://api.github.com/repos/pandas-dev/pandas/labels/Series', 'name': 'Series', 'color': '8dd5fc', 'default': False, 'description': 'Series data structure'}], 'state': 'open', 'locked': False, 'assignee': None, 'assignees': [], 'milestone': None, 'comments': 0, 'created_at': '2021-02-21T13:53:51Z', 'updated_at': '2021-02-21T13:53:51Z', 'closed_at': None, 'author_association': 'MEMBER', 'active_lock_reason': None, 'pull_request': {'url': 'https://api.github.com/repos/pandas-dev/pandas/pulls/39957', 'html_url': 'https://github.com/pandas-dev/pandas/pull/39957', 'diff_url': 'https://github.com/pandas-dev/pandas/pull/39957.diff', 'patch_url': 'https://github.com/pandas-dev/pandas/pull/39957.patch'}, 'body': '- [x] Ensure all linting tests pass, see [here](https://pandas.pydata.org/pandas-docs/dev/development/contributing.html#code-standards) for how to run them\\r\\n\\r\\nCleanups and consolidations to follow.', 'performed_via_github_app': None}, {'url': 'https://api.github.com/repos/pandas-dev/pandas/issues/39956', 'repository_url': 'https://api.github.com/repos/pandas-dev/pandas', 'labels_url': 'https://api.github.com/repos/pandas-dev/pandas/issues/39956/labels{/name}', 'comments_url': 'https://api.github.com/repos/pandas-dev/pandas/issues/39956/comments', 'events_url': 'https://api.github.com/repos/pandas-dev/pandas/issues/39956/events', 'html_url': 'https://github.com/pandas-dev/pandas/issues/39956', 'id': 812854224, 'node_id': 'MDU6SXNzdWU4MTI4NTQyMjQ=', 'number': 39956, 'title': 'DOC: Serialization recommendation is deprecated', 'user': {'login': 'chrisroat', 'id': 1053153, 'node_id': 'MDQ6VXNlcjEwNTMxNTM=', 'avatar_url': 'https://avatars.githubusercontent.com/u/1053153?v=4', 'gravatar_id': '', 'url': 'https://api.github.com/users/chrisroat', 'html_url': 'https://github.com/chrisroat', 'followers_url': 'https://api.github.com/users/chrisroat/followers', 'following_url': 'https://api.github.com/users/chrisroat/following{/other_user}', 'gists_url': 'https://api.github.com/users/chrisroat/gists{/gist_id}', 'starred_url': 'https://api.github.com/users/chrisroat/starred{/owner}{/repo}', 'subscriptions_url': 'https://api.github.com/users/chrisroat/subscriptions', 'organizations_url': 'https://api.github.com/users/chrisroat/orgs', 'repos_url': 'https://api.github.com/users/chrisroat/repos', 'events_url': 'https://api.github.com/users/chrisroat/events{/privacy}', 'received_events_url': 'https://api.github.com/users/chrisroat/received_events', 'type': 'User', 'site_admin': False}, 'labels': [{'id': 134699, 'node_id': 'MDU6TGFiZWwxMzQ2OTk=', 'url': 'https://api.github.com/repos/pandas-dev/pandas/labels/Docs', 'name': 'Docs', 'color': '3465A4', 'default': False, 'description': None}, {'id': 1954720290, 'node_id': 'MDU6TGFiZWwxOTU0NzIwMjkw', 'url': 'https://api.github.com/repos/pandas-dev/pandas/labels/Needs%20Triage', 'name': 'Needs Triage', 'color': '0052cc', 'default': False, 'description': 'Issue that has not been reviewed by a pandas team member'}], 'state': 'open', 'locked': False, 'assignee': None, 'assignees': [], 'milestone': None, 'comments': 2, 'created_at': '2021-02-21T13:19:10Z', 'updated_at': '2021-02-21T14:10:21Z', 'closed_at': None, 'author_association': 'NONE', 'active_lock_reason': None, 'body': '#### Location of the documentation\\r\\n\\r\\nhttps://pandas.pydata.org/pandas-docs/dev/user_guide/io.html#io-msgpack\\r\\n\\r\\n#### Documentation problem\\r\\n\\r\\nSince the deprecation of msgpack for on-the-wire transmission, it is recommended to use pyarrow serialization/deserialization.  However, since pyarrow 2.0, this [has been deprecated](https://arrow.apache.org/docs/python/ipc.html#arbitrary-object-serialization) for arbitrary objects.  A deprecation message is emitted when using the documented code snippet.\\r\\n\\r\\n```\\r\\n$ python\\r\\nPython 3.8.5 (default, Jul 28 2020, 12:59:40) \\r\\n[GCC 9.3.0] on linux\\r\\nType \"help\", \"copyright\", \"credits\" or \"license\" for more information.\\r\\n>>> import pyarrow as pa\\r\\n>>> pa.__version__\\r\\n\\'3.0.0\\'\\r\\n>>> pa.default_serialization_context()\\r\\n<stdin>:1: DeprecationWarning: \\'pyarrow.default_serialization_context\\' is deprecated as of 2.0.0 and will be removed in a future version. Use pickle or the pyarrow IPC functionality instead.\\r\\n<pyarrow.lib.SerializationContext object at 0x7f23dfa36940>\\r\\n>>> \\r\\n```\\r\\n\\r\\n#### Suggested fix for documentation\\r\\n\\r\\nWould pickle be next in line for a recommended on-the-wire format?', 'performed_via_github_app': None}, {'url': 'https://api.github.com/repos/pandas-dev/pandas/issues/39955', 'repository_url': 'https://api.github.com/repos/pandas-dev/pandas', 'labels_url': 'https://api.github.com/repos/pandas-dev/pandas/issues/39955/labels{/name}', 'comments_url': 'https://api.github.com/repos/pandas-dev/pandas/issues/39955/comments', 'events_url': 'https://api.github.com/repos/pandas-dev/pandas/issues/39955/events', 'html_url': 'https://github.com/pandas-dev/pandas/pull/39955', 'id': 812853789, 'node_id': 'MDExOlB1bGxSZXF1ZXN0NTc3MTEwMjA0', 'number': 39955, 'title': 'REF: Move the rest of DataFrame.agg into apply', 'user': {'login': 'rhshadrach', 'id': 45562402, 'node_id': 'MDQ6VXNlcjQ1NTYyNDAy', 'avatar_url': 'https://avatars.githubusercontent.com/u/45562402?v=4', 'gravatar_id': '', 'url': 'https://api.github.com/users/rhshadrach', 'html_url': 'https://github.com/rhshadrach', 'followers_url': 'https://api.github.com/users/rhshadrach/followers', 'following_url': 'https://api.github.com/users/rhshadrach/following{/other_user}', 'gists_url': 'https://api.github.com/users/rhshadrach/gists{/gist_id}', 'starred_url': 'https://api.github.com/users/rhshadrach/starred{/owner}{/repo}', 'subscriptions_url': 'https://api.github.com/users/rhshadrach/subscriptions', 'organizations_url': 'https://api.github.com/users/rhshadrach/orgs', 'repos_url': 'https://api.github.com/users/rhshadrach/repos', 'events_url': 'https://api.github.com/users/rhshadrach/events{/privacy}', 'received_events_url': 'https://api.github.com/users/rhshadrach/received_events', 'type': 'User', 'site_admin': False}, 'labels': [{'id': 697792067, 'node_id': 'MDU6TGFiZWw2OTc3OTIwNjc=', 'url': 'https://api.github.com/repos/pandas-dev/pandas/labels/Apply', 'name': 'Apply', 'color': 'fbca04', 'default': False, 'description': 'Apply, Aggregate, Transform'}, {'id': 1049312478, 'node_id': 'MDU6TGFiZWwxMDQ5MzEyNDc4', 'url': 'https://api.github.com/repos/pandas-dev/pandas/labels/DataFrame', 'name': 'DataFrame', 'color': '370f77', 'default': False, 'description': 'DataFrame data structure'}, {'id': 127681, 'node_id': 'MDU6TGFiZWwxMjc2ODE=', 'url': 'https://api.github.com/repos/pandas-dev/pandas/labels/Refactor', 'name': 'Refactor', 'color': 'FCE94F', 'default': False, 'description': 'Internal refactoring of code'}], 'state': 'open', 'locked': False, 'assignee': None, 'assignees': [], 'milestone': None, 'comments': 0, 'created_at': '2021-02-21T13:16:53Z', 'updated_at': '2021-02-21T13:16:53Z', 'closed_at': None, 'author_association': 'MEMBER', 'active_lock_reason': None, 'pull_request': {'url': 'https://api.github.com/repos/pandas-dev/pandas/pulls/39955', 'html_url': 'https://github.com/pandas-dev/pandas/pull/39955', 'diff_url': 'https://github.com/pandas-dev/pandas/pull/39955.diff', 'patch_url': 'https://github.com/pandas-dev/pandas/pull/39955.patch'}, 'body': '- [x] Ensure all linting tests pass, see [here](https://pandas.pydata.org/pandas-docs/dev/development/contributing.html#code-standards) for how to run ', 'performed_via_github_app': None}, {'url': 'https://api.github.com/repos/pandas-dev/pandas/issues/39954', 'repository_url': 'https://api.github.com/repos/pandas-dev/pandas', 'labels_url': 'https://api.github.com/repos/pandas-dev/pandas/issues/39954/labels{/name}', 'comments_url': 'https://api.github.com/repos/pandas-dev/pandas/issues/39954/comments', 'events_url': 'https://api.github.com/repos/pandas-dev/pandas/issues/39954/events', 'html_url': 'https://github.com/pandas-dev/pandas/pull/39954', 'id': 812845340, 'node_id': 'MDExOlB1bGxSZXF1ZXN0NTc3MTA0Mjk3', 'number': 39954, 'title': 'REF: Move the rest of Series.agg into apply', 'user': {'login': 'rhshadrach', 'id': 45562402, 'node_id': 'MDQ6VXNlcjQ1NTYyNDAy', 'avatar_url': 'https://avatars.githubusercontent.com/u/45562402?v=4', 'gravatar_id': '', 'url': 'https://api.github.com/users/rhshadrach', 'html_url': 'https://github.com/rhshadrach', 'followers_url': 'https://api.github.com/users/rhshadrach/followers', 'following_url': 'https://api.github.com/users/rhshadrach/following{/other_user}', 'gists_url': 'https://api.github.com/users/rhshadrach/gists{/gist_id}', 'starred_url': 'https://api.github.com/users/rhshadrach/starred{/owner}{/repo}', 'subscriptions_url': 'https://api.github.com/users/rhshadrach/subscriptions', 'organizations_url': 'https://api.github.com/users/rhshadrach/orgs', 'repos_url': 'https://api.github.com/users/rhshadrach/repos', 'events_url': 'https://api.github.com/users/rhshadrach/events{/privacy}', 'received_events_url': 'https://api.github.com/users/rhshadrach/received_events', 'type': 'User', 'site_admin': False}, 'labels': [{'id': 697792067, 'node_id': 'MDU6TGFiZWw2OTc3OTIwNjc=', 'url': 'https://api.github.com/repos/pandas-dev/pandas/labels/Apply', 'name': 'Apply', 'color': 'fbca04', 'default': False, 'description': 'Apply, Aggregate, Transform'}, {'id': 127681, 'node_id': 'MDU6TGFiZWwxMjc2ODE=', 'url': 'https://api.github.com/repos/pandas-dev/pandas/labels/Refactor', 'name': 'Refactor', 'color': 'FCE94F', 'default': False, 'description': 'Internal refactoring of code'}, {'id': 1357732944, 'node_id': 'MDU6TGFiZWwxMzU3NzMyOTQ0', 'url': 'https://api.github.com/repos/pandas-dev/pandas/labels/Series', 'name': 'Series', 'color': '8dd5fc', 'default': False, 'description': 'Series data structure'}], 'state': 'open', 'locked': False, 'assignee': None, 'assignees': [], 'milestone': None, 'comments': 0, 'created_at': '2021-02-21T12:34:19Z', 'updated_at': '2021-02-21T12:42:19Z', 'closed_at': None, 'author_association': 'MEMBER', 'active_lock_reason': None, 'pull_request': {'url': 'https://api.github.com/repos/pandas-dev/pandas/pulls/39954', 'html_url': 'https://github.com/pandas-dev/pandas/pull/39954', 'diff_url': 'https://github.com/pandas-dev/pandas/pull/39954.diff', 'patch_url': 'https://github.com/pandas-dev/pandas/pull/39954.patch'}, 'body': '- [x] Ensure all linting tests pass, see [here](https://pandas.pydata.org/pandas-docs/dev/development/contributing.html#code-standards) for how to run them', 'performed_via_github_app': None}, {'url': 'https://api.github.com/repos/pandas-dev/pandas/issues/39953', 'repository_url': 'https://api.github.com/repos/pandas-dev/pandas', 'labels_url': 'https://api.github.com/repos/pandas-dev/pandas/issues/39953/labels{/name}', 'comments_url': 'https://api.github.com/repos/pandas-dev/pandas/issues/39953/comments', 'events_url': 'https://api.github.com/repos/pandas-dev/pandas/issues/39953/events', 'html_url': 'https://github.com/pandas-dev/pandas/pull/39953', 'id': 812842557, 'node_id': 'MDExOlB1bGxSZXF1ZXN0NTc3MTAyMjUx', 'number': 39953, 'title': 'PERF: avoid object conversion in fillna(method=pad|backfill) for masked arrays', 'user': {'login': 'simonjayhawkins', 'id': 13159005, 'node_id': 'MDQ6VXNlcjEzMTU5MDA1', 'avatar_url': 'https://avatars.githubusercontent.com/u/13159005?v=4', 'gravatar_id': '', 'url': 'https://api.github.com/users/simonjayhawkins', 'html_url': 'https://github.com/simonjayhawkins', 'followers_url': 'https://api.github.com/users/simonjayhawkins/followers', 'following_url': 'https://api.github.com/users/simonjayhawkins/following{/other_user}', 'gists_url': 'https://api.github.com/users/simonjayhawkins/gists{/gist_id}', 'starred_url': 'https://api.github.com/users/simonjayhawkins/starred{/owner}{/repo}', 'subscriptions_url': 'https://api.github.com/users/simonjayhawkins/subscriptions', 'organizations_url': 'https://api.github.com/users/simonjayhawkins/orgs', 'repos_url': 'https://api.github.com/users/simonjayhawkins/repos', 'events_url': 'https://api.github.com/users/simonjayhawkins/events{/privacy}', 'received_events_url': 'https://api.github.com/users/simonjayhawkins/received_events', 'type': 'User', 'site_admin': False}, 'labels': [{'id': 2822342, 'node_id': 'MDU6TGFiZWwyODIyMzQy', 'url': 'https://api.github.com/repos/pandas-dev/pandas/labels/Missing-data', 'name': 'Missing-data', 'color': 'd7e102', 'default': False, 'description': None}, {'id': 1817503692, 'node_id': 'MDU6TGFiZWwxODE3NTAzNjky', 'url': 'https://api.github.com/repos/pandas-dev/pandas/labels/NA%20-%20MaskedArrays', 'name': 'NA - MaskedArrays', 'color': '8cc645', 'default': False, 'description': 'Related to pd.NA and nullable extension arrays'}, {'id': 8935311, 'node_id': 'MDU6TGFiZWw4OTM1MzEx', 'url': 'https://api.github.com/repos/pandas-dev/pandas/labels/Performance', 'name': 'Performance', 'color': 'a10c02', 'default': False, 'description': 'Memory or execution speed performance'}], 'state': 'open', 'locked': False, 'assignee': None, 'assignees': [], 'milestone': None, 'comments': 0, 'created_at': '2021-02-21T12:19:42Z', 'updated_at': '2021-02-21T14:36:34Z', 'closed_at': None, 'author_association': 'MEMBER', 'active_lock_reason': None, 'pull_request': {'url': 'https://api.github.com/repos/pandas-dev/pandas/pulls/39953', 'html_url': 'https://github.com/pandas-dev/pandas/pull/39953', 'diff_url': 'https://github.com/pandas-dev/pandas/pull/39953.diff', 'patch_url': 'https://github.com/pandas-dev/pandas/pull/39953.patch'}, 'body': \"```\\r\\n[ 75.00%] ··· frame_methods.Fillna.time_frame_fillna                                                                         ok\\r\\n[ 75.00%] ··· ========= ======== ============ ============= ========== ============= =============\\r\\n              --                                               dtype                              \\r\\n              ------------------ -----------------------------------------------------------------\\r\\n               inplace   method    float64       float32      object       Int64        Float64   \\r\\n              ========= ======== ============ ============= ========== ============= =============\\r\\n                 True     pad     3.44±0.3ms    2.64±0.2ms   307±10ms    3.97±0.2ms    3.72±0.1ms \\r\\n                 True    bfill    3.23±0.2ms    2.89±0.2ms   275±8ms     2.34±0.1ms   2.45±0.09ms \\r\\n                False     pad     3.62±0.1ms   2.06±0.01ms   181±3ms    4.23±0.07ms   4.16±0.07ms \\r\\n                False    bfill    3.59±0.2ms   2.06±0.02ms   186±6ms    4.35±0.09ms   4.18±0.06ms \\r\\n              ========= ======== ============ ============= ========== ============= =============\\r\\n```\\r\\n\\r\\n```\\r\\n       before           after         ratio\\r\\n     [2e5c28fc]       [d3ae0cf1]\\r\\n     <master>         <BaseMaskedArray.fillna>\\r\\n-     2.28±0.06ms      2.06±0.02ms     0.91  frame_methods.Fillna.time_frame_fillna(False, 'bfill', 'float32')\\r\\n-      15.5±0.2ms      2.45±0.09ms     0.16  frame_methods.Fillna.time_frame_fillna(True, 'bfill', 'Float64')\\r\\n-      16.5±0.2ms       2.34±0.1ms     0.14  frame_methods.Fillna.time_frame_fillna(True, 'bfill', 'Int64')\\r\\n-      85.2±0.9ms      4.18±0.06ms     0.05  frame_methods.Fillna.time_frame_fillna(False, 'bfill', 'Float64')\\r\\n-      86.6±0.6ms      4.16±0.07ms     0.05  frame_methods.Fillna.time_frame_fillna(False, 'pad', 'Float64')\\r\\n-      90.9±0.8ms      4.35±0.09ms     0.05  frame_methods.Fillna.time_frame_fillna(False, 'bfill', 'Int64')\\r\\n-      92.4±0.4ms      4.23±0.07ms     0.05  frame_methods.Fillna.time_frame_fillna(False, 'pad', 'Int64')\\r\\n-        85.3±1ms       3.72±0.1ms     0.04  frame_methods.Fillna.time_frame_fillna(True, 'pad', 'Float64')\\r\\n-        92.5±2ms       3.97±0.2ms     0.04  frame_methods.Fillna.time_frame_fillna(True, 'pad', 'Int64')\\r\\n\\r\\nSOME BENCHMARKS HAVE CHANGED SIGNIFICANTLY.\\r\\nPERFORMANCE INCREASED.\\r\\n```\", 'performed_via_github_app': None}, {'url': 'https://api.github.com/repos/pandas-dev/pandas/issues/39952', 'repository_url': 'https://api.github.com/repos/pandas-dev/pandas', 'labels_url': 'https://api.github.com/repos/pandas-dev/pandas/issues/39952/labels{/name}', 'comments_url': 'https://api.github.com/repos/pandas-dev/pandas/issues/39952/comments', 'events_url': 'https://api.github.com/repos/pandas-dev/pandas/issues/39952/events', 'html_url': 'https://github.com/pandas-dev/pandas/pull/39952', 'id': 812832636, 'node_id': 'MDExOlB1bGxSZXF1ZXN0NTc3MDk0OTI1', 'number': 39952, 'title': 'PERF: Styler render improvement by limiting .join()', 'user': {'login': 'attack68', 'id': 24256554, 'node_id': 'MDQ6VXNlcjI0MjU2NTU0', 'avatar_url': 'https://avatars.githubusercontent.com/u/24256554?v=4', 'gravatar_id': '', 'url': 'https://api.github.com/users/attack68', 'html_url': 'https://github.com/attack68', 'followers_url': 'https://api.github.com/users/attack68/followers', 'following_url': 'https://api.github.com/users/attack68/following{/other_user}', 'gists_url': 'https://api.github.com/users/attack68/gists{/gist_id}', 'starred_url': 'https://api.github.com/users/attack68/starred{/owner}{/repo}', 'subscriptions_url': 'https://api.github.com/users/attack68/subscriptions', 'organizations_url': 'https://api.github.com/users/attack68/orgs', 'repos_url': 'https://api.github.com/users/attack68/repos', 'events_url': 'https://api.github.com/users/attack68/events{/privacy}', 'received_events_url': 'https://api.github.com/users/attack68/received_events', 'type': 'User', 'site_admin': False}, 'labels': [], 'state': 'open', 'locked': False, 'assignee': None, 'assignees': [], 'milestone': None, 'comments': 0, 'created_at': '2021-02-21T11:27:43Z', 'updated_at': '2021-02-21T11:29:28Z', 'closed_at': None, 'author_association': 'CONTRIBUTOR', 'active_lock_reason': None, 'pull_request': {'url': 'https://api.github.com/repos/pandas-dev/pandas/pulls/39952', 'html_url': 'https://github.com/pandas-dev/pandas/pull/39952', 'diff_url': 'https://github.com/pandas-dev/pandas/pull/39952.diff', 'patch_url': 'https://github.com/pandas-dev/pandas/pull/39952.patch'}, 'body': 'Currently \\r\\n`<th>` only have attributes when there is a row or column span.\\r\\n`<td>` never have attributes currently.\\r\\nSo there is no need for repititive `join()` operations, especially inside the jinja2 template. Could be preconfigured outside.\\r\\n\\r\\nWe can get around 10-15% better render times.\\r\\n\\r\\n```\\r\\n[ 75.00%] ··· io.style.RenderApply.time_render                                                                                                           ok\\r\\n[ 75.00%] ··· ====== ============ ============\\r\\n              --                rows          \\r\\n              ------ -------------------------\\r\\n               cols       12          120     \\r\\n              ====== ============ ============\\r\\n                12    11.6±0.5ms   77.0±0.5ms \\r\\n                24    29.2±0.5ms    144±1ms   \\r\\n                36    43.7±0.9ms    209±2ms   \\r\\n              ====== ============ ============\\r\\n\\r\\n```\\r\\nversus master\\r\\n```\\r\\n[100.00%] ··· io.style.RenderApply.time_render                                                                                                           ok\\r\\n[100.00%] ··· ====== ============ ==========\\r\\n              --               rows         \\r\\n              ------ -----------------------\\r\\n               cols       12         120    \\r\\n              ====== ============ ==========\\r\\n                12    12.9±0.4ms   89.8±4ms \\r\\n                24    31.4±0.9ms   166±2ms  \\r\\n                36     46.5±2ms    250±40ms \\r\\n              ====== ============ ==========\\r\\n```', 'performed_via_github_app': None}, {'url': 'https://api.github.com/repos/pandas-dev/pandas/issues/39951', 'repository_url': 'https://api.github.com/repos/pandas-dev/pandas', 'labels_url': 'https://api.github.com/repos/pandas-dev/pandas/issues/39951/labels{/name}', 'comments_url': 'https://api.github.com/repos/pandas-dev/pandas/issues/39951/comments', 'events_url': 'https://api.github.com/repos/pandas-dev/pandas/issues/39951/events', 'html_url': 'https://github.com/pandas-dev/pandas/issues/39951', 'id': 812807687, 'node_id': 'MDU6SXNzdWU4MTI4MDc2ODc=', 'number': 39951, 'title': 'BUG: `to_html()` contains deprecated and poorly supported HTML', 'user': {'login': 'attack68', 'id': 24256554, 'node_id': 'MDQ6VXNlcjI0MjU2NTU0', 'avatar_url': 'https://avatars.githubusercontent.com/u/24256554?v=4', 'gravatar_id': '', 'url': 'https://api.github.com/users/attack68', 'html_url': 'https://github.com/attack68', 'followers_url': 'https://api.github.com/users/attack68/followers', 'following_url': 'https://api.github.com/users/attack68/following{/other_user}', 'gists_url': 'https://api.github.com/users/attack68/gists{/gist_id}', 'starred_url': 'https://api.github.com/users/attack68/starred{/owner}{/repo}', 'subscriptions_url': 'https://api.github.com/users/attack68/subscriptions', 'organizations_url': 'https://api.github.com/users/attack68/orgs', 'repos_url': 'https://api.github.com/users/attack68/repos', 'events_url': 'https://api.github.com/users/attack68/events{/privacy}', 'received_events_url': 'https://api.github.com/users/attack68/received_events', 'type': 'User', 'site_admin': False}, 'labels': [{'id': 76811, 'node_id': 'MDU6TGFiZWw3NjgxMQ==', 'url': 'https://api.github.com/repos/pandas-dev/pandas/labels/Bug', 'name': 'Bug', 'color': 'e10c02', 'default': False, 'description': None}, {'id': 57395487, 'node_id': 'MDU6TGFiZWw1NzM5NTQ4Nw==', 'url': 'https://api.github.com/repos/pandas-dev/pandas/labels/IO%20HTML', 'name': 'IO HTML', 'color': '006b75', 'default': False, 'description': 'read_html, to_html, Styler.apply, Styler.applymap'}], 'state': 'open', 'locked': False, 'assignee': None, 'assignees': [], 'milestone': None, 'comments': 0, 'created_at': '2021-02-21T08:58:37Z', 'updated_at': '2021-02-21T14:31:40Z', 'closed_at': None, 'author_association': 'CONTRIBUTOR', 'active_lock_reason': None, 'body': '```\\r\\ndf = pd.DataFrame([[1,2],[3,4]], index=pd.MultiIndex.from_product([[\\'a\\'], [1,2]]), columns=pd.MultiIndex.from_product([[\\'b\\'], [3,4]]))\\r\\ndf.to_html().split(\\'\\\\n\\')\\r\\n\\r\\n[\\'<table border=\"1\" class=\"dataframe\">\\',\\r\\n \\'  <thead>\\',\\r\\n \\'    <tr>\\',\\r\\n \\'      <th></th>\\',\\r\\n \\'      <th></th>\\',\\r\\n \\'      <th colspan=\"2\" halign=\"left\">b</th>\\',\\r\\n \\'    </tr>\\',\\r\\n \\'    <tr>\\',\\r\\n \\'      <th></th>\\',\\r\\n \\'      <th></th>\\',\\r\\n \\'      <th>3</th>\\',\\r\\n \\'      <th>4</th>\\',\\r\\n \\'    </tr>\\',\\r\\n \\'  </thead>\\',\\r\\n \\'  <tbody>\\',\\r\\n \\'    <tr>\\',\\r\\n \\'      <th rowspan=\"2\" valign=\"top\">a</th>\\',\\r\\n \\'      <th>1</th>\\',\\r\\n \\'      <td>1</td>\\',\\r\\n \\'      <td>2</td>\\',\\r\\n \\'    </tr>\\',\\r\\n \\'    <tr>\\',\\r\\n \\'      <th>2</th>\\',\\r\\n \\'      <td>3</td>\\',\\r\\n \\'      <td>4</td>\\',\\r\\n \\'    </tr>\\',\\r\\n \\'  </tbody>\\',\\r\\n \\'</table>\\']\\r\\n```\\r\\n\\r\\n`valign` is a deprecated HTML attribute and `halign` is reported to be poorly supported even when it was not deprecated.\\r\\nCSS solutions are recommended, but inline css like \\'style=\"text-align:center;\"\\' is not recommended as inline styles can break the more secure website CSPs (content security policies).\\r\\n\\r\\nSee here..\\r\\nhttps://developer.mozilla.org/en-US/docs/Web/HTML/Element/td\\r\\n', 'performed_via_github_app': None}, {'url': 'https://api.github.com/repos/pandas-dev/pandas/issues/39949', 'repository_url': 'https://api.github.com/repos/pandas-dev/pandas', 'labels_url': 'https://api.github.com/repos/pandas-dev/pandas/issues/39949/labels{/name}', 'comments_url': 'https://api.github.com/repos/pandas-dev/pandas/issues/39949/comments', 'events_url': 'https://api.github.com/repos/pandas-dev/pandas/issues/39949/events', 'html_url': 'https://github.com/pandas-dev/pandas/pull/39949', 'id': 812761561, 'node_id': 'MDExOlB1bGxSZXF1ZXN0NTc3MDQzMzI5', 'number': 39949, 'title': 'TYP: hashing', 'user': {'login': 'jbrockmendel', 'id': 8078968, 'node_id': 'MDQ6VXNlcjgwNzg5Njg=', 'avatar_url': 'https://avatars.githubusercontent.com/u/8078968?v=4', 'gravatar_id': '', 'url': 'https://api.github.com/users/jbrockmendel', 'html_url': 'https://github.com/jbrockmendel', 'followers_url': 'https://api.github.com/users/jbrockmendel/followers', 'following_url': 'https://api.github.com/users/jbrockmendel/following{/other_user}', 'gists_url': 'https://api.github.com/users/jbrockmendel/gists{/gist_id}', 'starred_url': 'https://api.github.com/users/jbrockmendel/starred{/owner}{/repo}', 'subscriptions_url': 'https://api.github.com/users/jbrockmendel/subscriptions', 'organizations_url': 'https://api.github.com/users/jbrockmendel/orgs', 'repos_url': 'https://api.github.com/users/jbrockmendel/repos', 'events_url': 'https://api.github.com/users/jbrockmendel/events{/privacy}', 'received_events_url': 'https://api.github.com/users/jbrockmendel/received_events', 'type': 'User', 'site_admin': False}, 'labels': [], 'state': 'open', 'locked': False, 'assignee': None, 'assignees': [], 'milestone': None, 'comments': 0, 'created_at': '2021-02-21T03:23:57Z', 'updated_at': '2021-02-21T03:23:57Z', 'closed_at': None, 'author_association': 'MEMBER', 'active_lock_reason': None, 'pull_request': {'url': 'https://api.github.com/repos/pandas-dev/pandas/pulls/39949', 'html_url': 'https://github.com/pandas-dev/pandas/pull/39949', 'diff_url': 'https://github.com/pandas-dev/pandas/pull/39949.diff', 'patch_url': 'https://github.com/pandas-dev/pandas/pull/39949.patch'}, 'body': '- [ ] closes #xxxx\\r\\n- [ ] tests added / passed\\r\\n- [ ] Ensure all linting tests pass, see [here](https://pandas.pydata.org/pandas-docs/dev/development/contributing.html#code-standards) for how to run them\\r\\n- [ ] whatsnew entry\\r\\n', 'performed_via_github_app': None}, {'url': 'https://api.github.com/repos/pandas-dev/pandas/issues/39948', 'repository_url': 'https://api.github.com/repos/pandas-dev/pandas', 'labels_url': 'https://api.github.com/repos/pandas-dev/pandas/issues/39948/labels{/name}', 'comments_url': 'https://api.github.com/repos/pandas-dev/pandas/issues/39948/comments', 'events_url': 'https://api.github.com/repos/pandas-dev/pandas/issues/39948/events', 'html_url': 'https://github.com/pandas-dev/pandas/pull/39948', 'id': 812752695, 'node_id': 'MDExOlB1bGxSZXF1ZXN0NTc3MDM3MTY4', 'number': 39948, 'title': 'REF: implement array_algos.take', 'user': {'login': 'jbrockmendel', 'id': 8078968, 'node_id': 'MDQ6VXNlcjgwNzg5Njg=', 'avatar_url': 'https://avatars.githubusercontent.com/u/8078968?v=4', 'gravatar_id': '', 'url': 'https://api.github.com/users/jbrockmendel', 'html_url': 'https://github.com/jbrockmendel', 'followers_url': 'https://api.github.com/users/jbrockmendel/followers', 'following_url': 'https://api.github.com/users/jbrockmendel/following{/other_user}', 'gists_url': 'https://api.github.com/users/jbrockmendel/gists{/gist_id}', 'starred_url': 'https://api.github.com/users/jbrockmendel/starred{/owner}{/repo}', 'subscriptions_url': 'https://api.github.com/users/jbrockmendel/subscriptions', 'organizations_url': 'https://api.github.com/users/jbrockmendel/orgs', 'repos_url': 'https://api.github.com/users/jbrockmendel/repos', 'events_url': 'https://api.github.com/users/jbrockmendel/events{/privacy}', 'received_events_url': 'https://api.github.com/users/jbrockmendel/received_events', 'type': 'User', 'site_admin': False}, 'labels': [], 'state': 'open', 'locked': False, 'assignee': None, 'assignees': [], 'milestone': None, 'comments': 0, 'created_at': '2021-02-21T02:08:06Z', 'updated_at': '2021-02-21T03:08:16Z', 'closed_at': None, 'author_association': 'MEMBER', 'active_lock_reason': None, 'pull_request': {'url': 'https://api.github.com/repos/pandas-dev/pandas/pulls/39948', 'html_url': 'https://github.com/pandas-dev/pandas/pull/39948', 'diff_url': 'https://github.com/pandas-dev/pandas/pull/39948.diff', 'patch_url': 'https://github.com/pandas-dev/pandas/pull/39948.patch'}, 'body': '- [ ] closes #xxxx\\r\\n- [ ] tests added / passed\\r\\n- [ ] Ensure all linting tests pass, see [here](https://pandas.pydata.org/pandas-docs/dev/development/contributing.html#code-standards) for how to run them\\r\\n- [ ] whatsnew entry\\r\\n', 'performed_via_github_app': None}, {'url': 'https://api.github.com/repos/pandas-dev/pandas/issues/39947', 'repository_url': 'https://api.github.com/repos/pandas-dev/pandas', 'labels_url': 'https://api.github.com/repos/pandas-dev/pandas/issues/39947/labels{/name}', 'comments_url': 'https://api.github.com/repos/pandas-dev/pandas/issues/39947/comments', 'events_url': 'https://api.github.com/repos/pandas-dev/pandas/issues/39947/events', 'html_url': 'https://github.com/pandas-dev/pandas/pull/39947', 'id': 812740329, 'node_id': 'MDExOlB1bGxSZXF1ZXN0NTc3MDI4NTQy', 'number': 39947, 'title': 'TYP: stubfile for _libs.lib', 'user': {'login': 'jbrockmendel', 'id': 8078968, 'node_id': 'MDQ6VXNlcjgwNzg5Njg=', 'avatar_url': 'https://avatars.githubusercontent.com/u/8078968?v=4', 'gravatar_id': '', 'url': 'https://api.github.com/users/jbrockmendel', 'html_url': 'https://github.com/jbrockmendel', 'followers_url': 'https://api.github.com/users/jbrockmendel/followers', 'following_url': 'https://api.github.com/users/jbrockmendel/following{/other_user}', 'gists_url': 'https://api.github.com/users/jbrockmendel/gists{/gist_id}', 'starred_url': 'https://api.github.com/users/jbrockmendel/starred{/owner}{/repo}', 'subscriptions_url': 'https://api.github.com/users/jbrockmendel/subscriptions', 'organizations_url': 'https://api.github.com/users/jbrockmendel/orgs', 'repos_url': 'https://api.github.com/users/jbrockmendel/repos', 'events_url': 'https://api.github.com/users/jbrockmendel/events{/privacy}', 'received_events_url': 'https://api.github.com/users/jbrockmendel/received_events', 'type': 'User', 'site_admin': False}, 'labels': [], 'state': 'open', 'locked': False, 'assignee': None, 'assignees': [], 'milestone': None, 'comments': 0, 'created_at': '2021-02-21T00:37:40Z', 'updated_at': '2021-02-21T00:37:40Z', 'closed_at': None, 'author_association': 'MEMBER', 'active_lock_reason': None, 'pull_request': {'url': 'https://api.github.com/repos/pandas-dev/pandas/pulls/39947', 'html_url': 'https://github.com/pandas-dev/pandas/pull/39947', 'diff_url': 'https://github.com/pandas-dev/pandas/pull/39947.diff', 'patch_url': 'https://github.com/pandas-dev/pandas/pull/39947.patch'}, 'body': '- [ ] closes #xxxx\\r\\n- [ ] tests added / passed\\r\\n- [ ] Ensure all linting tests pass, see [here](https://pandas.pydata.org/pandas-docs/dev/development/contributing.html#code-standards) for how to run them\\r\\n- [ ] whatsnew entry\\r\\n\\r\\ncc @simonjayhawkins @Dr-Irv there are a couple of kludges (ndarray_obj_2d, const memoryviews), interested in your thoughts on how to handle these', 'performed_via_github_app': None}, {'url': 'https://api.github.com/repos/pandas-dev/pandas/issues/39946', 'repository_url': 'https://api.github.com/repos/pandas-dev/pandas', 'labels_url': 'https://api.github.com/repos/pandas-dev/pandas/issues/39946/labels{/name}', 'comments_url': 'https://api.github.com/repos/pandas-dev/pandas/issues/39946/comments', 'events_url': 'https://api.github.com/repos/pandas-dev/pandas/issues/39946/events', 'html_url': 'https://github.com/pandas-dev/pandas/pull/39946', 'id': 812730051, 'node_id': 'MDExOlB1bGxSZXF1ZXN0NTc3MDIxMjgz', 'number': 39946, 'title': 'refactor styler tests', 'user': {'login': 'attack68', 'id': 24256554, 'node_id': 'MDQ6VXNlcjI0MjU2NTU0', 'avatar_url': 'https://avatars.githubusercontent.com/u/24256554?v=4', 'gravatar_id': '', 'url': 'https://api.github.com/users/attack68', 'html_url': 'https://github.com/attack68', 'followers_url': 'https://api.github.com/users/attack68/followers', 'following_url': 'https://api.github.com/users/attack68/following{/other_user}', 'gists_url': 'https://api.github.com/users/attack68/gists{/gist_id}', 'starred_url': 'https://api.github.com/users/attack68/starred{/owner}{/repo}', 'subscriptions_url': 'https://api.github.com/users/attack68/subscriptions', 'organizations_url': 'https://api.github.com/users/attack68/orgs', 'repos_url': 'https://api.github.com/users/attack68/repos', 'events_url': 'https://api.github.com/users/attack68/events{/privacy}', 'received_events_url': 'https://api.github.com/users/attack68/received_events', 'type': 'User', 'site_admin': False}, 'labels': [], 'state': 'open', 'locked': False, 'assignee': None, 'assignees': [], 'milestone': None, 'comments': 0, 'created_at': '2021-02-20T23:25:44Z', 'updated_at': '2021-02-20T23:25:44Z', 'closed_at': None, 'author_association': 'CONTRIBUTOR', 'active_lock_reason': None, 'pull_request': {'url': 'https://api.github.com/repos/pandas-dev/pandas/pulls/39946', 'html_url': 'https://github.com/pandas-dev/pandas/pull/39946', 'diff_url': 'https://github.com/pandas-dev/pandas/pull/39946.diff', 'patch_url': 'https://github.com/pandas-dev/pandas/pull/39946.patch'}, 'body': 'splits `test_style.py` to `style/test_style.py` and `style/test_builtins.py`, with the simple classification of being related to `core` functionality or added `extensions`.\\r\\n', 'performed_via_github_app': None}, {'url': 'https://api.github.com/repos/pandas-dev/pandas/issues/39945', 'repository_url': 'https://api.github.com/repos/pandas-dev/pandas', 'labels_url': 'https://api.github.com/repos/pandas-dev/pandas/issues/39945/labels{/name}', 'comments_url': 'https://api.github.com/repos/pandas-dev/pandas/issues/39945/comments', 'events_url': 'https://api.github.com/repos/pandas-dev/pandas/issues/39945/events', 'html_url': 'https://github.com/pandas-dev/pandas/pull/39945', 'id': 812723609, 'node_id': 'MDExOlB1bGxSZXF1ZXN0NTc3MDE2ODQ4', 'number': 39945, 'title': 'Change in astype leads to no longer casting to numpy string dtypes', 'user': {'login': 'phofl', 'id': 61934744, 'node_id': 'MDQ6VXNlcjYxOTM0NzQ0', 'avatar_url': 'https://avatars.githubusercontent.com/u/61934744?v=4', 'gravatar_id': '', 'url': 'https://api.github.com/users/phofl', 'html_url': 'https://github.com/phofl', 'followers_url': 'https://api.github.com/users/phofl/followers', 'following_url': 'https://api.github.com/users/phofl/following{/other_user}', 'gists_url': 'https://api.github.com/users/phofl/gists{/gist_id}', 'starred_url': 'https://api.github.com/users/phofl/starred{/owner}{/repo}', 'subscriptions_url': 'https://api.github.com/users/phofl/subscriptions', 'organizations_url': 'https://api.github.com/users/phofl/orgs', 'repos_url': 'https://api.github.com/users/phofl/repos', 'events_url': 'https://api.github.com/users/phofl/events{/privacy}', 'received_events_url': 'https://api.github.com/users/phofl/received_events', 'type': 'User', 'site_admin': False}, 'labels': [{'id': 31404521, 'node_id': 'MDU6TGFiZWwzMTQwNDUyMQ==', 'url': 'https://api.github.com/repos/pandas-dev/pandas/labels/Dtypes', 'name': 'Dtypes', 'color': 'e102d8', 'default': False, 'description': None}, {'id': 57522093, 'node_id': 'MDU6TGFiZWw1NzUyMjA5Mw==', 'url': 'https://api.github.com/repos/pandas-dev/pandas/labels/Strings', 'name': 'Strings', 'color': '5319e7', 'default': False, 'description': 'String extension data type and string data'}], 'state': 'open', 'locked': False, 'assignee': None, 'assignees': [], 'milestone': None, 'comments': 3, 'created_at': '2021-02-20T22:40:20Z', 'updated_at': '2021-02-21T11:06:46Z', 'closed_at': None, 'author_association': 'MEMBER', 'active_lock_reason': None, 'pull_request': {'url': 'https://api.github.com/repos/pandas-dev/pandas/pulls/39945', 'html_url': 'https://github.com/pandas-dev/pandas/pull/39945', 'diff_url': 'https://github.com/pandas-dev/pandas/pull/39945.diff', 'patch_url': 'https://github.com/pandas-dev/pandas/pull/39945.patch'}, 'body': '- [x] closes #39566\\r\\n- [x] tests added / passed\\r\\n- [x] Ensure all linting tests pass, see [here](https://pandas.pydata.org/pandas-docs/dev/development/contributing.html#code-standards) for how to run them\\r\\n- [x] whatsnew entry\\r\\n\\r\\n@jreback as discussed we no longer cast to numpy string dtypes after this', 'performed_via_github_app': None}, {'url': 'https://api.github.com/repos/pandas-dev/pandas/issues/39944', 'repository_url': 'https://api.github.com/repos/pandas-dev/pandas', 'labels_url': 'https://api.github.com/repos/pandas-dev/pandas/issues/39944/labels{/name}', 'comments_url': 'https://api.github.com/repos/pandas-dev/pandas/issues/39944/comments', 'events_url': 'https://api.github.com/repos/pandas-dev/pandas/issues/39944/events', 'html_url': 'https://github.com/pandas-dev/pandas/pull/39944', 'id': 812720002, 'node_id': 'MDExOlB1bGxSZXF1ZXN0NTc3MDE1MDU1', 'number': 39944, 'title': 'Fix regression for setitem not aligning rhs with boolean indexer', 'user': {'login': 'phofl', 'id': 61934744, 'node_id': 'MDQ6VXNlcjYxOTM0NzQ0', 'avatar_url': 'https://avatars.githubusercontent.com/u/61934744?v=4', 'gravatar_id': '', 'url': 'https://api.github.com/users/phofl', 'html_url': 'https://github.com/phofl', 'followers_url': 'https://api.github.com/users/phofl/followers', 'following_url': 'https://api.github.com/users/phofl/following{/other_user}', 'gists_url': 'https://api.github.com/users/phofl/gists{/gist_id}', 'starred_url': 'https://api.github.com/users/phofl/starred{/owner}{/repo}', 'subscriptions_url': 'https://api.github.com/users/phofl/subscriptions', 'organizations_url': 'https://api.github.com/users/phofl/orgs', 'repos_url': 'https://api.github.com/users/phofl/repos', 'events_url': 'https://api.github.com/users/phofl/events{/privacy}', 'received_events_url': 'https://api.github.com/users/phofl/received_events', 'type': 'User', 'site_admin': False}, 'labels': [{'id': 2822098, 'node_id': 'MDU6TGFiZWwyODIyMDk4', 'url': 'https://api.github.com/repos/pandas-dev/pandas/labels/Indexing', 'name': 'Indexing', 'color': '0b02e1', 'default': False, 'description': 'Related to indexing on series/frames, not to indexes themselves'}, {'id': 32815646, 'node_id': 'MDU6TGFiZWwzMjgxNTY0Ng==', 'url': 'https://api.github.com/repos/pandas-dev/pandas/labels/Regression', 'name': 'Regression', 'color': 'e11d21', 'default': False, 'description': 'Functionality that used to work in a prior pandas version'}], 'state': 'open', 'locked': False, 'assignee': None, 'assignees': [], 'milestone': None, 'comments': 0, 'created_at': '2021-02-20T22:22:10Z', 'updated_at': '2021-02-20T22:22:21Z', 'closed_at': None, 'author_association': 'MEMBER', 'active_lock_reason': None, 'pull_request': {'url': 'https://api.github.com/repos/pandas-dev/pandas/pulls/39944', 'html_url': 'https://github.com/pandas-dev/pandas/pull/39944', 'diff_url': 'https://github.com/pandas-dev/pandas/pull/39944.diff', 'patch_url': 'https://github.com/pandas-dev/pandas/pull/39944.patch'}, 'body': '- [x] closes #39931\\r\\n- [x] tests added / passed\\r\\n- [x] Ensure all linting tests pass, see [here](https://pandas.pydata.org/pandas-docs/dev/development/contributing.html#code-standards) for how to run them\\r\\n- [x] whatsnew entry\\r\\n\\r\\nreindexing solves the issue here before dispatching to iloc', 'performed_via_github_app': None}, {'url': 'https://api.github.com/repos/pandas-dev/pandas/issues/39943', 'repository_url': 'https://api.github.com/repos/pandas-dev/pandas', 'labels_url': 'https://api.github.com/repos/pandas-dev/pandas/issues/39943/labels{/name}', 'comments_url': 'https://api.github.com/repos/pandas-dev/pandas/issues/39943/comments', 'events_url': 'https://api.github.com/repos/pandas-dev/pandas/issues/39943/events', 'html_url': 'https://github.com/pandas-dev/pandas/issues/39943', 'id': 812706575, 'node_id': 'MDU6SXNzdWU4MTI3MDY1NzU=', 'number': 39943, 'title': 'BUG: unary operators on IntegerArray return shared mask creating inconsistencies when assigning null and non-null values', 'user': {'login': 'simonjayhawkins', 'id': 13159005, 'node_id': 'MDQ6VXNlcjEzMTU5MDA1', 'avatar_url': 'https://avatars.githubusercontent.com/u/13159005?v=4', 'gravatar_id': '', 'url': 'https://api.github.com/users/simonjayhawkins', 'html_url': 'https://github.com/simonjayhawkins', 'followers_url': 'https://api.github.com/users/simonjayhawkins/followers', 'following_url': 'https://api.github.com/users/simonjayhawkins/following{/other_user}', 'gists_url': 'https://api.github.com/users/simonjayhawkins/gists{/gist_id}', 'starred_url': 'https://api.github.com/users/simonjayhawkins/starred{/owner}{/repo}', 'subscriptions_url': 'https://api.github.com/users/simonjayhawkins/subscriptions', 'organizations_url': 'https://api.github.com/users/simonjayhawkins/orgs', 'repos_url': 'https://api.github.com/users/simonjayhawkins/repos', 'events_url': 'https://api.github.com/users/simonjayhawkins/events{/privacy}', 'received_events_url': 'https://api.github.com/users/simonjayhawkins/received_events', 'type': 'User', 'site_admin': False}, 'labels': [{'id': 76811, 'node_id': 'MDU6TGFiZWw3NjgxMQ==', 'url': 'https://api.github.com/repos/pandas-dev/pandas/labels/Bug', 'name': 'Bug', 'color': 'e10c02', 'default': False, 'description': None}, {'id': 2085877452, 'node_id': 'MDU6TGFiZWwyMDg1ODc3NDUy', 'url': 'https://api.github.com/repos/pandas-dev/pandas/labels/Copy%20/%20view%20semantics', 'name': 'Copy / view semantics', 'color': '70e5ca', 'default': False, 'description': ''}, {'id': 1817503692, 'node_id': 'MDU6TGFiZWwxODE3NTAzNjky', 'url': 'https://api.github.com/repos/pandas-dev/pandas/labels/NA%20-%20MaskedArrays', 'name': 'NA - MaskedArrays', 'color': '8cc645', 'default': False, 'description': 'Related to pd.NA and nullable extension arrays'}], 'state': 'open', 'locked': False, 'assignee': None, 'assignees': [], 'milestone': None, 'comments': 0, 'created_at': '2021-02-20T21:05:16Z', 'updated_at': '2021-02-20T21:05:16Z', 'closed_at': None, 'author_association': 'MEMBER', 'active_lock_reason': None, 'body': '- [ ] I have checked that this issue has not already been reported.\\r\\n\\r\\n- [ ] I have confirmed this bug exists on the latest version of pandas.\\r\\n\\r\\n- [ ] (optional) I have confirmed this bug exists on the master branch of pandas.\\r\\n\\r\\n---\\r\\n\\r\\n**Note**: Please read [this guide](https://matthewrocklin.com/blog/work/2018/02/28/minimal-bug-reports) detailing how to provide the necessary information for us to reproduce your bug.\\r\\n\\r\\n#### Code Sample, a copy-pastable example\\r\\n\\r\\n```python\\r\\n \\r\\n>>> s = pd.Series([1, 2, 3], dtype=\"Int64\")\\r\\n>>> s\\r\\n0    1\\r\\n1    2\\r\\n2    3\\r\\ndtype: Int64\\r\\n>>> \\r\\n>>> s2 = -s\\r\\n>>> \\r\\n>>> s2\\r\\n0    -1\\r\\n1    -2\\r\\n2    -3\\r\\ndtype: Int64\\r\\n>>> \\r\\n>>> s[0] = None # assigning None\\r\\n>>> \\r\\n>>> s\\r\\n0    <NA>\\r\\n1       2\\r\\n2       3\\r\\ndtype: Int64\\r\\n>>> \\r\\n>>> s2\\r\\n0    <NA>  # <--- expected -1\\r\\n1      -2\\r\\n2      -3\\r\\ndtype: Int64\\r\\n>>> \\r\\n>>> s[1] = 10  # assigning  a value is ok\\r\\n>>> s\\r\\n0    <NA>\\r\\n1      10\\r\\n2       3\\r\\ndtype: Int64\\r\\n>>> \\r\\n>>> s2\\r\\n0    <NA>\\r\\n1      -2\\r\\n2      -3\\r\\ndtype: Int64\\r\\n>>> \\r\\n>>> s2[2] = None\\r\\n>>> s2\\r\\n0    <NA>\\r\\n1      -2\\r\\n2    <NA>\\r\\ndtype: Int64\\r\\n>>> \\r\\n>>> s\\r\\n0    <NA>\\r\\n1      10\\r\\n2    <NA>  # expected 3\\r\\ndtype: Int64\\r\\n>>> \\r\\n>>> s.values._data is s2.values._data\\r\\nFalse\\r\\n>>> \\r\\n>>> s.values._mask is s2.values._mask\\r\\nTrue\\r\\n```\\r\\n\\r\\n#### Problem description\\r\\n\\r\\nshared mask leads to an inconsistency when assigning a non-null value compared to assigning a null value\\r\\n\\r\\nalso for `__invert__` in BaseMaskedArray so will also affect other nullable arrays\\r\\n\\r\\n#### Expected Output\\r\\n\\r\\n#### Output of ``pd.show_versions()``\\r\\n\\r\\n<details>\\r\\n\\r\\n[paste the output of ``pd.show_versions()`` here leaving a blank line after the details tag]\\r\\n\\r\\n</details>\\r\\n', 'performed_via_github_app': None}, {'url': 'https://api.github.com/repos/pandas-dev/pandas/issues/39942', 'repository_url': 'https://api.github.com/repos/pandas-dev/pandas', 'labels_url': 'https://api.github.com/repos/pandas-dev/pandas/issues/39942/labels{/name}', 'comments_url': 'https://api.github.com/repos/pandas-dev/pandas/issues/39942/comments', 'events_url': 'https://api.github.com/repos/pandas-dev/pandas/issues/39942/events', 'html_url': 'https://github.com/pandas-dev/pandas/pull/39942', 'id': 812704604, 'node_id': 'MDExOlB1bGxSZXF1ZXN0NTc3MDA0ODUz', 'number': 39942, 'title': 'BUG: format multiple CSS selectors correctly', 'user': {'login': 'attack68', 'id': 24256554, 'node_id': 'MDQ6VXNlcjI0MjU2NTU0', 'avatar_url': 'https://avatars.githubusercontent.com/u/24256554?v=4', 'gravatar_id': '', 'url': 'https://api.github.com/users/attack68', 'html_url': 'https://github.com/attack68', 'followers_url': 'https://api.github.com/users/attack68/followers', 'following_url': 'https://api.github.com/users/attack68/following{/other_user}', 'gists_url': 'https://api.github.com/users/attack68/gists{/gist_id}', 'starred_url': 'https://api.github.com/users/attack68/starred{/owner}{/repo}', 'subscriptions_url': 'https://api.github.com/users/attack68/subscriptions', 'organizations_url': 'https://api.github.com/users/attack68/orgs', 'repos_url': 'https://api.github.com/users/attack68/repos', 'events_url': 'https://api.github.com/users/attack68/events{/privacy}', 'received_events_url': 'https://api.github.com/users/attack68/received_events', 'type': 'User', 'site_admin': False}, 'labels': [], 'state': 'open', 'locked': False, 'assignee': None, 'assignees': [], 'milestone': None, 'comments': 0, 'created_at': '2021-02-20T20:53:06Z', 'updated_at': '2021-02-21T08:12:56Z', 'closed_at': None, 'author_association': 'CONTRIBUTOR', 'active_lock_reason': None, 'pull_request': {'url': 'https://api.github.com/repos/pandas-dev/pandas/pulls/39942', 'html_url': 'https://github.com/pandas-dev/pandas/pull/39942', 'diff_url': 'https://github.com/pandas-dev/pandas/pull/39942.diff', 'patch_url': 'https://github.com/pandas-dev/pandas/pull/39942.patch'}, 'body': \"- [x] closes #34061 \\r\\n- [ ] tests added / passed\\r\\n- [ ] Ensure all linting tests pass, see [here](https://pandas.pydata.org/pandas-docs/dev/development/contributing.html#code-standards) for how to run them\\r\\n- [ ] whatsnew entry\\r\\n\\r\\nI'm 50-50 on this, since it can be worked around, or documented away.\\r\\n\\r\\nThe downside is that it requires some additional code, and negligible amount of additional overhead.\\r\\nThe upside is that it more closely aligns with proper CSS rules and if Styler is to be adopted and used more widely in the future then being somewhat bug-free is an advantage.\\r\\n\\r\\nwill add tests if approved.\", 'performed_via_github_app': None}, {'url': 'https://api.github.com/repos/pandas-dev/pandas/issues/39941', 'repository_url': 'https://api.github.com/repos/pandas-dev/pandas', 'labels_url': 'https://api.github.com/repos/pandas-dev/pandas/issues/39941/labels{/name}', 'comments_url': 'https://api.github.com/repos/pandas-dev/pandas/issues/39941/comments', 'events_url': 'https://api.github.com/repos/pandas-dev/pandas/issues/39941/events', 'html_url': 'https://github.com/pandas-dev/pandas/pull/39941', 'id': 812700652, 'node_id': 'MDExOlB1bGxSZXF1ZXN0NTc3MDAyMDAy', 'number': 39941, 'title': 'DOC: Updated convert_dtype of Series.apply', 'user': {'login': 'sukriti1', 'id': 42755203, 'node_id': 'MDQ6VXNlcjQyNzU1MjAz', 'avatar_url': 'https://avatars.githubusercontent.com/u/42755203?v=4', 'gravatar_id': '', 'url': 'https://api.github.com/users/sukriti1', 'html_url': 'https://github.com/sukriti1', 'followers_url': 'https://api.github.com/users/sukriti1/followers', 'following_url': 'https://api.github.com/users/sukriti1/following{/other_user}', 'gists_url': 'https://api.github.com/users/sukriti1/gists{/gist_id}', 'starred_url': 'https://api.github.com/users/sukriti1/starred{/owner}{/repo}', 'subscriptions_url': 'https://api.github.com/users/sukriti1/subscriptions', 'organizations_url': 'https://api.github.com/users/sukriti1/orgs', 'repos_url': 'https://api.github.com/users/sukriti1/repos', 'events_url': 'https://api.github.com/users/sukriti1/events{/privacy}', 'received_events_url': 'https://api.github.com/users/sukriti1/received_events', 'type': 'User', 'site_admin': False}, 'labels': [], 'state': 'open', 'locked': False, 'assignee': None, 'assignees': [], 'milestone': None, 'comments': 1, 'created_at': '2021-02-20T20:29:10Z', 'updated_at': '2021-02-21T08:16:44Z', 'closed_at': None, 'author_association': 'NONE', 'active_lock_reason': None, 'pull_request': {'url': 'https://api.github.com/repos/pandas-dev/pandas/pulls/39941', 'html_url': 'https://github.com/pandas-dev/pandas/pull/39941', 'diff_url': 'https://github.com/pandas-dev/pandas/pull/39941.diff', 'patch_url': 'https://github.com/pandas-dev/pandas/pull/39941.patch'}, 'body': '- [x] closes #39580\\r\\n- [ ] tests added / passed\\r\\n- [ ] Ensure all linting tests pass, see [here](https://pandas.pydata.org/pandas-docs/dev/development/contributing.html#code-standards) for how to run them\\r\\n- [ ] whatsnew entry\\r\\n\\r\\nThis updates the docs for parameter convert_dtype in pandas.Series.apply and adds dtypes for which the original dtype is kept. \\r\\n', 'performed_via_github_app': None}, {'url': 'https://api.github.com/repos/pandas-dev/pandas/issues/39940', 'repository_url': 'https://api.github.com/repos/pandas-dev/pandas', 'labels_url': 'https://api.github.com/repos/pandas-dev/pandas/issues/39940/labels{/name}', 'comments_url': 'https://api.github.com/repos/pandas-dev/pandas/issues/39940/comments', 'events_url': 'https://api.github.com/repos/pandas-dev/pandas/issues/39940/events', 'html_url': 'https://github.com/pandas-dev/pandas/pull/39940', 'id': 812700423, 'node_id': 'MDExOlB1bGxSZXF1ZXN0NTc3MDAxODQ3', 'number': 39940, 'title': 'BUG: Groupby ops on empty objects loses index, columns, dtypes', 'user': {'login': 'rhshadrach', 'id': 45562402, 'node_id': 'MDQ6VXNlcjQ1NTYyNDAy', 'avatar_url': 'https://avatars.githubusercontent.com/u/45562402?v=4', 'gravatar_id': '', 'url': 'https://api.github.com/users/rhshadrach', 'html_url': 'https://github.com/rhshadrach', 'followers_url': 'https://api.github.com/users/rhshadrach/followers', 'following_url': 'https://api.github.com/users/rhshadrach/following{/other_user}', 'gists_url': 'https://api.github.com/users/rhshadrach/gists{/gist_id}', 'starred_url': 'https://api.github.com/users/rhshadrach/starred{/owner}{/repo}', 'subscriptions_url': 'https://api.github.com/users/rhshadrach/subscriptions', 'organizations_url': 'https://api.github.com/users/rhshadrach/orgs', 'repos_url': 'https://api.github.com/users/rhshadrach/repos', 'events_url': 'https://api.github.com/users/rhshadrach/events{/privacy}', 'received_events_url': 'https://api.github.com/users/rhshadrach/received_events', 'type': 'User', 'site_admin': False}, 'labels': [{'id': 76811, 'node_id': 'MDU6TGFiZWw3NjgxMQ==', 'url': 'https://api.github.com/repos/pandas-dev/pandas/labels/Bug', 'name': 'Bug', 'color': 'e10c02', 'default': False, 'description': None}, {'id': 31404521, 'node_id': 'MDU6TGFiZWwzMTQwNDUyMQ==', 'url': 'https://api.github.com/repos/pandas-dev/pandas/labels/Dtypes', 'name': 'Dtypes', 'color': 'e102d8', 'default': False, 'description': None}, {'id': 233160, 'node_id': 'MDU6TGFiZWwyMzMxNjA=', 'url': 'https://api.github.com/repos/pandas-dev/pandas/labels/Groupby', 'name': 'Groupby', 'color': '729FCF', 'default': False, 'description': None}, {'id': 13098779, 'node_id': 'MDU6TGFiZWwxMzA5ODc3OQ==', 'url': 'https://api.github.com/repos/pandas-dev/pandas/labels/Reshaping', 'name': 'Reshaping', 'color': '02d7e1', 'default': False, 'description': 'Concat, Merge/Join, Stack/Unstack'}], 'state': 'open', 'locked': False, 'assignee': None, 'assignees': [], 'milestone': None, 'comments': 0, 'created_at': '2021-02-20T20:27:40Z', 'updated_at': '2021-02-21T14:07:06Z', 'closed_at': None, 'author_association': 'MEMBER', 'active_lock_reason': None, 'pull_request': {'url': 'https://api.github.com/repos/pandas-dev/pandas/pulls/39940', 'html_url': 'https://github.com/pandas-dev/pandas/pull/39940', 'diff_url': 'https://github.com/pandas-dev/pandas/pull/39940.diff', 'patch_url': 'https://github.com/pandas-dev/pandas/pull/39940.patch'}, 'body': '- [x] closes #26411\\r\\n- [x] closes #13483\\r\\n- [x] tests added / passed\\r\\n- [x] Ensure all linting tests pass, see [here](https://pandas.pydata.org/pandas-docs/dev/development/contributing.html#code-standards) for how to run them\\r\\n- [x] whatsnew entry\\r\\n', 'performed_via_github_app': None}, {'url': 'https://api.github.com/repos/pandas-dev/pandas/issues/39939', 'repository_url': 'https://api.github.com/repos/pandas-dev/pandas', 'labels_url': 'https://api.github.com/repos/pandas-dev/pandas/issues/39939/labels{/name}', 'comments_url': 'https://api.github.com/repos/pandas-dev/pandas/issues/39939/comments', 'events_url': 'https://api.github.com/repos/pandas-dev/pandas/issues/39939/events', 'html_url': 'https://github.com/pandas-dev/pandas/pull/39939', 'id': 812677670, 'node_id': 'MDExOlB1bGxSZXF1ZXN0NTc2OTg1Nzk0', 'number': 39939, 'title': 'REF: share _maybe_coerce_values', 'user': {'login': 'jbrockmendel', 'id': 8078968, 'node_id': 'MDQ6VXNlcjgwNzg5Njg=', 'avatar_url': 'https://avatars.githubusercontent.com/u/8078968?v=4', 'gravatar_id': '', 'url': 'https://api.github.com/users/jbrockmendel', 'html_url': 'https://github.com/jbrockmendel', 'followers_url': 'https://api.github.com/users/jbrockmendel/followers', 'following_url': 'https://api.github.com/users/jbrockmendel/following{/other_user}', 'gists_url': 'https://api.github.com/users/jbrockmendel/gists{/gist_id}', 'starred_url': 'https://api.github.com/users/jbrockmendel/starred{/owner}{/repo}', 'subscriptions_url': 'https://api.github.com/users/jbrockmendel/subscriptions', 'organizations_url': 'https://api.github.com/users/jbrockmendel/orgs', 'repos_url': 'https://api.github.com/users/jbrockmendel/repos', 'events_url': 'https://api.github.com/users/jbrockmendel/events{/privacy}', 'received_events_url': 'https://api.github.com/users/jbrockmendel/received_events', 'type': 'User', 'site_admin': False}, 'labels': [], 'state': 'open', 'locked': False, 'assignee': None, 'assignees': [], 'milestone': None, 'comments': 0, 'created_at': '2021-02-20T18:21:04Z', 'updated_at': '2021-02-20T19:23:06Z', 'closed_at': None, 'author_association': 'MEMBER', 'active_lock_reason': None, 'pull_request': {'url': 'https://api.github.com/repos/pandas-dev/pandas/pulls/39939', 'html_url': 'https://github.com/pandas-dev/pandas/pull/39939', 'diff_url': 'https://github.com/pandas-dev/pandas/pull/39939.diff', 'patch_url': 'https://github.com/pandas-dev/pandas/pull/39939.patch'}, 'body': 'Gets us within spittting distance of combining DTBlock/TDBlock (and not far from DT64TZBlock too)', 'performed_via_github_app': None}, {'url': 'https://api.github.com/repos/pandas-dev/pandas/issues/39938', 'repository_url': 'https://api.github.com/repos/pandas-dev/pandas', 'labels_url': 'https://api.github.com/repos/pandas-dev/pandas/issues/39938/labels{/name}', 'comments_url': 'https://api.github.com/repos/pandas-dev/pandas/issues/39938/comments', 'events_url': 'https://api.github.com/repos/pandas-dev/pandas/issues/39938/events', 'html_url': 'https://github.com/pandas-dev/pandas/issues/39938', 'id': 812653679, 'node_id': 'MDU6SXNzdWU4MTI2NTM2Nzk=', 'number': 39938, 'title': 'ENH: Ability to use \"normalize\" function (df[\\'col\\'].value_counts(normalize=True) when you do df.groupby(cols).size()', 'user': {'login': 'bbennett36', 'id': 7293087, 'node_id': 'MDQ6VXNlcjcyOTMwODc=', 'avatar_url': 'https://avatars.githubusercontent.com/u/7293087?v=4', 'gravatar_id': '', 'url': 'https://api.github.com/users/bbennett36', 'html_url': 'https://github.com/bbennett36', 'followers_url': 'https://api.github.com/users/bbennett36/followers', 'following_url': 'https://api.github.com/users/bbennett36/following{/other_user}', 'gists_url': 'https://api.github.com/users/bbennett36/gists{/gist_id}', 'starred_url': 'https://api.github.com/users/bbennett36/starred{/owner}{/repo}', 'subscriptions_url': 'https://api.github.com/users/bbennett36/subscriptions', 'organizations_url': 'https://api.github.com/users/bbennett36/orgs', 'repos_url': 'https://api.github.com/users/bbennett36/repos', 'events_url': 'https://api.github.com/users/bbennett36/events{/privacy}', 'received_events_url': 'https://api.github.com/users/bbennett36/received_events', 'type': 'User', 'site_admin': False}, 'labels': [{'id': 2365504893, 'node_id': 'MDU6TGFiZWwyMzY1NTA0ODkz', 'url': 'https://api.github.com/repos/pandas-dev/pandas/labels/Closing%20Candidate', 'name': 'Closing Candidate', 'color': 'be21f2', 'default': False, 'description': 'May be closeable, needs more eyeballs'}, {'id': 76812, 'node_id': 'MDU6TGFiZWw3NjgxMg==', 'url': 'https://api.github.com/repos/pandas-dev/pandas/labels/Enhancement', 'name': 'Enhancement', 'color': '4E9A06', 'default': False, 'description': None}, {'id': 307649777, 'node_id': 'MDU6TGFiZWwzMDc2NDk3Nzc=', 'url': 'https://api.github.com/repos/pandas-dev/pandas/labels/Needs%20Info', 'name': 'Needs Info', 'color': '207de5', 'default': False, 'description': 'Clarification about behavior needed to assess issue'}], 'state': 'open', 'locked': False, 'assignee': None, 'assignees': [], 'milestone': None, 'comments': 1, 'created_at': '2021-02-20T16:20:36Z', 'updated_at': '2021-02-21T08:25:39Z', 'closed_at': None, 'author_association': 'NONE', 'active_lock_reason': None, 'body': '`groupby.size()` should have the ability to \"normalize\" the results and return them as a percentage.   \\r\\n  \\r\\n  \\r\\n```\\r\\ndf[\\'col\\'].value_counts(normalize=True) \\r\\n  \\r\\nA = 0.25\\r\\nB = 0.25  \\r\\nC = 0.25  \\r\\nD = 0.25\\r\\n```  \\r\\n  \\r\\nTo accomplish this result with a `groupby.size()` you have to do the following - \\r\\n\\r\\n```\\r\\ndf2 = df.groupby([\\'subset_product\\', \\'subset_close\\']).size().reset_index(name=\\'prod_count\\')\\r\\na = df2.groupby(\\'subset_product\\')[\\'prod_count\\'].transform(\\'sum\\')\\r\\ndf2[\\'prod_count\\'] = df2[\\'prod_count\\'].div(a)\\r\\n```  \\r\\n  \\r\\nIs there a way to add a feature to include this as a parameter in `.size()`', 'performed_via_github_app': None}, {'url': 'https://api.github.com/repos/pandas-dev/pandas/issues/39936', 'repository_url': 'https://api.github.com/repos/pandas-dev/pandas', 'labels_url': 'https://api.github.com/repos/pandas-dev/pandas/issues/39936/labels{/name}', 'comments_url': 'https://api.github.com/repos/pandas-dev/pandas/issues/39936/comments', 'events_url': 'https://api.github.com/repos/pandas-dev/pandas/issues/39936/events', 'html_url': 'https://github.com/pandas-dev/pandas/pull/39936', 'id': 812631751, 'node_id': 'MDExOlB1bGxSZXF1ZXN0NTc2OTUyMDcy', 'number': 39936, 'title': 'ENH: Create script to set up a development environment using docker', 'user': {'login': 'gcmaciel', 'id': 66797203, 'node_id': 'MDQ6VXNlcjY2Nzk3MjAz', 'avatar_url': 'https://avatars.githubusercontent.com/u/66797203?v=4', 'gravatar_id': '', 'url': 'https://api.github.com/users/gcmaciel', 'html_url': 'https://github.com/gcmaciel', 'followers_url': 'https://api.github.com/users/gcmaciel/followers', 'following_url': 'https://api.github.com/users/gcmaciel/following{/other_user}', 'gists_url': 'https://api.github.com/users/gcmaciel/gists{/gist_id}', 'starred_url': 'https://api.github.com/users/gcmaciel/starred{/owner}{/repo}', 'subscriptions_url': 'https://api.github.com/users/gcmaciel/subscriptions', 'organizations_url': 'https://api.github.com/users/gcmaciel/orgs', 'repos_url': 'https://api.github.com/users/gcmaciel/repos', 'events_url': 'https://api.github.com/users/gcmaciel/events{/privacy}', 'received_events_url': 'https://api.github.com/users/gcmaciel/received_events', 'type': 'User', 'site_admin': False}, 'labels': [], 'state': 'open', 'locked': False, 'assignee': None, 'assignees': [], 'milestone': None, 'comments': 0, 'created_at': '2021-02-20T14:37:09Z', 'updated_at': '2021-02-20T14:37:09Z', 'closed_at': None, 'author_association': 'CONTRIBUTOR', 'active_lock_reason': None, 'pull_request': {'url': 'https://api.github.com/repos/pandas-dev/pandas/pulls/39936', 'html_url': 'https://github.com/pandas-dev/pandas/pull/39936', 'diff_url': 'https://github.com/pandas-dev/pandas/pull/39936.diff', 'patch_url': 'https://github.com/pandas-dev/pandas/pull/39936.patch'}, 'body': 'This script will help the contributors with the process of setting up a docker container. So instead of manually passing the Github username in the Dockerfile and then running a couple of commands, you can run only this:\\r\\n\\r\\n```\\r\\n./docker.sh\\r\\n```\\r\\n\\r\\n...and enter the Github username when prompted.\\r\\n\\r\\nI think this can be good, right? Especially for the new users.\\r\\n', 'performed_via_github_app': None}, {'url': 'https://api.github.com/repos/pandas-dev/pandas/issues/39935', 'repository_url': 'https://api.github.com/repos/pandas-dev/pandas', 'labels_url': 'https://api.github.com/repos/pandas-dev/pandas/issues/39935/labels{/name}', 'comments_url': 'https://api.github.com/repos/pandas-dev/pandas/issues/39935/comments', 'events_url': 'https://api.github.com/repos/pandas-dev/pandas/issues/39935/events', 'html_url': 'https://github.com/pandas-dev/pandas/pull/39935', 'id': 812626987, 'node_id': 'MDExOlB1bGxSZXF1ZXN0NTc2OTQ4OTIw', 'number': 39935, 'title': \"BUG: DataFrame.agg and apply with 'size' returns a scalar\", 'user': {'login': 'rhshadrach', 'id': 45562402, 'node_id': 'MDQ6VXNlcjQ1NTYyNDAy', 'avatar_url': 'https://avatars.githubusercontent.com/u/45562402?v=4', 'gravatar_id': '', 'url': 'https://api.github.com/users/rhshadrach', 'html_url': 'https://github.com/rhshadrach', 'followers_url': 'https://api.github.com/users/rhshadrach/followers', 'following_url': 'https://api.github.com/users/rhshadrach/following{/other_user}', 'gists_url': 'https://api.github.com/users/rhshadrach/gists{/gist_id}', 'starred_url': 'https://api.github.com/users/rhshadrach/starred{/owner}{/repo}', 'subscriptions_url': 'https://api.github.com/users/rhshadrach/subscriptions', 'organizations_url': 'https://api.github.com/users/rhshadrach/orgs', 'repos_url': 'https://api.github.com/users/rhshadrach/repos', 'events_url': 'https://api.github.com/users/rhshadrach/events{/privacy}', 'received_events_url': 'https://api.github.com/users/rhshadrach/received_events', 'type': 'User', 'site_admin': False}, 'labels': [{'id': 697792067, 'node_id': 'MDU6TGFiZWw2OTc3OTIwNjc=', 'url': 'https://api.github.com/repos/pandas-dev/pandas/labels/Apply', 'name': 'Apply', 'color': 'fbca04', 'default': False, 'description': 'Apply, Aggregate, Transform'}, {'id': 76811, 'node_id': 'MDU6TGFiZWw3NjgxMQ==', 'url': 'https://api.github.com/repos/pandas-dev/pandas/labels/Bug', 'name': 'Bug', 'color': 'e10c02', 'default': False, 'description': None}], 'state': 'open', 'locked': False, 'assignee': None, 'assignees': [], 'milestone': None, 'comments': 0, 'created_at': '2021-02-20T14:18:49Z', 'updated_at': '2021-02-20T14:18:49Z', 'closed_at': None, 'author_association': 'MEMBER', 'active_lock_reason': None, 'pull_request': {'url': 'https://api.github.com/repos/pandas-dev/pandas/pulls/39935', 'html_url': 'https://github.com/pandas-dev/pandas/pull/39935', 'diff_url': 'https://github.com/pandas-dev/pandas/pull/39935.diff', 'patch_url': 'https://github.com/pandas-dev/pandas/pull/39935.patch'}, 'body': '- [x] closes #39934\\r\\n- [x] tests added / passed\\r\\n- [x] Ensure all linting tests pass, see [here](https://pandas.pydata.org/pandas-docs/dev/development/contributing.html#code-standards) for how to run them\\r\\n- [x] whatsnew entry', 'performed_via_github_app': None}, {'url': 'https://api.github.com/repos/pandas-dev/pandas/issues/39934', 'repository_url': 'https://api.github.com/repos/pandas-dev/pandas', 'labels_url': 'https://api.github.com/repos/pandas-dev/pandas/issues/39934/labels{/name}', 'comments_url': 'https://api.github.com/repos/pandas-dev/pandas/issues/39934/comments', 'events_url': 'https://api.github.com/repos/pandas-dev/pandas/issues/39934/events', 'html_url': 'https://github.com/pandas-dev/pandas/issues/39934', 'id': 812623501, 'node_id': 'MDU6SXNzdWU4MTI2MjM1MDE=', 'number': 39934, 'title': \"BUG: DataFrame.agg and apply with 'size' returns a scalar\", 'user': {'login': 'rhshadrach', 'id': 45562402, 'node_id': 'MDQ6VXNlcjQ1NTYyNDAy', 'avatar_url': 'https://avatars.githubusercontent.com/u/45562402?v=4', 'gravatar_id': '', 'url': 'https://api.github.com/users/rhshadrach', 'html_url': 'https://github.com/rhshadrach', 'followers_url': 'https://api.github.com/users/rhshadrach/followers', 'following_url': 'https://api.github.com/users/rhshadrach/following{/other_user}', 'gists_url': 'https://api.github.com/users/rhshadrach/gists{/gist_id}', 'starred_url': 'https://api.github.com/users/rhshadrach/starred{/owner}{/repo}', 'subscriptions_url': 'https://api.github.com/users/rhshadrach/subscriptions', 'organizations_url': 'https://api.github.com/users/rhshadrach/orgs', 'repos_url': 'https://api.github.com/users/rhshadrach/repos', 'events_url': 'https://api.github.com/users/rhshadrach/events{/privacy}', 'received_events_url': 'https://api.github.com/users/rhshadrach/received_events', 'type': 'User', 'site_admin': False}, 'labels': [{'id': 1741841389, 'node_id': 'MDU6TGFiZWwxNzQxODQxMzg5', 'url': 'https://api.github.com/repos/pandas-dev/pandas/labels/API%20-%20Consistency', 'name': 'API - Consistency', 'color': 'b60205', 'default': False, 'description': 'Internal Consistency of API/Behavior'}, {'id': 697792067, 'node_id': 'MDU6TGFiZWw2OTc3OTIwNjc=', 'url': 'https://api.github.com/repos/pandas-dev/pandas/labels/Apply', 'name': 'Apply', 'color': 'fbca04', 'default': False, 'description': 'Apply, Aggregate, Transform'}, {'id': 76811, 'node_id': 'MDU6TGFiZWw3NjgxMQ==', 'url': 'https://api.github.com/repos/pandas-dev/pandas/labels/Bug', 'name': 'Bug', 'color': 'e10c02', 'default': False, 'description': None}], 'state': 'open', 'locked': False, 'assignee': {'login': 'rhshadrach', 'id': 45562402, 'node_id': 'MDQ6VXNlcjQ1NTYyNDAy', 'avatar_url': 'https://avatars.githubusercontent.com/u/45562402?v=4', 'gravatar_id': '', 'url': 'https://api.github.com/users/rhshadrach', 'html_url': 'https://github.com/rhshadrach', 'followers_url': 'https://api.github.com/users/rhshadrach/followers', 'following_url': 'https://api.github.com/users/rhshadrach/following{/other_user}', 'gists_url': 'https://api.github.com/users/rhshadrach/gists{/gist_id}', 'starred_url': 'https://api.github.com/users/rhshadrach/starred{/owner}{/repo}', 'subscriptions_url': 'https://api.github.com/users/rhshadrach/subscriptions', 'organizations_url': 'https://api.github.com/users/rhshadrach/orgs', 'repos_url': 'https://api.github.com/users/rhshadrach/repos', 'events_url': 'https://api.github.com/users/rhshadrach/events{/privacy}', 'received_events_url': 'https://api.github.com/users/rhshadrach/received_events', 'type': 'User', 'site_admin': False}, 'assignees': [{'login': 'rhshadrach', 'id': 45562402, 'node_id': 'MDQ6VXNlcjQ1NTYyNDAy', 'avatar_url': 'https://avatars.githubusercontent.com/u/45562402?v=4', 'gravatar_id': '', 'url': 'https://api.github.com/users/rhshadrach', 'html_url': 'https://github.com/rhshadrach', 'followers_url': 'https://api.github.com/users/rhshadrach/followers', 'following_url': 'https://api.github.com/users/rhshadrach/following{/other_user}', 'gists_url': 'https://api.github.com/users/rhshadrach/gists{/gist_id}', 'starred_url': 'https://api.github.com/users/rhshadrach/starred{/owner}{/repo}', 'subscriptions_url': 'https://api.github.com/users/rhshadrach/subscriptions', 'organizations_url': 'https://api.github.com/users/rhshadrach/orgs', 'repos_url': 'https://api.github.com/users/rhshadrach/repos', 'events_url': 'https://api.github.com/users/rhshadrach/events{/privacy}', 'received_events_url': 'https://api.github.com/users/rhshadrach/received_events', 'type': 'User', 'site_admin': False}], 'milestone': None, 'comments': 0, 'created_at': '2021-02-20T14:05:07Z', 'updated_at': '2021-02-20T14:05:07Z', 'closed_at': None, 'author_association': 'MEMBER', 'active_lock_reason': None, 'body': \"Compare\\r\\n\\r\\n```\\r\\ndf = pd.DataFrame({'a': [1, 2, 3], 'b': [4, 5, 6]})\\r\\nprint(df.apply('size'))\\r\\nprint(df.apply(['size']))\\r\\nprint('---')\\r\\nprint(df.agg('size'))\\r\\nprint(df.agg(['size']))\\r\\n```\\r\\n\\r\\ngives\\r\\n\\r\\n```\\r\\n6\\r\\n      a  b\\r\\nsize  3  3\\r\\n---\\r\\n6\\r\\n      a  b\\r\\nsize  3  3\\r\\n```\\r\\n\\r\\nagg/apply should operate on rows/columns.\", 'performed_via_github_app': None}, {'url': 'https://api.github.com/repos/pandas-dev/pandas/issues/39931', 'repository_url': 'https://api.github.com/repos/pandas-dev/pandas', 'labels_url': 'https://api.github.com/repos/pandas-dev/pandas/issues/39931/labels{/name}', 'comments_url': 'https://api.github.com/repos/pandas-dev/pandas/issues/39931/comments', 'events_url': 'https://api.github.com/repos/pandas-dev/pandas/issues/39931/events', 'html_url': 'https://github.com/pandas-dev/pandas/issues/39931', 'id': 812613884, 'node_id': 'MDU6SXNzdWU4MTI2MTM4ODQ=', 'number': 39931, 'title': 'BUG: Index alignment behaviour', 'user': {'login': 'complexsum', 'id': 51440666, 'node_id': 'MDQ6VXNlcjUxNDQwNjY2', 'avatar_url': 'https://avatars.githubusercontent.com/u/51440666?v=4', 'gravatar_id': '', 'url': 'https://api.github.com/users/complexsum', 'html_url': 'https://github.com/complexsum', 'followers_url': 'https://api.github.com/users/complexsum/followers', 'following_url': 'https://api.github.com/users/complexsum/following{/other_user}', 'gists_url': 'https://api.github.com/users/complexsum/gists{/gist_id}', 'starred_url': 'https://api.github.com/users/complexsum/starred{/owner}{/repo}', 'subscriptions_url': 'https://api.github.com/users/complexsum/subscriptions', 'organizations_url': 'https://api.github.com/users/complexsum/orgs', 'repos_url': 'https://api.github.com/users/complexsum/repos', 'events_url': 'https://api.github.com/users/complexsum/events{/privacy}', 'received_events_url': 'https://api.github.com/users/complexsum/received_events', 'type': 'User', 'site_admin': False}, 'labels': [{'id': 76811, 'node_id': 'MDU6TGFiZWw3NjgxMQ==', 'url': 'https://api.github.com/repos/pandas-dev/pandas/labels/Bug', 'name': 'Bug', 'color': 'e10c02', 'default': False, 'description': None}, {'id': 2822098, 'node_id': 'MDU6TGFiZWwyODIyMDk4', 'url': 'https://api.github.com/repos/pandas-dev/pandas/labels/Indexing', 'name': 'Indexing', 'color': '0b02e1', 'default': False, 'description': 'Related to indexing on series/frames, not to indexes themselves'}, {'id': 32815646, 'node_id': 'MDU6TGFiZWwzMjgxNTY0Ng==', 'url': 'https://api.github.com/repos/pandas-dev/pandas/labels/Regression', 'name': 'Regression', 'color': 'e11d21', 'default': False, 'description': 'Functionality that used to work in a prior pandas version'}], 'state': 'open', 'locked': False, 'assignee': None, 'assignees': [], 'milestone': {'url': 'https://api.github.com/repos/pandas-dev/pandas/milestones/83', 'html_url': 'https://github.com/pandas-dev/pandas/milestone/83', 'labels_url': 'https://api.github.com/repos/pandas-dev/pandas/milestones/83/labels', 'id': 6402340, 'node_id': 'MDk6TWlsZXN0b25lNjQwMjM0MA==', 'number': 83, 'title': '1.2.3', 'description': 'on-merge: backport to 1.2.x\\r\\n\\r\\n', 'creator': {'login': 'simonjayhawkins', 'id': 13159005, 'node_id': 'MDQ6VXNlcjEzMTU5MDA1', 'avatar_url': 'https://avatars.githubusercontent.com/u/13159005?v=4', 'gravatar_id': '', 'url': 'https://api.github.com/users/simonjayhawkins', 'html_url': 'https://github.com/simonjayhawkins', 'followers_url': 'https://api.github.com/users/simonjayhawkins/followers', 'following_url': 'https://api.github.com/users/simonjayhawkins/following{/other_user}', 'gists_url': 'https://api.github.com/users/simonjayhawkins/gists{/gist_id}', 'starred_url': 'https://api.github.com/users/simonjayhawkins/starred{/owner}{/repo}', 'subscriptions_url': 'https://api.github.com/users/simonjayhawkins/subscriptions', 'organizations_url': 'https://api.github.com/users/simonjayhawkins/orgs', 'repos_url': 'https://api.github.com/users/simonjayhawkins/repos', 'events_url': 'https://api.github.com/users/simonjayhawkins/events{/privacy}', 'received_events_url': 'https://api.github.com/users/simonjayhawkins/received_events', 'type': 'User', 'site_admin': False}, 'open_issues': 17, 'closed_issues': 17, 'state': 'open', 'created_at': '2021-02-07T13:58:05Z', 'updated_at': '2021-02-20T22:22:34Z', 'due_on': '2021-03-01T08:00:00Z', 'closed_at': None}, 'comments': 4, 'created_at': '2021-02-20T13:27:12Z', 'updated_at': '2021-02-20T22:22:34Z', 'closed_at': None, 'author_association': 'NONE', 'active_lock_reason': None, 'body': \"- [x] I have checked that this issue has not already been reported.\\r\\n\\r\\n- [x] I have confirmed this bug exists on the latest version of pandas.\\r\\n\\r\\n- [x] (optional) I have confirmed this bug exists on the master branch of pandas.\\r\\n\\r\\n---\\r\\n\\r\\n**Note**: Please read [this guide](https://matthewrocklin.com/blog/work/2018/02/28/minimal-bug-reports) detailing how to provide the necessary information for us to reproduce your bug.\\r\\n\\r\\n#### Code Sample\\r\\n\\r\\n```python\\r\\n\\r\\nnp.random.seed(1)\\r\\ndf = pd.DataFrame(np.random.randint(0, 100, (10, 2)), columns=['A', 'B'])\\r\\n\\r\\n>>> df\\r\\n    A   B\\r\\n0  37  12\\r\\n1  72   9\\r\\n2  75   5\\r\\n3  79  64\\r\\n4  16   1\\r\\n5  76  71\\r\\n6   6  25\\r\\n7  50  20\\r\\n8  18  84\\r\\n9  11  28\\r\\n\\r\\nmask = df['A'] >= 40\\r\\n>>> df[mask]\\r\\n    A   B\\r\\n1  72   9\\r\\n2  75   5\\r\\n3  79  64\\r\\n5  76  71\\r\\n7  50  20\\r\\n\\r\\n>>> df[mask].sort_values('A')\\r\\n    A   B\\r\\n7  50  20\\r\\n1  72   9\\r\\n2  75   5\\r\\n5  76  71\\r\\n3  79  64\\r\\n```\\r\\n### CASE 1: Assignment with `.loc`\\r\\nNo problem here this is expected behaviour as pandas align data on indices.\\r\\n\\r\\n```python\\r\\ndf.loc[mask] = df[mask].sort_values('A')\\r\\n>>> df[mask] \\r\\n\\r\\n    A   B\\r\\n1  72   9\\r\\n2  75   5\\r\\n3  79  64\\r\\n5  76  71\\r\\n7  50  20\\r\\n```\\r\\n\\r\\n### CASE 2: Assignment without `.loc`\\r\\n**The problem**  is here. In pandas version `1.2.x` assignment without using `.loc` no longer respects  `index` alignment behaviour which was previously respected in version `1.1.x`.\\r\\n\\r\\n```python\\r\\ndf[mask] = df[mask].sort_values('A')\\r\\n>>> df[mask]\\r\\n\\r\\n    A   B\\r\\n1  50  20\\r\\n2  72   9\\r\\n3  75   5\\r\\n5  76  71\\r\\n7  79  64\\r\\n\\r\\n```\\r\\n\\r\\n#### Problem description\\r\\n\\r\\nLets say we want to sort the values of the slice of the dataframe and assign the sorted values back to the original dataframe in-place. \\r\\n- In `CASE 1` when using assignment with `.loc` **no effect of sorting the slice is observed in original dataframe which is *expected as pandas align data on indices***.\\r\\n- In `CASE 2` when using assignment without `.loc` **the assignment operation no longer respects the alignment of indices** which is unexpected behaviour in pandas version `1.2.x`\\r\\n\\r\\nPrior to pandas version `1.2.x` lets say in pandas version `1.1.5` the assignment operation even without using the `loc` respected the index alignment behaviour.\\r\\n\\r\\n#### Expected Output\\r\\nIn `CASE 2` the expected output should be:\\r\\n\\r\\n```python\\r\\n>>> df[mask]\\r\\n    A   B\\r\\n1  72   9\\r\\n2  75   5\\r\\n3  79  64\\r\\n5  76  71\\r\\n7  50  20\\r\\n```\\r\\nAs the assignment operation should respect the pandas alignment of indices behaviour.\\r\\n\\r\\n#### Output of ``pd.show_versions()``\\r\\n\\r\\n<details>\\r\\n\\r\\nINSTALLED VERSIONS\\r\\n------------------\\r\\ncommit           : 7d32926db8f7541c356066dcadabf854487738de\\r\\npython           : 3.8.6.final.0\\r\\npython-bits      : 64\\r\\nOS               : Linux\\r\\nOS-release       : 5.8.0-44-generic\\r\\nVersion          : #50-Ubuntu SMP Tue Feb 9 06:29:41 UTC 2021\\r\\nmachine          : x86_64\\r\\nprocessor        : x86_64\\r\\nbyteorder        : little\\r\\nLC_ALL           : None\\r\\nLANG             : en_IN\\r\\nLOCALE           : en_IN.ISO8859-1\\r\\n\\r\\npandas           : 1.2.2\\r\\nnumpy            : 1.18.5\\r\\npytz             : 2020.1\\r\\ndateutil         : 2.8.1\\r\\npip              : 20.1.1\\r\\nsetuptools       : 44.0.0\\r\\nCython           : None\\r\\npytest           : 6.2.1\\r\\nhypothesis       : None\\r\\nsphinx           : 3.4.3\\r\\nblosc            : None\\r\\nfeather          : None\\r\\nxlsxwriter       : 1.3.5\\r\\nlxml.etree       : 4.6.2\\r\\nhtml5lib         : 1.1\\r\\npymysql          : None\\r\\npsycopg2         : None\\r\\njinja2           : 2.11.2\\r\\nIPython          : 7.18.1\\r\\npandas_datareader: 0.9.0\\r\\nbs4              : 4.9.1\\r\\nbottleneck       : None\\r\\nfsspec           : 0.8.5\\r\\nfastparquet      : 0.5.0\\r\\ngcsfs            : None\\r\\nmatplotlib       : 3.3.2\\r\\nnumexpr          : None\\r\\nodfpy            : None\\r\\nopenpyxl         : 3.0.5\\r\\npandas_gbq       : None\\r\\npyarrow          : 2.0.0\\r\\npyxlsb           : None\\r\\ns3fs             : None\\r\\nscipy            : 1.5.2\\r\\nsqlalchemy       : 1.3.22\\r\\ntables           : None\\r\\ntabulate         : 0.8.7\\r\\nxarray           : 0.16.2\\r\\nxlrd             : 1.2.0\\r\\nxlwt             : None\\r\\nnumba            : 0.50.1\\r\\n\\r\\n</details>\\r\\n\", 'performed_via_github_app': None}, {'url': 'https://api.github.com/repos/pandas-dev/pandas/issues/39930', 'repository_url': 'https://api.github.com/repos/pandas-dev/pandas', 'labels_url': 'https://api.github.com/repos/pandas-dev/pandas/issues/39930/labels{/name}', 'comments_url': 'https://api.github.com/repos/pandas-dev/pandas/issues/39930/comments', 'events_url': 'https://api.github.com/repos/pandas-dev/pandas/issues/39930/events', 'html_url': 'https://github.com/pandas-dev/pandas/pull/39930', 'id': 812601287, 'node_id': 'MDExOlB1bGxSZXF1ZXN0NTc2OTI5ODc3', 'number': 39930, 'title': 'ENH: add a gradient map to background gradient', 'user': {'login': 'attack68', 'id': 24256554, 'node_id': 'MDQ6VXNlcjI0MjU2NTU0', 'avatar_url': 'https://avatars.githubusercontent.com/u/24256554?v=4', 'gravatar_id': '', 'url': 'https://api.github.com/users/attack68', 'html_url': 'https://github.com/attack68', 'followers_url': 'https://api.github.com/users/attack68/followers', 'following_url': 'https://api.github.com/users/attack68/following{/other_user}', 'gists_url': 'https://api.github.com/users/attack68/gists{/gist_id}', 'starred_url': 'https://api.github.com/users/attack68/starred{/owner}{/repo}', 'subscriptions_url': 'https://api.github.com/users/attack68/subscriptions', 'organizations_url': 'https://api.github.com/users/attack68/orgs', 'repos_url': 'https://api.github.com/users/attack68/repos', 'events_url': 'https://api.github.com/users/attack68/events{/privacy}', 'received_events_url': 'https://api.github.com/users/attack68/received_events', 'type': 'User', 'site_admin': False}, 'labels': [], 'state': 'open', 'locked': False, 'assignee': None, 'assignees': [], 'milestone': None, 'comments': 0, 'created_at': '2021-02-20T12:39:29Z', 'updated_at': '2021-02-20T18:21:07Z', 'closed_at': None, 'author_association': 'CONTRIBUTOR', 'active_lock_reason': None, 'pull_request': {'url': 'https://api.github.com/repos/pandas-dev/pandas/pulls/39930', 'html_url': 'https://github.com/pandas-dev/pandas/pull/39930', 'diff_url': 'https://github.com/pandas-dev/pandas/pull/39930.diff', 'patch_url': 'https://github.com/pandas-dev/pandas/pull/39930.patch'}, 'body': '- [x] closes #22727 and #28901\\r\\n- [x] tests added / passed\\r\\n- [x] Ensure all linting tests pass, see [here](https://pandas.pydata.org/pandas-docs/dev/development/contributing.html#code-standards) for how to run them\\r\\n- [x] whatsnew entry\\r\\n\\r\\nA very minor extension to the code and adding one argument gives the function a lot more scope:\\r\\n\\r\\n![Screen Shot 2021-02-20 at 14 04 14](https://user-images.githubusercontent.com/24256554/108596326-a0779180-7384-11eb-97f5-60ea0a23bda1.png)\\r\\n![Screen Shot 2021-02-20 at 14 04 23](https://user-images.githubusercontent.com/24256554/108596327-a1a8be80-7384-11eb-8ec7-c197455066b0.png)\\r\\n\\r\\n', 'performed_via_github_app': None}, {'url': 'https://api.github.com/repos/pandas-dev/pandas/issues/39929', 'repository_url': 'https://api.github.com/repos/pandas-dev/pandas', 'labels_url': 'https://api.github.com/repos/pandas-dev/pandas/issues/39929/labels{/name}', 'comments_url': 'https://api.github.com/repos/pandas-dev/pandas/issues/39929/comments', 'events_url': 'https://api.github.com/repos/pandas-dev/pandas/issues/39929/events', 'html_url': 'https://github.com/pandas-dev/pandas/issues/39929', 'id': 812562023, 'node_id': 'MDU6SXNzdWU4MTI1NjIwMjM=', 'number': 39929, 'title': 'ENH: Want a new feature in merge_asof function, which includes the all the rows of the right data frame with duplicate values of the coulumn on which it is matched , in the merged dataframe', 'user': {'login': 'thakardarshit', 'id': 58983090, 'node_id': 'MDQ6VXNlcjU4OTgzMDkw', 'avatar_url': 'https://avatars.githubusercontent.com/u/58983090?v=4', 'gravatar_id': '', 'url': 'https://api.github.com/users/thakardarshit', 'html_url': 'https://github.com/thakardarshit', 'followers_url': 'https://api.github.com/users/thakardarshit/followers', 'following_url': 'https://api.github.com/users/thakardarshit/following{/other_user}', 'gists_url': 'https://api.github.com/users/thakardarshit/gists{/gist_id}', 'starred_url': 'https://api.github.com/users/thakardarshit/starred{/owner}{/repo}', 'subscriptions_url': 'https://api.github.com/users/thakardarshit/subscriptions', 'organizations_url': 'https://api.github.com/users/thakardarshit/orgs', 'repos_url': 'https://api.github.com/users/thakardarshit/repos', 'events_url': 'https://api.github.com/users/thakardarshit/events{/privacy}', 'received_events_url': 'https://api.github.com/users/thakardarshit/received_events', 'type': 'User', 'site_admin': False}, 'labels': [{'id': 76812, 'node_id': 'MDU6TGFiZWw3NjgxMg==', 'url': 'https://api.github.com/repos/pandas-dev/pandas/labels/Enhancement', 'name': 'Enhancement', 'color': '4E9A06', 'default': False, 'description': None}, {'id': 1954720290, 'node_id': 'MDU6TGFiZWwxOTU0NzIwMjkw', 'url': 'https://api.github.com/repos/pandas-dev/pandas/labels/Needs%20Triage', 'name': 'Needs Triage', 'color': '0052cc', 'default': False, 'description': 'Issue that has not been reviewed by a pandas team member'}], 'state': 'open', 'locked': False, 'assignee': None, 'assignees': [], 'milestone': None, 'comments': 1, 'created_at': '2021-02-20T09:22:56Z', 'updated_at': '2021-02-20T11:15:58Z', 'closed_at': None, 'author_association': 'NONE', 'active_lock_reason': None, 'body': '#### I want a new feature in merge_asof function of pandas?\\r\\n\\r\\nI wish I could keep all the rows of the right data frame after merging if that row has duplicates values in the \"on\" coulumns which I am matching \\r\\n\\r\\n#### I have given an example as a code in the code block \\r\\n\\r\\nI have medical data, which has two data frames, one is the radiology scan or any other medical report and the other one is the OPD visit of the patient where the doctor makes the diagnosis or writes comments. The OPD data frame has multiple visits from one patient in a calendar year but has only one radiology_scan or medical report. The visit year might or might not be same, hence I am using merge_asof function to match the radiology visit with the nearest OPD visit. If the patient had multiple OPD visits in the same year as the scan year in radiology sheet, I want to preserve all the OPD visits of that year for that patient in the merged sheet. In merge_asof I am only able to get the first OPD visit form the patient , even if there are multiple in that year which matches the scan year or is near to it .  \\r\\n\\r\\n#### Can you add any parameter in the function so that we can use the above feature \\r\\n\\r\\n\\r\\n\\r\\n#### I have used merge function\\r\\n\\r\\nMerge function keeps all the data of the visit year if there are multiple visits in the matched year, but I cannot asof in it\\r\\n\\r\\n\\r\\n```python\\r\\n# import pandas as pd\\r\\n\\r\\nradiology_scan = pd.DataFrame({\"patient_id\":[\\'a001\\',\\'a002\\',\\'a003\\'],\\r\\n                     \"Visit_year\": [2010, 2012, 2016], \"scan_report\": [1, 55,2]})\\r\\n\\r\\n\\r\\n\\r\\nOPD_data = pd.DataFrame({\"patient_id\":[\\'a001\\',\\'a001\\',\\'a002\\',\\'a003\\',\\'a004\\',\\'a005\\'],\\r\\n                      \\r\\n                      \"Visit_year\": [2010 , 2010 , 2013, 2017, 2017,2018],\\r\\n                      \\r\\n                      \"doctor_comments\": [\\'diagnosis normal, xyz symptoms\\',\\r\\n                                          \\'diagnosis normal, abc symptoms\\',\\r\\n                                          \\'diagnosis abnormal, pqr symptoms\\',\\r\\n                                          \\'diagnosis abnormal, apq symptoms\\',\\r\\n                                          \\'diagnosis normal, xzy symptoms\\',\\r\\n                                          \\'diagnosis abnormal, yzx symptoms\\' ]})\\r\\n# here the patient a001 has two visits in opd data frame, when i merge it I want both the visits data, to be reflected \\r\\n# in the merged dataframe\\r\\n\\r\\nx = pd.merge_asof(radiology_scan, OPD_data, on =  [\"Visit_year\"], by =   [\"patient_id\"] , direction=\"nearest\")\\r\\n# when using merge_asof only the first visit of the a001\\'s OPD is seen in the merged data frame\\r\\n\\r\\ny = pd.merge(radiology_scan, OPD_data, on =[\"Visit_year\",\"patient_id\" ], how = \\'left\\' )\\r\\n# merge function gives both visits of the matched visit year , but i cannot merge the nearest visits of other patients whose\\r\\n# visit years from both the data frames don\\'t match  ( as in merge_asof )\\r\\n\\r\\n```\\r\\n', 'performed_via_github_app': None}, {'url': 'https://api.github.com/repos/pandas-dev/pandas/issues/39928', 'repository_url': 'https://api.github.com/repos/pandas-dev/pandas', 'labels_url': 'https://api.github.com/repos/pandas-dev/pandas/issues/39928/labels{/name}', 'comments_url': 'https://api.github.com/repos/pandas-dev/pandas/issues/39928/comments', 'events_url': 'https://api.github.com/repos/pandas-dev/pandas/issues/39928/events', 'html_url': 'https://github.com/pandas-dev/pandas/issues/39928', 'id': 812550314, 'node_id': 'MDU6SXNzdWU4MTI1NTAzMTQ=', 'number': 39928, 'title': 'BUG: Sampling over selected groupbys does not reflect the selection', 'user': {'login': 'wjsi', 'id': 8284922, 'node_id': 'MDQ6VXNlcjgyODQ5MjI=', 'avatar_url': 'https://avatars.githubusercontent.com/u/8284922?v=4', 'gravatar_id': '', 'url': 'https://api.github.com/users/wjsi', 'html_url': 'https://github.com/wjsi', 'followers_url': 'https://api.github.com/users/wjsi/followers', 'following_url': 'https://api.github.com/users/wjsi/following{/other_user}', 'gists_url': 'https://api.github.com/users/wjsi/gists{/gist_id}', 'starred_url': 'https://api.github.com/users/wjsi/starred{/owner}{/repo}', 'subscriptions_url': 'https://api.github.com/users/wjsi/subscriptions', 'organizations_url': 'https://api.github.com/users/wjsi/orgs', 'repos_url': 'https://api.github.com/users/wjsi/repos', 'events_url': 'https://api.github.com/users/wjsi/events{/privacy}', 'received_events_url': 'https://api.github.com/users/wjsi/received_events', 'type': 'User', 'site_admin': False}, 'labels': [{'id': 76811, 'node_id': 'MDU6TGFiZWw3NjgxMQ==', 'url': 'https://api.github.com/repos/pandas-dev/pandas/labels/Bug', 'name': 'Bug', 'color': 'e10c02', 'default': False, 'description': None}, {'id': 1954720290, 'node_id': 'MDU6TGFiZWwxOTU0NzIwMjkw', 'url': 'https://api.github.com/repos/pandas-dev/pandas/labels/Needs%20Triage', 'name': 'Needs Triage', 'color': '0052cc', 'default': False, 'description': 'Issue that has not been reviewed by a pandas team member'}], 'state': 'open', 'locked': False, 'assignee': None, 'assignees': [], 'milestone': None, 'comments': 0, 'created_at': '2021-02-20T08:20:45Z', 'updated_at': '2021-02-20T09:15:26Z', 'closed_at': None, 'author_association': 'NONE', 'active_lock_reason': None, 'body': \"- [x] I have checked that this issue has not already been reported.\\r\\n\\r\\n- [x] I have confirmed this bug exists on the latest version of pandas.\\r\\n\\r\\n- [ ] (optional) I have confirmed this bug exists on the master branch of pandas.\\r\\n\\r\\n---\\r\\n\\r\\n#### Code Sample, a copy-pastable example\\r\\n\\r\\n```python\\r\\n>>> import pandas as pd\\r\\n>>> df1 = pd.DataFrame({'a': [3, 5, 2, 7, 1, 2, 4, 6, 2, 4],\\r\\n                       'b': [8, 3, 4, 1, 8, 2, 2, 2, 2, 3],\\r\\n                       'c': [1, 8, 8, 5, 3, 5, 0, 0, 5, 4],\\r\\n                       'd': [9, 7, 6, 3, 6, 3, 2, 1, 5, 8]}, index=list(range(10, 20)))\\r\\n>>> # selecting one single column works\\r\\n>>> df1.groupby('c').b.sample(1)\\r\\n7    2\\r\\n0    8\\r\\n4    8\\r\\n9    3\\r\\n3    1\\r\\n2    4\\r\\nName: b, dtype: int64\\r\\n>>> # selecting multiple columns does not work\\r\\n>>> df1.groupby('c')[['a', 'd']].sample(1)\\r\\n   a  b  c  d\\r\\n7  6  2  0  1\\r\\n0  3  8  1  9\\r\\n4  1  8  3  6\\r\\n9  4  3  4  8\\r\\n8  2  2  5  5\\r\\n2  2  4  8  6\\r\\n```\\r\\n\\r\\n#### Problem description\\r\\n\\r\\nWhen ``['a', 'd']`` is selected, the result should only contain column ``a`` and ``d``. However, this selection has no effect on the result produced by `groupby-sample`.\\r\\n\\r\\n#### Expected Output\\r\\n\\r\\n```python\\r\\n>>> df1.groupby('c')[['a', 'd']].sample(1)\\r\\n   a  d\\r\\n7  6  1\\r\\n0  3  9\\r\\n4  1  6\\r\\n9  4  8\\r\\n8  2  5\\r\\n2  2  6\\r\\n```\\r\\n\\r\\n#### Output of ``pd.show_versions()``\\r\\n\\r\\n<details>\\r\\n\\r\\nINSTALLED VERSIONS\\r\\n------------------\\r\\ncommit           : 7d32926db8f7541c356066dcadabf854487738de\\r\\npython           : 3.8.5.final.0\\r\\npython-bits      : 64\\r\\nOS               : Darwin\\r\\nOS-release       : 19.6.0\\r\\nVersion          : Darwin Kernel Version 19.6.0: Tue Jan 12 22:13:05 PST 2021; root:xnu-6153.141.16~1/RELEASE_X86_64\\r\\nmachine          : x86_64\\r\\nprocessor        : i386\\r\\nbyteorder        : little\\r\\nLC_ALL           : None\\r\\nLANG             : None\\r\\nLOCALE           : zh_CN.UTF-8\\r\\npandas           : 1.2.2\\r\\nnumpy            : 1.19.1\\r\\npytz             : 2021.1\\r\\ndateutil         : 2.8.1\\r\\npip              : 20.2.2\\r\\nsetuptools       : 49.6.0.post20200814\\r\\nCython           : 0.29.21\\r\\npytest           : 6.0.1\\r\\nhypothesis       : None\\r\\nsphinx           : 3.2.1\\r\\nblosc            : None\\r\\nfeather          : None\\r\\nxlsxwriter       : None\\r\\nlxml.etree       : None\\r\\nhtml5lib         : None\\r\\npymysql          : None\\r\\npsycopg2         : None\\r\\njinja2           : 2.11.2\\r\\nIPython          : 7.17.0\\r\\npandas_datareader: None\\r\\nbs4              : None\\r\\nbottleneck       : None\\r\\nfsspec           : None\\r\\nfastparquet      : 0.4.2\\r\\ngcsfs            : None\\r\\nmatplotlib       : 3.2.2\\r\\nnumexpr          : 2.7.1\\r\\nodfpy            : None\\r\\nopenpyxl         : None\\r\\npandas_gbq       : None\\r\\npyarrow          : 1.0.1\\r\\npyxlsb           : None\\r\\ns3fs             : None\\r\\nscipy            : 1.6.0\\r\\nsqlalchemy       : 1.3.18\\r\\ntables           : None\\r\\ntabulate         : None\\r\\nxarray           : None\\r\\nxlrd             : None\\r\\nxlwt             : None\\r\\nnumba            : 0.51.2\\r\\n\\r\\n</details>\\r\\n\", 'performed_via_github_app': None}, {'url': 'https://api.github.com/repos/pandas-dev/pandas/issues/39927', 'repository_url': 'https://api.github.com/repos/pandas-dev/pandas', 'labels_url': 'https://api.github.com/repos/pandas-dev/pandas/issues/39927/labels{/name}', 'comments_url': 'https://api.github.com/repos/pandas-dev/pandas/issues/39927/comments', 'events_url': 'https://api.github.com/repos/pandas-dev/pandas/issues/39927/events', 'html_url': 'https://github.com/pandas-dev/pandas/issues/39927', 'id': 812544603, 'node_id': 'MDU6SXNzdWU4MTI1NDQ2MDM=', 'number': 39927, 'title': 'BUG: Cannot sample on DataFrameGroupBy with weights when index is specified', 'user': {'login': 'wjsi', 'id': 8284922, 'node_id': 'MDQ6VXNlcjgyODQ5MjI=', 'avatar_url': 'https://avatars.githubusercontent.com/u/8284922?v=4', 'gravatar_id': '', 'url': 'https://api.github.com/users/wjsi', 'html_url': 'https://github.com/wjsi', 'followers_url': 'https://api.github.com/users/wjsi/followers', 'following_url': 'https://api.github.com/users/wjsi/following{/other_user}', 'gists_url': 'https://api.github.com/users/wjsi/gists{/gist_id}', 'starred_url': 'https://api.github.com/users/wjsi/starred{/owner}{/repo}', 'subscriptions_url': 'https://api.github.com/users/wjsi/subscriptions', 'organizations_url': 'https://api.github.com/users/wjsi/orgs', 'repos_url': 'https://api.github.com/users/wjsi/repos', 'events_url': 'https://api.github.com/users/wjsi/events{/privacy}', 'received_events_url': 'https://api.github.com/users/wjsi/received_events', 'type': 'User', 'site_admin': False}, 'labels': [{'id': 76811, 'node_id': 'MDU6TGFiZWw3NjgxMQ==', 'url': 'https://api.github.com/repos/pandas-dev/pandas/labels/Bug', 'name': 'Bug', 'color': 'e10c02', 'default': False, 'description': None}, {'id': 1954720290, 'node_id': 'MDU6TGFiZWwxOTU0NzIwMjkw', 'url': 'https://api.github.com/repos/pandas-dev/pandas/labels/Needs%20Triage', 'name': 'Needs Triage', 'color': '0052cc', 'default': False, 'description': 'Issue that has not been reviewed by a pandas team member'}], 'state': 'open', 'locked': False, 'assignee': None, 'assignees': [], 'milestone': None, 'comments': 0, 'created_at': '2021-02-20T07:49:37Z', 'updated_at': '2021-02-20T08:21:13Z', 'closed_at': None, 'author_association': 'NONE', 'active_lock_reason': None, 'body': '- [x] I have checked that this issue has not already been reported.\\r\\n\\r\\n- [x] I have confirmed this bug exists on the latest version of pandas.\\r\\n\\r\\n- [ ] (optional) I have confirmed this bug exists on the master branch of pandas.\\r\\n\\r\\n---\\r\\n\\r\\n#### Code Sample, a copy-pastable example\\r\\n\\r\\n```python\\r\\nimport pandas as pd\\r\\ndf1 = pd.DataFrame({\\'a\\': [3, 5, 2, 7, 1, 2, 4, 6, 2, 4],\\r\\n                    \\'b\\': [8, 3, 4, 1, 8, 2, 2, 2, 2, 3],\\r\\n                    \\'c\\': [1, 8, 8, 5, 3, 5, 0, 0, 5, 4],\\r\\n                    \\'d\\': [9, 7, 6, 3, 6, 3, 2, 1, 5, 8]}, index=list(range(10, 20)))\\r\\ndf1.groupby(\\'c\\').sample(1, weights=df1[\\'d\\'].to_numpy())\\r\\n```\\r\\n\\r\\n#### Problem description\\r\\n\\r\\nSampling ought to work but exception is reported with error stack below:\\r\\n\\r\\n```\\r\\nTraceback (most recent call last):\\r\\n  File \"/Users/wenjun/miniconda3/lib/python3.8/site-packages/IPython/core/interactiveshell.py\", line 3417, in run_code\\r\\n    exec(code_obj, self.user_global_ns, self.user_ns)\\r\\n  File \"<ipython-input-4-1fc31a504740>\", line 1, in <module>\\r\\n    df1.groupby(\\'c\\').sample(1, weights=df1[\\'d\\'].to_numpy())\\r\\n  File \"/Users/wenjun/miniconda3/lib/python3.8/site-packages/pandas/core/groupby/groupby.py\", line 3024, in sample\\r\\n    ws = [weights[idx] for idx in self.indices.values()]\\r\\n  File \"/Users/wenjun/miniconda3/lib/python3.8/site-packages/pandas/core/groupby/groupby.py\", line 3024, in <listcomp>\\r\\n    ws = [weights[idx] for idx in self.indices.values()]\\r\\n  File \"/Users/wenjun/miniconda3/lib/python3.8/site-packages/pandas/core/series.py\", line 875, in __getitem__\\r\\n    return self._get_with(key)\\r\\n  File \"/Users/wenjun/miniconda3/lib/python3.8/site-packages/pandas/core/series.py\", line 910, in _get_with\\r\\n    return self.loc[key]\\r\\n  File \"/Users/wenjun/miniconda3/lib/python3.8/site-packages/pandas/core/indexing.py\", line 895, in __getitem__\\r\\n    return self._getitem_axis(maybe_callable, axis=axis)\\r\\n  File \"/Users/wenjun/miniconda3/lib/python3.8/site-packages/pandas/core/indexing.py\", line 1113, in _getitem_axis\\r\\n    return self._getitem_iterable(key, axis=axis)\\r\\n  File \"/Users/wenjun/miniconda3/lib/python3.8/site-packages/pandas/core/indexing.py\", line 1053, in _getitem_iterable\\r\\n    keyarr, indexer = self._get_listlike_indexer(key, axis, raise_missing=False)\\r\\n  File \"/Users/wenjun/miniconda3/lib/python3.8/site-packages/pandas/core/indexing.py\", line 1266, in _get_listlike_indexer\\r\\n    self._validate_read_indexer(keyarr, indexer, axis, raise_missing=raise_missing)\\r\\n  File \"/Users/wenjun/miniconda3/lib/python3.8/site-packages/pandas/core/indexing.py\", line 1308, in _validate_read_indexer\\r\\n    raise KeyError(f\"None of [{key}] are in the [{axis_name}]\")\\r\\nKeyError: \"None of [Int64Index([6, 7], dtype=\\'int64\\')] are in the [index]\"\\r\\n```\\r\\n\\r\\n#### Output of ``pd.show_versions()``\\r\\n\\r\\n<details>\\r\\n\\r\\nINSTALLED VERSIONS\\r\\n------------------\\r\\ncommit           : 7d32926db8f7541c356066dcadabf854487738de\\r\\npython           : 3.8.5.final.0\\r\\npython-bits      : 64\\r\\nOS               : Darwin\\r\\nOS-release       : 19.6.0\\r\\nVersion          : Darwin Kernel Version 19.6.0: Tue Jan 12 22:13:05 PST 2021; root:xnu-6153.141.16~1/RELEASE_X86_64\\r\\nmachine          : x86_64\\r\\nprocessor        : i386\\r\\nbyteorder        : little\\r\\nLC_ALL           : None\\r\\nLANG             : None\\r\\nLOCALE           : zh_CN.UTF-8\\r\\npandas           : 1.2.2\\r\\nnumpy            : 1.19.1\\r\\npytz             : 2021.1\\r\\ndateutil         : 2.8.1\\r\\npip              : 20.2.2\\r\\nsetuptools       : 49.6.0.post20200814\\r\\nCython           : 0.29.21\\r\\npytest           : 6.0.1\\r\\nhypothesis       : None\\r\\nsphinx           : 3.2.1\\r\\nblosc            : None\\r\\nfeather          : None\\r\\nxlsxwriter       : None\\r\\nlxml.etree       : None\\r\\nhtml5lib         : None\\r\\npymysql          : None\\r\\npsycopg2         : None\\r\\njinja2           : 2.11.2\\r\\nIPython          : 7.17.0\\r\\npandas_datareader: None\\r\\nbs4              : None\\r\\nbottleneck       : None\\r\\nfsspec           : None\\r\\nfastparquet      : 0.4.2\\r\\ngcsfs            : None\\r\\nmatplotlib       : 3.2.2\\r\\nnumexpr          : 2.7.1\\r\\nodfpy            : None\\r\\nopenpyxl         : None\\r\\npandas_gbq       : None\\r\\npyarrow          : 1.0.1\\r\\npyxlsb           : None\\r\\ns3fs             : None\\r\\nscipy            : 1.6.0\\r\\nsqlalchemy       : 1.3.18\\r\\ntables           : None\\r\\ntabulate         : None\\r\\nxarray           : None\\r\\nxlrd             : None\\r\\nxlwt             : None\\r\\nnumba            : 0.51.2\\r\\n\\r\\n</details>\\r\\n', 'performed_via_github_app': None}, {'url': 'https://api.github.com/repos/pandas-dev/pandas/issues/39926', 'repository_url': 'https://api.github.com/repos/pandas-dev/pandas', 'labels_url': 'https://api.github.com/repos/pandas-dev/pandas/issues/39926/labels{/name}', 'comments_url': 'https://api.github.com/repos/pandas-dev/pandas/issues/39926/comments', 'events_url': 'https://api.github.com/repos/pandas-dev/pandas/issues/39926/events', 'html_url': 'https://github.com/pandas-dev/pandas/issues/39926', 'id': 812518688, 'node_id': 'MDU6SXNzdWU4MTI1MTg2ODg=', 'number': 39926, 'title': 'BUG: fillna(0) does not fill NaNs for Float64Arrays', 'user': {'login': 'evyasonov', 'id': 8870922, 'node_id': 'MDQ6VXNlcjg4NzA5MjI=', 'avatar_url': 'https://avatars.githubusercontent.com/u/8870922?v=4', 'gravatar_id': '', 'url': 'https://api.github.com/users/evyasonov', 'html_url': 'https://github.com/evyasonov', 'followers_url': 'https://api.github.com/users/evyasonov/followers', 'following_url': 'https://api.github.com/users/evyasonov/following{/other_user}', 'gists_url': 'https://api.github.com/users/evyasonov/gists{/gist_id}', 'starred_url': 'https://api.github.com/users/evyasonov/starred{/owner}{/repo}', 'subscriptions_url': 'https://api.github.com/users/evyasonov/subscriptions', 'organizations_url': 'https://api.github.com/users/evyasonov/orgs', 'repos_url': 'https://api.github.com/users/evyasonov/repos', 'events_url': 'https://api.github.com/users/evyasonov/events{/privacy}', 'received_events_url': 'https://api.github.com/users/evyasonov/received_events', 'type': 'User', 'site_admin': False}, 'labels': [{'id': 76811, 'node_id': 'MDU6TGFiZWw3NjgxMQ==', 'url': 'https://api.github.com/repos/pandas-dev/pandas/labels/Bug', 'name': 'Bug', 'color': 'e10c02', 'default': False, 'description': None}, {'id': 2365504893, 'node_id': 'MDU6TGFiZWwyMzY1NTA0ODkz', 'url': 'https://api.github.com/repos/pandas-dev/pandas/labels/Closing%20Candidate', 'name': 'Closing Candidate', 'color': 'be21f2', 'default': False, 'description': 'May be closeable, needs more eyeballs'}, {'id': 1817503692, 'node_id': 'MDU6TGFiZWwxODE3NTAzNjky', 'url': 'https://api.github.com/repos/pandas-dev/pandas/labels/NA%20-%20MaskedArrays', 'name': 'NA - MaskedArrays', 'color': '8cc645', 'default': False, 'description': 'Related to pd.NA and nullable extension arrays'}], 'state': 'open', 'locked': False, 'assignee': None, 'assignees': [], 'milestone': None, 'comments': 8, 'created_at': '2021-02-20T05:14:07Z', 'updated_at': '2021-02-21T14:07:46Z', 'closed_at': None, 'author_association': 'NONE', 'active_lock_reason': None, 'body': \"- [x] I have checked that this issue has not already been reported.\\r\\n\\r\\n- [x] I have confirmed this bug exists on the latest version of pandas.\\r\\n\\r\\n---\\r\\n\\r\\n#### Code Sample, a copy-pastable example\\r\\n\\r\\n```python\\r\\nf = pandas.DataFrame(data = [[0, 0]], columns = ['A', 'B']).astype('Int64')\\r\\nf['C'] = f['A'] / f['B']\\r\\nf.fillna(0)\\r\\n```\\r\\n\\r\\nOutput:\\r\\n```\\r\\n\\tA\\tB\\tC\\r\\n0\\t0\\t0\\tNaN\\r\\n```\\r\\n\\r\\n#### Problem description\\r\\n\\r\\nfillna does not work as expected. It do not fill na\\r\\n\\r\\n#### Expected Output\\r\\n```\\r\\n\\tA\\tB\\tC\\r\\n0\\t0\\t0\\t0\\r\\n```\\r\\n\\r\\n#### Output of ``pd.show_versions()``\\r\\n\\r\\n<details>\\r\\n\\r\\nINSTALLED VERSIONS\\r\\n------------------\\r\\ncommit           : 7d32926db8f7541c356066dcadabf854487738de\\r\\npython           : 3.7.9.final.0\\r\\npython-bits      : 64\\r\\nOS               : Windows\\r\\nOS-release       : 10\\r\\nVersion          : 10.0.18362\\r\\nmachine          : AMD64\\r\\nprocessor        : Intel64 Family 6 Model 142 Stepping 10, GenuineIntel\\r\\nbyteorder        : little\\r\\nLC_ALL           : None\\r\\nLANG             : None\\r\\nLOCALE           : None.None\\r\\n\\r\\npandas           : 1.2.2\\r\\nnumpy            : 1.18.3\\r\\npytz             : 2020.5\\r\\ndateutil         : 2.8.1\\r\\npip              : 20.3.3\\r\\nsetuptools       : 51.3.3.post20210118\\r\\nCython           : 0.29.21\\r\\npytest           : 6.2.1\\r\\nhypothesis       : None\\r\\nsphinx           : 3.4.3\\r\\nblosc            : None\\r\\nfeather          : None\\r\\nxlsxwriter       : 1.3.7\\r\\nlxml.etree       : 4.6.2\\r\\nhtml5lib         : 1.1\\r\\npymysql          : None\\r\\npsycopg2         : None\\r\\njinja2           : 2.11.2\\r\\nIPython          : 7.19.0\\r\\npandas_datareader: None\\r\\nbs4              : 4.9.3\\r\\nbottleneck       : 1.3.2\\r\\nfsspec           : 0.8.3\\r\\nfastparquet      : 0.3.3\\r\\ngcsfs            : None\\r\\nmatplotlib       : 3.2.2\\r\\nnumexpr          : 2.7.2\\r\\nodfpy            : None\\r\\nopenpyxl         : 3.0.6\\r\\npandas_gbq       : None\\r\\npyarrow          : 0.16.0\\r\\npyxlsb           : None\\r\\ns3fs             : None\\r\\nscipy            : 1.5.2\\r\\nsqlalchemy       : 1.3.21\\r\\ntables           : 3.6.1\\r\\ntabulate         : 0.8.7\\r\\nxarray           : None\\r\\nxlrd             : 2.0.1\\r\\nxlwt             : 1.3.0\\r\\nnumba            : 0.51.2\\r\\n\\r\\n</details>\\r\\n\", 'performed_via_github_app': None}, {'url': 'https://api.github.com/repos/pandas-dev/pandas/issues/39925', 'repository_url': 'https://api.github.com/repos/pandas-dev/pandas', 'labels_url': 'https://api.github.com/repos/pandas-dev/pandas/issues/39925/labels{/name}', 'comments_url': 'https://api.github.com/repos/pandas-dev/pandas/issues/39925/comments', 'events_url': 'https://api.github.com/repos/pandas-dev/pandas/issues/39925/events', 'html_url': 'https://github.com/pandas-dev/pandas/pull/39925', 'id': 812513512, 'node_id': 'MDExOlB1bGxSZXF1ZXN0NTc2ODY1NzM4', 'number': 39925, 'title': 'Updated read_html to add option', 'user': {'login': 'Derekt2', 'id': 28223951, 'node_id': 'MDQ6VXNlcjI4MjIzOTUx', 'avatar_url': 'https://avatars.githubusercontent.com/u/28223951?v=4', 'gravatar_id': '', 'url': 'https://api.github.com/users/Derekt2', 'html_url': 'https://github.com/Derekt2', 'followers_url': 'https://api.github.com/users/Derekt2/followers', 'following_url': 'https://api.github.com/users/Derekt2/following{/other_user}', 'gists_url': 'https://api.github.com/users/Derekt2/gists{/gist_id}', 'starred_url': 'https://api.github.com/users/Derekt2/starred{/owner}{/repo}', 'subscriptions_url': 'https://api.github.com/users/Derekt2/subscriptions', 'organizations_url': 'https://api.github.com/users/Derekt2/orgs', 'repos_url': 'https://api.github.com/users/Derekt2/repos', 'events_url': 'https://api.github.com/users/Derekt2/events{/privacy}', 'received_events_url': 'https://api.github.com/users/Derekt2/received_events', 'type': 'User', 'site_admin': False}, 'labels': [], 'state': 'open', 'locked': False, 'assignee': None, 'assignees': [], 'milestone': None, 'comments': 1, 'created_at': '2021-02-20T04:41:01Z', 'updated_at': '2021-02-20T15:31:59Z', 'closed_at': None, 'author_association': 'NONE', 'active_lock_reason': None, 'pull_request': {'url': 'https://api.github.com/repos/pandas-dev/pandas/pulls/39925', 'html_url': 'https://github.com/pandas-dev/pandas/pull/39925', 'diff_url': 'https://github.com/pandas-dev/pandas/pull/39925.diff', 'patch_url': 'https://github.com/pandas-dev/pandas/pull/39925.patch'}, 'body': 'Adds optional boolean parameter \"remove_whitespace\" to skip the remove_whitespace functionality. Defaults to true to support backwards compatibility. See https://github.com/pandas-dev/pandas/issues/24766\\r\\n\\r\\n- [ x ] closes #24766 \\r\\n- [ ] tests added / passed\\r\\n- [ ] Ensure all linting tests pass, see [here](https://pandas.pydata.org/pandas-docs/dev/development/contributing.html#code-standards) for how to run them\\r\\n- [ ] whatsnew entry\\r\\n', 'performed_via_github_app': None}, {'url': 'https://api.github.com/repos/pandas-dev/pandas/issues/39923', 'repository_url': 'https://api.github.com/repos/pandas-dev/pandas', 'labels_url': 'https://api.github.com/repos/pandas-dev/pandas/issues/39923/labels{/name}', 'comments_url': 'https://api.github.com/repos/pandas-dev/pandas/issues/39923/comments', 'events_url': 'https://api.github.com/repos/pandas-dev/pandas/issues/39923/events', 'html_url': 'https://github.com/pandas-dev/pandas/pull/39923', 'id': 812502813, 'node_id': 'MDExOlB1bGxSZXF1ZXN0NTc2ODU3NDg2', 'number': 39923, 'title': 'REF: De-duplicate ExtensionIndex._validate_fill_value', 'user': {'login': 'jbrockmendel', 'id': 8078968, 'node_id': 'MDQ6VXNlcjgwNzg5Njg=', 'avatar_url': 'https://avatars.githubusercontent.com/u/8078968?v=4', 'gravatar_id': '', 'url': 'https://api.github.com/users/jbrockmendel', 'html_url': 'https://github.com/jbrockmendel', 'followers_url': 'https://api.github.com/users/jbrockmendel/followers', 'following_url': 'https://api.github.com/users/jbrockmendel/following{/other_user}', 'gists_url': 'https://api.github.com/users/jbrockmendel/gists{/gist_id}', 'starred_url': 'https://api.github.com/users/jbrockmendel/starred{/owner}{/repo}', 'subscriptions_url': 'https://api.github.com/users/jbrockmendel/subscriptions', 'organizations_url': 'https://api.github.com/users/jbrockmendel/orgs', 'repos_url': 'https://api.github.com/users/jbrockmendel/repos', 'events_url': 'https://api.github.com/users/jbrockmendel/events{/privacy}', 'received_events_url': 'https://api.github.com/users/jbrockmendel/received_events', 'type': 'User', 'site_admin': False}, 'labels': [], 'state': 'open', 'locked': False, 'assignee': None, 'assignees': [], 'milestone': None, 'comments': 0, 'created_at': '2021-02-20T03:35:00Z', 'updated_at': '2021-02-20T03:35:00Z', 'closed_at': None, 'author_association': 'MEMBER', 'active_lock_reason': None, 'pull_request': {'url': 'https://api.github.com/repos/pandas-dev/pandas/pulls/39923', 'html_url': 'https://github.com/pandas-dev/pandas/pull/39923', 'diff_url': 'https://github.com/pandas-dev/pandas/pull/39923.diff', 'patch_url': 'https://github.com/pandas-dev/pandas/pull/39923.patch'}, 'body': '- [ ] closes #xxxx\\r\\n- [ ] tests added / passed\\r\\n- [ ] Ensure all linting tests pass, see [here](https://pandas.pydata.org/pandas-docs/dev/development/contributing.html#code-standards) for how to run them\\r\\n- [ ] whatsnew entry\\r\\n', 'performed_via_github_app': None}]\n"
     ]
    }
   ],
   "source": [
    "import requests\n",
    "import numpy as np\n",
    "\n",
    "url = \"https://api.github.com/repos/pandas-dev/pandas/issues\"\n",
    "resp = requests.get(url)\n",
    "print(resp)\n",
    "data = resp.json()\n",
    "\n",
    "print(data)"
   ]
  },
  {
   "cell_type": "code",
   "execution_count": 60,
   "metadata": {},
   "outputs": [
    {
     "name": "stdout",
     "output_type": "stream",
     "text": [
      "REF: Move transform into apply\n"
     ]
    }
   ],
   "source": [
    "data_dict = data[0]\n",
    "print(data_dict['title'])"
   ]
  },
  {
   "cell_type": "code",
   "execution_count": 61,
   "metadata": {},
   "outputs": [
    {
     "name": "stdout",
     "output_type": "stream",
     "text": [
      "<bound method NDFrame.head of     number                                              title  \\\n",
      "0    39957                     REF: Move transform into apply   \n",
      "1    39956    DOC: Serialization recommendation is deprecated   \n",
      "2    39955     REF: Move the rest of DataFrame.agg into apply   \n",
      "3    39954        REF: Move the rest of Series.agg into apply   \n",
      "4    39953  PERF: avoid object conversion in fillna(method...   \n",
      "5    39952  PERF: Styler render improvement by limiting .j...   \n",
      "6    39951  BUG: `to_html()` contains deprecated and poorl...   \n",
      "7    39949                                       TYP: hashing   \n",
      "8    39948                    REF: implement array_algos.take   \n",
      "9    39947                        TYP: stubfile for _libs.lib   \n",
      "10   39946                              refactor styler tests   \n",
      "11   39945  Change in astype leads to no longer casting to...   \n",
      "12   39944  Fix regression for setitem not aligning rhs wi...   \n",
      "13   39943  BUG: unary operators on IntegerArray return sh...   \n",
      "14   39942       BUG: format multiple CSS selectors correctly   \n",
      "15   39941         DOC: Updated convert_dtype of Series.apply   \n",
      "16   39940  BUG: Groupby ops on empty objects loses index,...   \n",
      "17   39939                    REF: share _maybe_coerce_values   \n",
      "18   39938  ENH: Ability to use \"normalize\" function (df['...   \n",
      "19   39936  ENH: Create script to set up a development env...   \n",
      "20   39935  BUG: DataFrame.agg and apply with 'size' retur...   \n",
      "21   39934  BUG: DataFrame.agg and apply with 'size' retur...   \n",
      "22   39931                     BUG: Index alignment behaviour   \n",
      "23   39930     ENH: add a gradient map to background gradient   \n",
      "24   39929  ENH: Want a new feature in merge_asof function...   \n",
      "25   39928  BUG: Sampling over selected groupbys does not ...   \n",
      "26   39927  BUG: Cannot sample on DataFrameGroupBy with we...   \n",
      "27   39926  BUG: fillna(0) does not fill NaNs for Float64A...   \n",
      "28   39925                    Updated read_html to add option   \n",
      "29   39923  REF: De-duplicate ExtensionIndex._validate_fil...   \n",
      "\n",
      "                                               labels state  \n",
      "0   [{'id': 697792067, 'node_id': 'MDU6TGFiZWw2OTc...  open  \n",
      "1   [{'id': 134699, 'node_id': 'MDU6TGFiZWwxMzQ2OT...  open  \n",
      "2   [{'id': 697792067, 'node_id': 'MDU6TGFiZWw2OTc...  open  \n",
      "3   [{'id': 697792067, 'node_id': 'MDU6TGFiZWw2OTc...  open  \n",
      "4   [{'id': 2822342, 'node_id': 'MDU6TGFiZWwyODIyM...  open  \n",
      "5                                                  []  open  \n",
      "6   [{'id': 76811, 'node_id': 'MDU6TGFiZWw3NjgxMQ=...  open  \n",
      "7                                                  []  open  \n",
      "8                                                  []  open  \n",
      "9                                                  []  open  \n",
      "10                                                 []  open  \n",
      "11  [{'id': 31404521, 'node_id': 'MDU6TGFiZWwzMTQw...  open  \n",
      "12  [{'id': 2822098, 'node_id': 'MDU6TGFiZWwyODIyM...  open  \n",
      "13  [{'id': 76811, 'node_id': 'MDU6TGFiZWw3NjgxMQ=...  open  \n",
      "14                                                 []  open  \n",
      "15                                                 []  open  \n",
      "16  [{'id': 76811, 'node_id': 'MDU6TGFiZWw3NjgxMQ=...  open  \n",
      "17                                                 []  open  \n",
      "18  [{'id': 2365504893, 'node_id': 'MDU6TGFiZWwyMz...  open  \n",
      "19                                                 []  open  \n",
      "20  [{'id': 697792067, 'node_id': 'MDU6TGFiZWw2OTc...  open  \n",
      "21  [{'id': 1741841389, 'node_id': 'MDU6TGFiZWwxNz...  open  \n",
      "22  [{'id': 76811, 'node_id': 'MDU6TGFiZWw3NjgxMQ=...  open  \n",
      "23                                                 []  open  \n",
      "24  [{'id': 76812, 'node_id': 'MDU6TGFiZWw3NjgxMg=...  open  \n",
      "25  [{'id': 76811, 'node_id': 'MDU6TGFiZWw3NjgxMQ=...  open  \n",
      "26  [{'id': 76811, 'node_id': 'MDU6TGFiZWw3NjgxMQ=...  open  \n",
      "27  [{'id': 76811, 'node_id': 'MDU6TGFiZWw3NjgxMQ=...  open  \n",
      "28                                                 []  open  \n",
      "29                                                 []  open  >\n"
     ]
    }
   ],
   "source": [
    "issues = pd.DataFrame(data, columns=['number', 'title', 'labels', 'state'])\n",
    "print(issues.head)"
   ]
  },
  {
   "cell_type": "code",
   "execution_count": 62,
   "metadata": {},
   "outputs": [
    {
     "data": {
      "text/plain": [
       "{'url': 'https://api.github.com/repos/pandas-dev/pandas/issues/39957',\n",
       " 'repository_url': 'https://api.github.com/repos/pandas-dev/pandas',\n",
       " 'labels_url': 'https://api.github.com/repos/pandas-dev/pandas/issues/39957/labels{/name}',\n",
       " 'comments_url': 'https://api.github.com/repos/pandas-dev/pandas/issues/39957/comments',\n",
       " 'events_url': 'https://api.github.com/repos/pandas-dev/pandas/issues/39957/events',\n",
       " 'html_url': 'https://github.com/pandas-dev/pandas/pull/39957',\n",
       " 'id': 812860983,\n",
       " 'node_id': 'MDExOlB1bGxSZXF1ZXN0NTc3MTE1NDk1',\n",
       " 'number': 39957,\n",
       " 'title': 'REF: Move transform into apply',\n",
       " 'user': {'login': 'rhshadrach',\n",
       "  'id': 45562402,\n",
       "  'node_id': 'MDQ6VXNlcjQ1NTYyNDAy',\n",
       "  'avatar_url': 'https://avatars.githubusercontent.com/u/45562402?v=4',\n",
       "  'gravatar_id': '',\n",
       "  'url': 'https://api.github.com/users/rhshadrach',\n",
       "  'html_url': 'https://github.com/rhshadrach',\n",
       "  'followers_url': 'https://api.github.com/users/rhshadrach/followers',\n",
       "  'following_url': 'https://api.github.com/users/rhshadrach/following{/other_user}',\n",
       "  'gists_url': 'https://api.github.com/users/rhshadrach/gists{/gist_id}',\n",
       "  'starred_url': 'https://api.github.com/users/rhshadrach/starred{/owner}{/repo}',\n",
       "  'subscriptions_url': 'https://api.github.com/users/rhshadrach/subscriptions',\n",
       "  'organizations_url': 'https://api.github.com/users/rhshadrach/orgs',\n",
       "  'repos_url': 'https://api.github.com/users/rhshadrach/repos',\n",
       "  'events_url': 'https://api.github.com/users/rhshadrach/events{/privacy}',\n",
       "  'received_events_url': 'https://api.github.com/users/rhshadrach/received_events',\n",
       "  'type': 'User',\n",
       "  'site_admin': False},\n",
       " 'labels': [{'id': 697792067,\n",
       "   'node_id': 'MDU6TGFiZWw2OTc3OTIwNjc=',\n",
       "   'url': 'https://api.github.com/repos/pandas-dev/pandas/labels/Apply',\n",
       "   'name': 'Apply',\n",
       "   'color': 'fbca04',\n",
       "   'default': False,\n",
       "   'description': 'Apply, Aggregate, Transform'},\n",
       "  {'id': 1049312478,\n",
       "   'node_id': 'MDU6TGFiZWwxMDQ5MzEyNDc4',\n",
       "   'url': 'https://api.github.com/repos/pandas-dev/pandas/labels/DataFrame',\n",
       "   'name': 'DataFrame',\n",
       "   'color': '370f77',\n",
       "   'default': False,\n",
       "   'description': 'DataFrame data structure'},\n",
       "  {'id': 127681,\n",
       "   'node_id': 'MDU6TGFiZWwxMjc2ODE=',\n",
       "   'url': 'https://api.github.com/repos/pandas-dev/pandas/labels/Refactor',\n",
       "   'name': 'Refactor',\n",
       "   'color': 'FCE94F',\n",
       "   'default': False,\n",
       "   'description': 'Internal refactoring of code'},\n",
       "  {'id': 1357732944,\n",
       "   'node_id': 'MDU6TGFiZWwxMzU3NzMyOTQ0',\n",
       "   'url': 'https://api.github.com/repos/pandas-dev/pandas/labels/Series',\n",
       "   'name': 'Series',\n",
       "   'color': '8dd5fc',\n",
       "   'default': False,\n",
       "   'description': 'Series data structure'}],\n",
       " 'state': 'open',\n",
       " 'locked': False,\n",
       " 'assignee': None,\n",
       " 'assignees': [],\n",
       " 'milestone': None,\n",
       " 'comments': 0,\n",
       " 'created_at': '2021-02-21T13:53:51Z',\n",
       " 'updated_at': '2021-02-21T13:53:51Z',\n",
       " 'closed_at': None,\n",
       " 'author_association': 'MEMBER',\n",
       " 'active_lock_reason': None,\n",
       " 'pull_request': {'url': 'https://api.github.com/repos/pandas-dev/pandas/pulls/39957',\n",
       "  'html_url': 'https://github.com/pandas-dev/pandas/pull/39957',\n",
       "  'diff_url': 'https://github.com/pandas-dev/pandas/pull/39957.diff',\n",
       "  'patch_url': 'https://github.com/pandas-dev/pandas/pull/39957.patch'},\n",
       " 'body': '- [x] Ensure all linting tests pass, see [here](https://pandas.pydata.org/pandas-docs/dev/development/contributing.html#code-standards) for how to run them\\r\\n\\r\\nCleanups and consolidations to follow.',\n",
       " 'performed_via_github_app': None}"
      ]
     },
     "execution_count": 62,
     "metadata": {},
     "output_type": "execute_result"
    }
   ],
   "source": [
    "data_dict"
   ]
  },
  {
   "cell_type": "markdown",
   "metadata": {},
   "source": [
    "# Data Cleaning and Preparation"
   ]
  },
  {
   "cell_type": "markdown",
   "metadata": {},
   "source": [
    "## Handling Missing data"
   ]
  },
  {
   "cell_type": "code",
   "execution_count": 63,
   "metadata": {},
   "outputs": [
    {
     "name": "stdout",
     "output_type": "stream",
     "text": [
      "     a    b   c\n",
      "0  1.0  6.5 NaN\n",
      "1  1.0  NaN NaN\n",
      "2  NaN  NaN NaN\n",
      "3  NaN  6.5 NaN\n",
      "     a    b   c\n",
      "0  1.0  6.5 NaN\n",
      "1  1.0  NaN NaN\n",
      "3  NaN  6.5 NaN\n"
     ]
    },
    {
     "data": {
      "text/html": [
       "<div>\n",
       "<style scoped>\n",
       "    .dataframe tbody tr th:only-of-type {\n",
       "        vertical-align: middle;\n",
       "    }\n",
       "\n",
       "    .dataframe tbody tr th {\n",
       "        vertical-align: top;\n",
       "    }\n",
       "\n",
       "    .dataframe thead th {\n",
       "        text-align: right;\n",
       "    }\n",
       "</style>\n",
       "<table border=\"1\" class=\"dataframe\">\n",
       "  <thead>\n",
       "    <tr style=\"text-align: right;\">\n",
       "      <th></th>\n",
       "      <th>a</th>\n",
       "      <th>b</th>\n",
       "    </tr>\n",
       "  </thead>\n",
       "  <tbody>\n",
       "    <tr>\n",
       "      <th>0</th>\n",
       "      <td>1.0</td>\n",
       "      <td>6.5</td>\n",
       "    </tr>\n",
       "    <tr>\n",
       "      <th>1</th>\n",
       "      <td>1.0</td>\n",
       "      <td>NaN</td>\n",
       "    </tr>\n",
       "    <tr>\n",
       "      <th>2</th>\n",
       "      <td>NaN</td>\n",
       "      <td>NaN</td>\n",
       "    </tr>\n",
       "    <tr>\n",
       "      <th>3</th>\n",
       "      <td>NaN</td>\n",
       "      <td>6.5</td>\n",
       "    </tr>\n",
       "  </tbody>\n",
       "</table>\n",
       "</div>"
      ],
      "text/plain": [
       "     a    b\n",
       "0  1.0  6.5\n",
       "1  1.0  NaN\n",
       "2  NaN  NaN\n",
       "3  NaN  6.5"
      ]
     },
     "execution_count": 63,
     "metadata": {},
     "output_type": "execute_result"
    }
   ],
   "source": [
    "import pandas as pd\n",
    "from numpy import nan as NA\n",
    "\n",
    "data = pd.DataFrame([[1., 6.5, NA], [1., NA, NA],\n",
    "                   [NA, NA, NA], [NA, 6.5, NA]],\n",
    "                   columns = list('abc'))\n",
    "print(data)\n",
    "\n",
    "#drop all rows which contain nan values\n",
    "#cleaned = data.dropna()\n",
    "\n",
    "#passing how='all' will only drop rows that contain all are nan\n",
    "cleaned = data.dropna( how='all')\n",
    "\n",
    "print(cleaned)\n",
    "\n",
    "#droping columns that all have null values\n",
    "data.dropna(axis=1, how='all')"
   ]
  },
  {
   "cell_type": "markdown",
   "metadata": {},
   "source": [
    "## Filling Missing Data"
   ]
  },
  {
   "cell_type": "code",
   "execution_count": 78,
   "metadata": {},
   "outputs": [
    {
     "data": {
      "text/html": [
       "<div>\n",
       "<style scoped>\n",
       "    .dataframe tbody tr th:only-of-type {\n",
       "        vertical-align: middle;\n",
       "    }\n",
       "\n",
       "    .dataframe tbody tr th {\n",
       "        vertical-align: top;\n",
       "    }\n",
       "\n",
       "    .dataframe thead th {\n",
       "        text-align: right;\n",
       "    }\n",
       "</style>\n",
       "<table border=\"1\" class=\"dataframe\">\n",
       "  <thead>\n",
       "    <tr style=\"text-align: right;\">\n",
       "      <th></th>\n",
       "      <th>0</th>\n",
       "      <th>1</th>\n",
       "      <th>2</th>\n",
       "    </tr>\n",
       "  </thead>\n",
       "  <tbody>\n",
       "    <tr>\n",
       "      <th>0</th>\n",
       "      <td>0.485428</td>\n",
       "      <td>NaN</td>\n",
       "      <td>NaN</td>\n",
       "    </tr>\n",
       "    <tr>\n",
       "      <th>1</th>\n",
       "      <td>-1.009323</td>\n",
       "      <td>NaN</td>\n",
       "      <td>NaN</td>\n",
       "    </tr>\n",
       "    <tr>\n",
       "      <th>2</th>\n",
       "      <td>0.423981</td>\n",
       "      <td>NaN</td>\n",
       "      <td>1.262500</td>\n",
       "    </tr>\n",
       "    <tr>\n",
       "      <th>3</th>\n",
       "      <td>0.904556</td>\n",
       "      <td>NaN</td>\n",
       "      <td>0.710960</td>\n",
       "    </tr>\n",
       "    <tr>\n",
       "      <th>4</th>\n",
       "      <td>-1.329290</td>\n",
       "      <td>1.461966</td>\n",
       "      <td>-0.123490</td>\n",
       "    </tr>\n",
       "    <tr>\n",
       "      <th>5</th>\n",
       "      <td>0.511707</td>\n",
       "      <td>1.404409</td>\n",
       "      <td>1.327109</td>\n",
       "    </tr>\n",
       "    <tr>\n",
       "      <th>6</th>\n",
       "      <td>0.476825</td>\n",
       "      <td>-0.656619</td>\n",
       "      <td>-1.077120</td>\n",
       "    </tr>\n",
       "  </tbody>\n",
       "</table>\n",
       "</div>"
      ],
      "text/plain": [
       "          0         1         2\n",
       "0  0.485428       NaN       NaN\n",
       "1 -1.009323       NaN       NaN\n",
       "2  0.423981       NaN  1.262500\n",
       "3  0.904556       NaN  0.710960\n",
       "4 -1.329290  1.461966 -0.123490\n",
       "5  0.511707  1.404409  1.327109\n",
       "6  0.476825 -0.656619 -1.077120"
      ]
     },
     "metadata": {},
     "output_type": "display_data"
    },
    {
     "data": {
      "text/html": [
       "<div>\n",
       "<style scoped>\n",
       "    .dataframe tbody tr th:only-of-type {\n",
       "        vertical-align: middle;\n",
       "    }\n",
       "\n",
       "    .dataframe tbody tr th {\n",
       "        vertical-align: top;\n",
       "    }\n",
       "\n",
       "    .dataframe thead th {\n",
       "        text-align: right;\n",
       "    }\n",
       "</style>\n",
       "<table border=\"1\" class=\"dataframe\">\n",
       "  <thead>\n",
       "    <tr style=\"text-align: right;\">\n",
       "      <th></th>\n",
       "      <th>0</th>\n",
       "      <th>1</th>\n",
       "      <th>2</th>\n",
       "    </tr>\n",
       "  </thead>\n",
       "  <tbody>\n",
       "    <tr>\n",
       "      <th>0</th>\n",
       "      <td>0.485428</td>\n",
       "      <td>0.485428</td>\n",
       "      <td>NaN</td>\n",
       "    </tr>\n",
       "    <tr>\n",
       "      <th>1</th>\n",
       "      <td>-1.009323</td>\n",
       "      <td>-1.009323</td>\n",
       "      <td>NaN</td>\n",
       "    </tr>\n",
       "    <tr>\n",
       "      <th>2</th>\n",
       "      <td>0.423981</td>\n",
       "      <td>0.423981</td>\n",
       "      <td>1.262500</td>\n",
       "    </tr>\n",
       "    <tr>\n",
       "      <th>3</th>\n",
       "      <td>0.904556</td>\n",
       "      <td>0.904556</td>\n",
       "      <td>0.710960</td>\n",
       "    </tr>\n",
       "    <tr>\n",
       "      <th>4</th>\n",
       "      <td>-1.329290</td>\n",
       "      <td>1.461966</td>\n",
       "      <td>-0.123490</td>\n",
       "    </tr>\n",
       "    <tr>\n",
       "      <th>5</th>\n",
       "      <td>0.511707</td>\n",
       "      <td>1.404409</td>\n",
       "      <td>1.327109</td>\n",
       "    </tr>\n",
       "    <tr>\n",
       "      <th>6</th>\n",
       "      <td>0.476825</td>\n",
       "      <td>-0.656619</td>\n",
       "      <td>-1.077120</td>\n",
       "    </tr>\n",
       "  </tbody>\n",
       "</table>\n",
       "</div>"
      ],
      "text/plain": [
       "          0         1         2\n",
       "0  0.485428  0.485428       NaN\n",
       "1 -1.009323 -1.009323       NaN\n",
       "2  0.423981  0.423981  1.262500\n",
       "3  0.904556  0.904556  0.710960\n",
       "4 -1.329290  1.461966 -0.123490\n",
       "5  0.511707  1.404409  1.327109\n",
       "6  0.476825 -0.656619 -1.077120"
      ]
     },
     "execution_count": 78,
     "metadata": {},
     "output_type": "execute_result"
    }
   ],
   "source": [
    "from numpy import nan as NA\n",
    "\n",
    "df = pd.DataFrame(np.random.randn(7,3))\n",
    "#print(df)\n",
    "\n",
    "df.iloc[:4, 1] = NA\n",
    "df.iloc[:2, 2] = NA\n",
    "display(df)\n",
    "\n",
    "#calling fillna with a dict you can use a different fill value for \n",
    "# df.fillna(1.5)\n",
    "\n",
    "#column number 1 will be filled with 0.5\n",
    "# column number 2 will be filled with 0\n",
    "# df.fillna({1: 0.5, 2: 0})\n",
    "\n",
    "\n",
    "#column filling axis =1\n",
    "#fill not values from left column(axis = 0 means from top row)\n",
    "# df.fillna(method='ffill', axis=1)\n",
    "df.fillna(method='ffill', limit=1, axis=1)"
   ]
  },
  {
   "cell_type": "code",
   "execution_count": 90,
   "metadata": {},
   "outputs": [
    {
     "data": {
      "text/html": [
       "<div>\n",
       "<style scoped>\n",
       "    .dataframe tbody tr th:only-of-type {\n",
       "        vertical-align: middle;\n",
       "    }\n",
       "\n",
       "    .dataframe tbody tr th {\n",
       "        vertical-align: top;\n",
       "    }\n",
       "\n",
       "    .dataframe thead th {\n",
       "        text-align: right;\n",
       "    }\n",
       "</style>\n",
       "<table border=\"1\" class=\"dataframe\">\n",
       "  <thead>\n",
       "    <tr style=\"text-align: right;\">\n",
       "      <th></th>\n",
       "      <th>k1</th>\n",
       "      <th>k2</th>\n",
       "    </tr>\n",
       "  </thead>\n",
       "  <tbody>\n",
       "    <tr>\n",
       "      <th>0</th>\n",
       "      <td>one</td>\n",
       "      <td>1</td>\n",
       "    </tr>\n",
       "    <tr>\n",
       "      <th>1</th>\n",
       "      <td>two</td>\n",
       "      <td>1</td>\n",
       "    </tr>\n",
       "    <tr>\n",
       "      <th>2</th>\n",
       "      <td>one</td>\n",
       "      <td>2</td>\n",
       "    </tr>\n",
       "    <tr>\n",
       "      <th>3</th>\n",
       "      <td>two</td>\n",
       "      <td>3</td>\n",
       "    </tr>\n",
       "    <tr>\n",
       "      <th>4</th>\n",
       "      <td>one</td>\n",
       "      <td>3</td>\n",
       "    </tr>\n",
       "    <tr>\n",
       "      <th>5</th>\n",
       "      <td>two</td>\n",
       "      <td>4</td>\n",
       "    </tr>\n",
       "    <tr>\n",
       "      <th>6</th>\n",
       "      <td>two</td>\n",
       "      <td>4</td>\n",
       "    </tr>\n",
       "  </tbody>\n",
       "</table>\n",
       "</div>"
      ],
      "text/plain": [
       "    k1  k2\n",
       "0  one   1\n",
       "1  two   1\n",
       "2  one   2\n",
       "3  two   3\n",
       "4  one   3\n",
       "5  two   4\n",
       "6  two   4"
      ]
     },
     "metadata": {},
     "output_type": "display_data"
    },
    {
     "data": {
      "text/html": [
       "<div>\n",
       "<style scoped>\n",
       "    .dataframe tbody tr th:only-of-type {\n",
       "        vertical-align: middle;\n",
       "    }\n",
       "\n",
       "    .dataframe tbody tr th {\n",
       "        vertical-align: top;\n",
       "    }\n",
       "\n",
       "    .dataframe thead th {\n",
       "        text-align: right;\n",
       "    }\n",
       "</style>\n",
       "<table border=\"1\" class=\"dataframe\">\n",
       "  <thead>\n",
       "    <tr style=\"text-align: right;\">\n",
       "      <th></th>\n",
       "      <th>k1</th>\n",
       "      <th>k2</th>\n",
       "      <th>v1</th>\n",
       "    </tr>\n",
       "  </thead>\n",
       "  <tbody>\n",
       "    <tr>\n",
       "      <th>0</th>\n",
       "      <td>one</td>\n",
       "      <td>1</td>\n",
       "      <td>one</td>\n",
       "    </tr>\n",
       "    <tr>\n",
       "      <th>1</th>\n",
       "      <td>two</td>\n",
       "      <td>1</td>\n",
       "      <td>two</td>\n",
       "    </tr>\n",
       "    <tr>\n",
       "      <th>2</th>\n",
       "      <td>one</td>\n",
       "      <td>2</td>\n",
       "      <td>one</td>\n",
       "    </tr>\n",
       "    <tr>\n",
       "      <th>3</th>\n",
       "      <td>two</td>\n",
       "      <td>3</td>\n",
       "      <td>four</td>\n",
       "    </tr>\n",
       "    <tr>\n",
       "      <th>4</th>\n",
       "      <td>one</td>\n",
       "      <td>3</td>\n",
       "      <td>one</td>\n",
       "    </tr>\n",
       "    <tr>\n",
       "      <th>5</th>\n",
       "      <td>two</td>\n",
       "      <td>4</td>\n",
       "      <td>six</td>\n",
       "    </tr>\n",
       "    <tr>\n",
       "      <th>6</th>\n",
       "      <td>two</td>\n",
       "      <td>4</td>\n",
       "      <td>two</td>\n",
       "    </tr>\n",
       "  </tbody>\n",
       "</table>\n",
       "</div>"
      ],
      "text/plain": [
       "    k1  k2    v1\n",
       "0  one   1   one\n",
       "1  two   1   two\n",
       "2  one   2   one\n",
       "3  two   3  four\n",
       "4  one   3   one\n",
       "5  two   4   six\n",
       "6  two   4   two"
      ]
     },
     "metadata": {},
     "output_type": "display_data"
    },
    {
     "data": {
      "text/html": [
       "<div>\n",
       "<style scoped>\n",
       "    .dataframe tbody tr th:only-of-type {\n",
       "        vertical-align: middle;\n",
       "    }\n",
       "\n",
       "    .dataframe tbody tr th {\n",
       "        vertical-align: top;\n",
       "    }\n",
       "\n",
       "    .dataframe thead th {\n",
       "        text-align: right;\n",
       "    }\n",
       "</style>\n",
       "<table border=\"1\" class=\"dataframe\">\n",
       "  <thead>\n",
       "    <tr style=\"text-align: right;\">\n",
       "      <th></th>\n",
       "      <th>k1</th>\n",
       "      <th>k2</th>\n",
       "      <th>v1</th>\n",
       "    </tr>\n",
       "  </thead>\n",
       "  <tbody>\n",
       "    <tr>\n",
       "      <th>0</th>\n",
       "      <td>one</td>\n",
       "      <td>1</td>\n",
       "      <td>one</td>\n",
       "    </tr>\n",
       "    <tr>\n",
       "      <th>1</th>\n",
       "      <td>two</td>\n",
       "      <td>1</td>\n",
       "      <td>two</td>\n",
       "    </tr>\n",
       "    <tr>\n",
       "      <th>2</th>\n",
       "      <td>one</td>\n",
       "      <td>2</td>\n",
       "      <td>one</td>\n",
       "    </tr>\n",
       "    <tr>\n",
       "      <th>3</th>\n",
       "      <td>two</td>\n",
       "      <td>3</td>\n",
       "      <td>four</td>\n",
       "    </tr>\n",
       "    <tr>\n",
       "      <th>4</th>\n",
       "      <td>one</td>\n",
       "      <td>3</td>\n",
       "      <td>one</td>\n",
       "    </tr>\n",
       "    <tr>\n",
       "      <th>5</th>\n",
       "      <td>two</td>\n",
       "      <td>4</td>\n",
       "      <td>six</td>\n",
       "    </tr>\n",
       "    <tr>\n",
       "      <th>6</th>\n",
       "      <td>two</td>\n",
       "      <td>4</td>\n",
       "      <td>two</td>\n",
       "    </tr>\n",
       "  </tbody>\n",
       "</table>\n",
       "</div>"
      ],
      "text/plain": [
       "    k1  k2    v1\n",
       "0  one   1   one\n",
       "1  two   1   two\n",
       "2  one   2   one\n",
       "3  two   3  four\n",
       "4  one   3   one\n",
       "5  two   4   six\n",
       "6  two   4   two"
      ]
     },
     "execution_count": 90,
     "metadata": {},
     "output_type": "execute_result"
    }
   ],
   "source": [
    "data = pd.DataFrame({'k1':  ['one', 'two'] * 3 + ['two'],\n",
    "                    'k2': [1, 1, 2, 3, 3, 4, 4]})\n",
    "\n",
    "display(data)\n",
    "# data.duplicated()\n",
    "\n",
    "# data.drop_duplicates()\n",
    "\n",
    "data['v1'] = ['one', 'two', 'one', 'four', 'one', 'six', 'two']\n",
    "display(data)\n",
    "# data = data.drop_duplicates(['k1', 'v1'])\n",
    "data.drop_duplicates()"
   ]
  },
  {
   "cell_type": "code",
   "execution_count": 97,
   "metadata": {},
   "outputs": [
    {
     "data": {
      "text/html": [
       "<div>\n",
       "<style scoped>\n",
       "    .dataframe tbody tr th:only-of-type {\n",
       "        vertical-align: middle;\n",
       "    }\n",
       "\n",
       "    .dataframe tbody tr th {\n",
       "        vertical-align: top;\n",
       "    }\n",
       "\n",
       "    .dataframe thead th {\n",
       "        text-align: right;\n",
       "    }\n",
       "</style>\n",
       "<table border=\"1\" class=\"dataframe\">\n",
       "  <thead>\n",
       "    <tr style=\"text-align: right;\">\n",
       "      <th></th>\n",
       "      <th>0</th>\n",
       "      <th>1</th>\n",
       "      <th>2</th>\n",
       "    </tr>\n",
       "  </thead>\n",
       "  <tbody>\n",
       "    <tr>\n",
       "      <th>0</th>\n",
       "      <td>-1.178027</td>\n",
       "      <td>NaN</td>\n",
       "      <td>NaN</td>\n",
       "    </tr>\n",
       "    <tr>\n",
       "      <th>1</th>\n",
       "      <td>1.205482</td>\n",
       "      <td>NaN</td>\n",
       "      <td>NaN</td>\n",
       "    </tr>\n",
       "    <tr>\n",
       "      <th>2</th>\n",
       "      <td>0.033721</td>\n",
       "      <td>NaN</td>\n",
       "      <td>-0.322061</td>\n",
       "    </tr>\n",
       "    <tr>\n",
       "      <th>3</th>\n",
       "      <td>0.138430</td>\n",
       "      <td>NaN</td>\n",
       "      <td>0.323539</td>\n",
       "    </tr>\n",
       "    <tr>\n",
       "      <th>4</th>\n",
       "      <td>0.182791</td>\n",
       "      <td>1.687289</td>\n",
       "      <td>-1.771582</td>\n",
       "    </tr>\n",
       "    <tr>\n",
       "      <th>5</th>\n",
       "      <td>0.296159</td>\n",
       "      <td>-0.386228</td>\n",
       "      <td>-0.310676</td>\n",
       "    </tr>\n",
       "    <tr>\n",
       "      <th>6</th>\n",
       "      <td>0.373078</td>\n",
       "      <td>-0.471891</td>\n",
       "      <td>-0.109375</td>\n",
       "    </tr>\n",
       "  </tbody>\n",
       "</table>\n",
       "</div>"
      ],
      "text/plain": [
       "          0         1         2\n",
       "0 -1.178027       NaN       NaN\n",
       "1  1.205482       NaN       NaN\n",
       "2  0.033721       NaN -0.322061\n",
       "3  0.138430       NaN  0.323539\n",
       "4  0.182791  1.687289 -1.771582\n",
       "5  0.296159 -0.386228 -0.310676\n",
       "6  0.373078 -0.471891 -0.109375"
      ]
     },
     "metadata": {},
     "output_type": "display_data"
    },
    {
     "name": "stdout",
     "output_type": "stream",
     "text": [
      "          0         1         2\n",
      "0 -1.178027  0.000000  0.000000\n",
      "1  1.205482  0.000000  0.000000\n",
      "2  0.033721  0.000000 -0.322061\n",
      "3  0.138430  0.000000  0.323539\n",
      "4  0.182791  1.687289 -1.771582\n",
      "5  0.296159 -0.386228 -0.310676\n",
      "6  0.373078 -0.471891 -0.109375\n"
     ]
    }
   ],
   "source": [
    "df = pd.DataFrame(np.random.randn(7,3))\n",
    "\n",
    "df.iloc[:4, 1] = np.nan\n",
    "df.iloc[:2, 2] = np.nan\n",
    "display(df)\n",
    "# df = df.replace(np.nan, -999)\n",
    "# print(df)\n",
    "# df = df.replace(-999, -9)\n",
    "print(df)"
   ]
  },
  {
   "cell_type": "markdown",
   "metadata": {},
   "source": [
    "## Renaming indexs"
   ]
  },
  {
   "cell_type": "code",
   "execution_count": 103,
   "metadata": {},
   "outputs": [
    {
     "data": {
      "text/html": [
       "<div>\n",
       "<style scoped>\n",
       "    .dataframe tbody tr th:only-of-type {\n",
       "        vertical-align: middle;\n",
       "    }\n",
       "\n",
       "    .dataframe tbody tr th {\n",
       "        vertical-align: top;\n",
       "    }\n",
       "\n",
       "    .dataframe thead th {\n",
       "        text-align: right;\n",
       "    }\n",
       "</style>\n",
       "<table border=\"1\" class=\"dataframe\">\n",
       "  <thead>\n",
       "    <tr style=\"text-align: right;\">\n",
       "      <th></th>\n",
       "      <th>one</th>\n",
       "      <th>two</th>\n",
       "      <th>three</th>\n",
       "      <th>four</th>\n",
       "    </tr>\n",
       "  </thead>\n",
       "  <tbody>\n",
       "    <tr>\n",
       "      <th>Ohio</th>\n",
       "      <td>0</td>\n",
       "      <td>1</td>\n",
       "      <td>2</td>\n",
       "      <td>3</td>\n",
       "    </tr>\n",
       "    <tr>\n",
       "      <th>Colorado</th>\n",
       "      <td>4</td>\n",
       "      <td>5</td>\n",
       "      <td>6</td>\n",
       "      <td>7</td>\n",
       "    </tr>\n",
       "    <tr>\n",
       "      <th>New York</th>\n",
       "      <td>8</td>\n",
       "      <td>9</td>\n",
       "      <td>10</td>\n",
       "      <td>11</td>\n",
       "    </tr>\n",
       "  </tbody>\n",
       "</table>\n",
       "</div>"
      ],
      "text/plain": [
       "          one  two  three  four\n",
       "Ohio        0    1      2     3\n",
       "Colorado    4    5      6     7\n",
       "New York    8    9     10    11"
      ]
     },
     "metadata": {},
     "output_type": "display_data"
    },
    {
     "data": {
      "text/plain": [
       "Index(['OHIO', 'COLO', 'NEW '], dtype='object')"
      ]
     },
     "execution_count": 103,
     "metadata": {},
     "output_type": "execute_result"
    }
   ],
   "source": [
    "df = pd.DataFrame(np.arange(12).reshape((3,4)),\n",
    "                   index=['Ohio', 'Colorado', 'New York'],\n",
    "                   columns = ['one', 'two', 'three', 'four'])\n",
    "display(df)\n",
    "transform = lambda x:x[:4].upper()\n",
    "data = df.index.map(transform)\n",
    "data"
   ]
  },
  {
   "cell_type": "markdown",
   "metadata": {},
   "source": [
    "## Detecting Filtering Outliers"
   ]
  },
  {
   "cell_type": "code",
   "execution_count": 115,
   "metadata": {},
   "outputs": [
    {
     "name": "stdout",
     "output_type": "stream",
     "text": [
      "0     -0.928448\n",
      "1      0.371668\n",
      "2      1.196555\n",
      "3      0.027330\n",
      "4      0.042432\n",
      "         ...   \n",
      "995   -2.649736\n",
      "996    0.396031\n",
      "997   -0.323664\n",
      "998   -0.402999\n",
      "999   -0.312261\n",
      "Name: 2, Length: 1000, dtype: float64\n"
     ]
    },
    {
     "data": {
      "text/html": [
       "<div>\n",
       "<style scoped>\n",
       "    .dataframe tbody tr th:only-of-type {\n",
       "        vertical-align: middle;\n",
       "    }\n",
       "\n",
       "    .dataframe tbody tr th {\n",
       "        vertical-align: top;\n",
       "    }\n",
       "\n",
       "    .dataframe thead th {\n",
       "        text-align: right;\n",
       "    }\n",
       "</style>\n",
       "<table border=\"1\" class=\"dataframe\">\n",
       "  <thead>\n",
       "    <tr style=\"text-align: right;\">\n",
       "      <th></th>\n",
       "      <th>0</th>\n",
       "      <th>1</th>\n",
       "      <th>2</th>\n",
       "      <th>3</th>\n",
       "    </tr>\n",
       "  </thead>\n",
       "  <tbody>\n",
       "    <tr>\n",
       "      <th>261</th>\n",
       "      <td>0.051351</td>\n",
       "      <td>-1.041804</td>\n",
       "      <td>-3.046555</td>\n",
       "      <td>0.093629</td>\n",
       "    </tr>\n",
       "    <tr>\n",
       "      <th>330</th>\n",
       "      <td>-0.777628</td>\n",
       "      <td>-3.198100</td>\n",
       "      <td>-2.993185</td>\n",
       "      <td>1.875821</td>\n",
       "    </tr>\n",
       "    <tr>\n",
       "      <th>407</th>\n",
       "      <td>0.468716</td>\n",
       "      <td>-3.101087</td>\n",
       "      <td>0.054641</td>\n",
       "      <td>0.104972</td>\n",
       "    </tr>\n",
       "    <tr>\n",
       "      <th>462</th>\n",
       "      <td>2.706248</td>\n",
       "      <td>3.127341</td>\n",
       "      <td>0.637455</td>\n",
       "      <td>-0.664167</td>\n",
       "    </tr>\n",
       "    <tr>\n",
       "      <th>464</th>\n",
       "      <td>-0.748984</td>\n",
       "      <td>0.973109</td>\n",
       "      <td>-4.006017</td>\n",
       "      <td>2.528329</td>\n",
       "    </tr>\n",
       "    <tr>\n",
       "      <th>494</th>\n",
       "      <td>-1.218203</td>\n",
       "      <td>-0.326257</td>\n",
       "      <td>3.467950</td>\n",
       "      <td>0.836038</td>\n",
       "    </tr>\n",
       "    <tr>\n",
       "      <th>503</th>\n",
       "      <td>2.129138</td>\n",
       "      <td>-0.554453</td>\n",
       "      <td>0.683723</td>\n",
       "      <td>3.795061</td>\n",
       "    </tr>\n",
       "    <tr>\n",
       "      <th>509</th>\n",
       "      <td>-2.480895</td>\n",
       "      <td>-3.310561</td>\n",
       "      <td>-0.257842</td>\n",
       "      <td>-1.209156</td>\n",
       "    </tr>\n",
       "    <tr>\n",
       "      <th>593</th>\n",
       "      <td>-0.351185</td>\n",
       "      <td>-3.081515</td>\n",
       "      <td>-0.291857</td>\n",
       "      <td>-0.319783</td>\n",
       "    </tr>\n",
       "    <tr>\n",
       "      <th>651</th>\n",
       "      <td>3.980786</td>\n",
       "      <td>-0.043255</td>\n",
       "      <td>-0.135909</td>\n",
       "      <td>-1.297607</td>\n",
       "    </tr>\n",
       "    <tr>\n",
       "      <th>729</th>\n",
       "      <td>-0.584993</td>\n",
       "      <td>0.690089</td>\n",
       "      <td>-3.452005</td>\n",
       "      <td>-0.862500</td>\n",
       "    </tr>\n",
       "    <tr>\n",
       "      <th>793</th>\n",
       "      <td>0.787091</td>\n",
       "      <td>-0.839229</td>\n",
       "      <td>0.226303</td>\n",
       "      <td>3.328800</td>\n",
       "    </tr>\n",
       "    <tr>\n",
       "      <th>807</th>\n",
       "      <td>-3.176040</td>\n",
       "      <td>0.799841</td>\n",
       "      <td>-1.133066</td>\n",
       "      <td>-0.921054</td>\n",
       "    </tr>\n",
       "    <tr>\n",
       "      <th>813</th>\n",
       "      <td>3.057061</td>\n",
       "      <td>0.363340</td>\n",
       "      <td>-0.004763</td>\n",
       "      <td>-1.153217</td>\n",
       "    </tr>\n",
       "    <tr>\n",
       "      <th>824</th>\n",
       "      <td>-0.939084</td>\n",
       "      <td>-2.405335</td>\n",
       "      <td>-1.605128</td>\n",
       "      <td>3.804393</td>\n",
       "    </tr>\n",
       "    <tr>\n",
       "      <th>864</th>\n",
       "      <td>-0.484583</td>\n",
       "      <td>0.116863</td>\n",
       "      <td>3.281913</td>\n",
       "      <td>0.268859</td>\n",
       "    </tr>\n",
       "    <tr>\n",
       "      <th>902</th>\n",
       "      <td>0.618331</td>\n",
       "      <td>3.438888</td>\n",
       "      <td>-0.580060</td>\n",
       "      <td>-0.449002</td>\n",
       "    </tr>\n",
       "  </tbody>\n",
       "</table>\n",
       "</div>"
      ],
      "text/plain": [
       "            0         1         2         3\n",
       "261  0.051351 -1.041804 -3.046555  0.093629\n",
       "330 -0.777628 -3.198100 -2.993185  1.875821\n",
       "407  0.468716 -3.101087  0.054641  0.104972\n",
       "462  2.706248  3.127341  0.637455 -0.664167\n",
       "464 -0.748984  0.973109 -4.006017  2.528329\n",
       "494 -1.218203 -0.326257  3.467950  0.836038\n",
       "503  2.129138 -0.554453  0.683723  3.795061\n",
       "509 -2.480895 -3.310561 -0.257842 -1.209156\n",
       "593 -0.351185 -3.081515 -0.291857 -0.319783\n",
       "651  3.980786 -0.043255 -0.135909 -1.297607\n",
       "729 -0.584993  0.690089 -3.452005 -0.862500\n",
       "793  0.787091 -0.839229  0.226303  3.328800\n",
       "807 -3.176040  0.799841 -1.133066 -0.921054\n",
       "813  3.057061  0.363340 -0.004763 -1.153217\n",
       "824 -0.939084 -2.405335 -1.605128  3.804393\n",
       "864 -0.484583  0.116863  3.281913  0.268859\n",
       "902  0.618331  3.438888 -0.580060 -0.449002"
      ]
     },
     "execution_count": 115,
     "metadata": {},
     "output_type": "execute_result"
    }
   ],
   "source": [
    "data = pd.DataFrame(np.random.randn(1000,4))\n",
    "# data.describe()\n",
    "col = data[2]\n",
    "print(col)\n",
    "col[np.abs(col > 3)]\n",
    "\n",
    "#to select all rows having a value exceeding 3 or -3\n",
    "#you can use the any method on a boolean DataFrame:\n",
    "outliers = data[(np.abs(data)>3).any(1)]\n",
    "outliers"
   ]
  },
  {
   "cell_type": "markdown",
   "metadata": {},
   "source": [
    "## Permutation and Random sampling"
   ]
  },
  {
   "cell_type": "code",
   "execution_count": 66,
   "metadata": {},
   "outputs": [
    {
     "name": "stdout",
     "output_type": "stream",
     "text": [
      "(5, 4)\n",
      "[3 2 0 1]\n"
     ]
    },
    {
     "data": {
      "text/html": [
       "<div>\n",
       "<style scoped>\n",
       "    .dataframe tbody tr th:only-of-type {\n",
       "        vertical-align: middle;\n",
       "    }\n",
       "\n",
       "    .dataframe tbody tr th {\n",
       "        vertical-align: top;\n",
       "    }\n",
       "\n",
       "    .dataframe thead th {\n",
       "        text-align: right;\n",
       "    }\n",
       "</style>\n",
       "<table border=\"1\" class=\"dataframe\">\n",
       "  <thead>\n",
       "    <tr style=\"text-align: right;\">\n",
       "      <th></th>\n",
       "      <th>3</th>\n",
       "      <th>2</th>\n",
       "      <th>0</th>\n",
       "      <th>1</th>\n",
       "    </tr>\n",
       "  </thead>\n",
       "  <tbody>\n",
       "    <tr>\n",
       "      <th>3</th>\n",
       "      <td>15</td>\n",
       "      <td>14</td>\n",
       "      <td>12</td>\n",
       "      <td>13</td>\n",
       "    </tr>\n",
       "    <tr>\n",
       "      <th>2</th>\n",
       "      <td>11</td>\n",
       "      <td>10</td>\n",
       "      <td>8</td>\n",
       "      <td>9</td>\n",
       "    </tr>\n",
       "    <tr>\n",
       "      <th>0</th>\n",
       "      <td>3</td>\n",
       "      <td>2</td>\n",
       "      <td>0</td>\n",
       "      <td>1</td>\n",
       "    </tr>\n",
       "    <tr>\n",
       "      <th>1</th>\n",
       "      <td>7</td>\n",
       "      <td>6</td>\n",
       "      <td>4</td>\n",
       "      <td>5</td>\n",
       "    </tr>\n",
       "  </tbody>\n",
       "</table>\n",
       "</div>"
      ],
      "text/plain": [
       "    3   2   0   1\n",
       "3  15  14  12  13\n",
       "2  11  10   8   9\n",
       "0   3   2   0   1\n",
       "1   7   6   4   5"
      ]
     },
     "execution_count": 66,
     "metadata": {},
     "output_type": "execute_result"
    }
   ],
   "source": [
    "df = pd.DataFrame(np.arange(5 * 4).reshape((5, 4)))\n",
    "print(df.shape)\n",
    "sampler = np.random.permutation(4)\n",
    "print(sampler)\n",
    "df = df[sampler]\n",
    "# print(df)\n",
    "df.take(sampler)"
   ]
  },
  {
   "cell_type": "code",
   "execution_count": 67,
   "metadata": {},
   "outputs": [],
   "source": [
    "import re\n",
    "\n",
    "text = \"foo    bar\\t baz  \\tqux\"\n",
    "#normal split \n",
    "split = text.split()\n",
    "re."
   ]
  },
  {
   "cell_type": "code",
   "execution_count": 8,
   "metadata": {},
   "outputs": [
    {
     "name": "stdout",
     "output_type": "stream",
     "text": [
      "a    7.3\n",
      "c   -2.5\n",
      "d    3.4\n",
      "e    1.5\n",
      "dtype: float64 \n",
      "\n",
      " a   -2.1\n",
      "c    3.6\n",
      "e   -1.5\n",
      "f    4.0\n",
      "g    3.1\n",
      "dtype: float64\n"
     ]
    }
   ],
   "source": [
    "s1 = pd.Series([7.3, -2.5, 3.4, 1.5], index = ['a', 'c', 'd', 'e'])\n",
    "s2 = pd.Series([-2.1, 3.6, -1.5, 4, 3.1], index = ['a', 'c', 'e', 'f', 'g'])\n",
    "print(s1,'\\n\\n',s2)"
   ]
  },
  {
   "cell_type": "code",
   "execution_count": 9,
   "metadata": {},
   "outputs": [
    {
     "data": {
      "text/plain": [
       "a    5.2\n",
       "c    1.1\n",
       "d    NaN\n",
       "e    0.0\n",
       "f    NaN\n",
       "g    NaN\n",
       "dtype: float64"
      ]
     },
     "execution_count": 9,
     "metadata": {},
     "output_type": "execute_result"
    }
   ],
   "source": [
    "s1 + s2"
   ]
  },
  {
   "cell_type": "code",
   "execution_count": 15,
   "metadata": {},
   "outputs": [
    {
     "data": {
      "text/plain": [
       "a    5.2\n",
       "c    1.1\n",
       "d    3.4\n",
       "e    0.0\n",
       "f    4.0\n",
       "g    3.1\n",
       "dtype: float64"
      ]
     },
     "execution_count": 15,
     "metadata": {},
     "output_type": "execute_result"
    }
   ],
   "source": [
    "s1.add(s2, fill_value=0)"
   ]
  },
  {
   "cell_type": "code",
   "execution_count": 12,
   "metadata": {},
   "outputs": [
    {
     "name": "stdout",
     "output_type": "stream",
     "text": [
      "            b    c    d\n",
      "Ohio      0.0  1.0  2.0\n",
      "Texas     3.0  4.0  5.0\n",
      "Colorado  6.0  7.0  8.0 \n",
      "\n",
      "           b     d     e\n",
      "Utah    0.0   1.0   2.0\n",
      "Ohio    3.0   4.0   5.0\n",
      "Texas   6.0   7.0   8.0\n",
      "Oregon  9.0  10.0  11.0\n"
     ]
    }
   ],
   "source": [
    "df1 = pd.DataFrame(np.arange(9.).reshape((3,3,)), columns = list('bcd'),\n",
    "                  index = ['Ohio', 'Texas', 'Colorado'])\n",
    "df2 = pd.DataFrame(np.arange(12.).reshape((4,3)), columns = list('bde'),\n",
    "                  index = ['Utah', 'Ohio', 'Texas', 'Oregon'])\n",
    "print(df1,'\\n\\n', df2)"
   ]
  },
  {
   "cell_type": "code",
   "execution_count": 13,
   "metadata": {},
   "outputs": [
    {
     "data": {
      "text/html": [
       "<div>\n",
       "<style scoped>\n",
       "    .dataframe tbody tr th:only-of-type {\n",
       "        vertical-align: middle;\n",
       "    }\n",
       "\n",
       "    .dataframe tbody tr th {\n",
       "        vertical-align: top;\n",
       "    }\n",
       "\n",
       "    .dataframe thead th {\n",
       "        text-align: right;\n",
       "    }\n",
       "</style>\n",
       "<table border=\"1\" class=\"dataframe\">\n",
       "  <thead>\n",
       "    <tr style=\"text-align: right;\">\n",
       "      <th></th>\n",
       "      <th>b</th>\n",
       "      <th>c</th>\n",
       "      <th>d</th>\n",
       "      <th>e</th>\n",
       "    </tr>\n",
       "  </thead>\n",
       "  <tbody>\n",
       "    <tr>\n",
       "      <th>Colorado</th>\n",
       "      <td>NaN</td>\n",
       "      <td>NaN</td>\n",
       "      <td>NaN</td>\n",
       "      <td>NaN</td>\n",
       "    </tr>\n",
       "    <tr>\n",
       "      <th>Ohio</th>\n",
       "      <td>3.0</td>\n",
       "      <td>NaN</td>\n",
       "      <td>6.0</td>\n",
       "      <td>NaN</td>\n",
       "    </tr>\n",
       "    <tr>\n",
       "      <th>Oregon</th>\n",
       "      <td>NaN</td>\n",
       "      <td>NaN</td>\n",
       "      <td>NaN</td>\n",
       "      <td>NaN</td>\n",
       "    </tr>\n",
       "    <tr>\n",
       "      <th>Texas</th>\n",
       "      <td>9.0</td>\n",
       "      <td>NaN</td>\n",
       "      <td>12.0</td>\n",
       "      <td>NaN</td>\n",
       "    </tr>\n",
       "    <tr>\n",
       "      <th>Utah</th>\n",
       "      <td>NaN</td>\n",
       "      <td>NaN</td>\n",
       "      <td>NaN</td>\n",
       "      <td>NaN</td>\n",
       "    </tr>\n",
       "  </tbody>\n",
       "</table>\n",
       "</div>"
      ],
      "text/plain": [
       "            b   c     d   e\n",
       "Colorado  NaN NaN   NaN NaN\n",
       "Ohio      3.0 NaN   6.0 NaN\n",
       "Oregon    NaN NaN   NaN NaN\n",
       "Texas     9.0 NaN  12.0 NaN\n",
       "Utah      NaN NaN   NaN NaN"
      ]
     },
     "execution_count": 13,
     "metadata": {},
     "output_type": "execute_result"
    }
   ],
   "source": [
    "df1 + df2"
   ]
  },
  {
   "cell_type": "code",
   "execution_count": 14,
   "metadata": {},
   "outputs": [
    {
     "data": {
      "text/html": [
       "<div>\n",
       "<style scoped>\n",
       "    .dataframe tbody tr th:only-of-type {\n",
       "        vertical-align: middle;\n",
       "    }\n",
       "\n",
       "    .dataframe tbody tr th {\n",
       "        vertical-align: top;\n",
       "    }\n",
       "\n",
       "    .dataframe thead th {\n",
       "        text-align: right;\n",
       "    }\n",
       "</style>\n",
       "<table border=\"1\" class=\"dataframe\">\n",
       "  <thead>\n",
       "    <tr style=\"text-align: right;\">\n",
       "      <th></th>\n",
       "      <th>b</th>\n",
       "      <th>c</th>\n",
       "      <th>d</th>\n",
       "      <th>e</th>\n",
       "    </tr>\n",
       "  </thead>\n",
       "  <tbody>\n",
       "    <tr>\n",
       "      <th>Colorado</th>\n",
       "      <td>6.0</td>\n",
       "      <td>7.0</td>\n",
       "      <td>8.0</td>\n",
       "      <td>NaN</td>\n",
       "    </tr>\n",
       "    <tr>\n",
       "      <th>Ohio</th>\n",
       "      <td>3.0</td>\n",
       "      <td>1.0</td>\n",
       "      <td>6.0</td>\n",
       "      <td>5.0</td>\n",
       "    </tr>\n",
       "    <tr>\n",
       "      <th>Oregon</th>\n",
       "      <td>9.0</td>\n",
       "      <td>NaN</td>\n",
       "      <td>10.0</td>\n",
       "      <td>11.0</td>\n",
       "    </tr>\n",
       "    <tr>\n",
       "      <th>Texas</th>\n",
       "      <td>9.0</td>\n",
       "      <td>4.0</td>\n",
       "      <td>12.0</td>\n",
       "      <td>8.0</td>\n",
       "    </tr>\n",
       "    <tr>\n",
       "      <th>Utah</th>\n",
       "      <td>0.0</td>\n",
       "      <td>NaN</td>\n",
       "      <td>1.0</td>\n",
       "      <td>2.0</td>\n",
       "    </tr>\n",
       "  </tbody>\n",
       "</table>\n",
       "</div>"
      ],
      "text/plain": [
       "            b    c     d     e\n",
       "Colorado  6.0  7.0   8.0   NaN\n",
       "Ohio      3.0  1.0   6.0   5.0\n",
       "Oregon    9.0  NaN  10.0  11.0\n",
       "Texas     9.0  4.0  12.0   8.0\n",
       "Utah      0.0  NaN   1.0   2.0"
      ]
     },
     "execution_count": 14,
     "metadata": {},
     "output_type": "execute_result"
    }
   ],
   "source": [
    "df1.add(df2, fill_value=0)"
   ]
  },
  {
   "cell_type": "code",
   "execution_count": 18,
   "metadata": {},
   "outputs": [
    {
     "data": {
      "text/plain": [
       "array([[ 0.,  1.,  2.,  3.],\n",
       "       [ 4.,  5.,  6.,  7.],\n",
       "       [ 8.,  9., 10., 11.]])"
      ]
     },
     "execution_count": 18,
     "metadata": {},
     "output_type": "execute_result"
    }
   ],
   "source": [
    "arr = np.arange(12.).reshape(3,4)\n",
    "arr"
   ]
  },
  {
   "cell_type": "code",
   "execution_count": 20,
   "metadata": {},
   "outputs": [
    {
     "data": {
      "text/plain": [
       "array([0., 1., 2., 3.])"
      ]
     },
     "execution_count": 20,
     "metadata": {},
     "output_type": "execute_result"
    }
   ],
   "source": [
    "arr[0]"
   ]
  },
  {
   "cell_type": "code",
   "execution_count": 22,
   "metadata": {},
   "outputs": [
    {
     "data": {
      "text/plain": [
       "array([[0., 0., 0., 0.],\n",
       "       [4., 4., 4., 4.],\n",
       "       [8., 8., 8., 8.]])"
      ]
     },
     "execution_count": 22,
     "metadata": {},
     "output_type": "execute_result"
    }
   ],
   "source": [
    "arr - arr[0]"
   ]
  },
  {
   "cell_type": "code",
   "execution_count": 27,
   "metadata": {},
   "outputs": [
    {
     "data": {
      "text/html": [
       "<div>\n",
       "<style scoped>\n",
       "    .dataframe tbody tr th:only-of-type {\n",
       "        vertical-align: middle;\n",
       "    }\n",
       "\n",
       "    .dataframe tbody tr th {\n",
       "        vertical-align: top;\n",
       "    }\n",
       "\n",
       "    .dataframe thead th {\n",
       "        text-align: right;\n",
       "    }\n",
       "</style>\n",
       "<table border=\"1\" class=\"dataframe\">\n",
       "  <thead>\n",
       "    <tr style=\"text-align: right;\">\n",
       "      <th></th>\n",
       "      <th>b</th>\n",
       "      <th>d</th>\n",
       "      <th>e</th>\n",
       "    </tr>\n",
       "  </thead>\n",
       "  <tbody>\n",
       "    <tr>\n",
       "      <th>Utah</th>\n",
       "      <td>0.0</td>\n",
       "      <td>1.0</td>\n",
       "      <td>2.0</td>\n",
       "    </tr>\n",
       "    <tr>\n",
       "      <th>Ohio</th>\n",
       "      <td>3.0</td>\n",
       "      <td>4.0</td>\n",
       "      <td>5.0</td>\n",
       "    </tr>\n",
       "    <tr>\n",
       "      <th>Texas</th>\n",
       "      <td>6.0</td>\n",
       "      <td>7.0</td>\n",
       "      <td>8.0</td>\n",
       "    </tr>\n",
       "    <tr>\n",
       "      <th>Oregon</th>\n",
       "      <td>9.0</td>\n",
       "      <td>10.0</td>\n",
       "      <td>11.0</td>\n",
       "    </tr>\n",
       "  </tbody>\n",
       "</table>\n",
       "</div>"
      ],
      "text/plain": [
       "          b     d     e\n",
       "Utah    0.0   1.0   2.0\n",
       "Ohio    3.0   4.0   5.0\n",
       "Texas   6.0   7.0   8.0\n",
       "Oregon  9.0  10.0  11.0"
      ]
     },
     "execution_count": 27,
     "metadata": {},
     "output_type": "execute_result"
    }
   ],
   "source": [
    "frame = pd.DataFrame(np.arange(12.).reshape((4,3)), columns=list('bde'),\n",
    "                    index = ['Utah', 'Ohio', 'Texas', 'Oregon'])\n",
    "frame"
   ]
  },
  {
   "cell_type": "code",
   "execution_count": 28,
   "metadata": {},
   "outputs": [
    {
     "data": {
      "text/plain": [
       "b    0.0\n",
       "d    1.0\n",
       "e    2.0\n",
       "Name: Utah, dtype: float64"
      ]
     },
     "execution_count": 28,
     "metadata": {},
     "output_type": "execute_result"
    }
   ],
   "source": [
    "series = frame.iloc[0]\n",
    "series"
   ]
  },
  {
   "cell_type": "code",
   "execution_count": 29,
   "metadata": {},
   "outputs": [
    {
     "data": {
      "text/html": [
       "<div>\n",
       "<style scoped>\n",
       "    .dataframe tbody tr th:only-of-type {\n",
       "        vertical-align: middle;\n",
       "    }\n",
       "\n",
       "    .dataframe tbody tr th {\n",
       "        vertical-align: top;\n",
       "    }\n",
       "\n",
       "    .dataframe thead th {\n",
       "        text-align: right;\n",
       "    }\n",
       "</style>\n",
       "<table border=\"1\" class=\"dataframe\">\n",
       "  <thead>\n",
       "    <tr style=\"text-align: right;\">\n",
       "      <th></th>\n",
       "      <th>b</th>\n",
       "      <th>d</th>\n",
       "      <th>e</th>\n",
       "    </tr>\n",
       "  </thead>\n",
       "  <tbody>\n",
       "    <tr>\n",
       "      <th>Utah</th>\n",
       "      <td>0.0</td>\n",
       "      <td>0.0</td>\n",
       "      <td>0.0</td>\n",
       "    </tr>\n",
       "    <tr>\n",
       "      <th>Ohio</th>\n",
       "      <td>3.0</td>\n",
       "      <td>3.0</td>\n",
       "      <td>3.0</td>\n",
       "    </tr>\n",
       "    <tr>\n",
       "      <th>Texas</th>\n",
       "      <td>6.0</td>\n",
       "      <td>6.0</td>\n",
       "      <td>6.0</td>\n",
       "    </tr>\n",
       "    <tr>\n",
       "      <th>Oregon</th>\n",
       "      <td>9.0</td>\n",
       "      <td>9.0</td>\n",
       "      <td>9.0</td>\n",
       "    </tr>\n",
       "  </tbody>\n",
       "</table>\n",
       "</div>"
      ],
      "text/plain": [
       "          b    d    e\n",
       "Utah    0.0  0.0  0.0\n",
       "Ohio    3.0  3.0  3.0\n",
       "Texas   6.0  6.0  6.0\n",
       "Oregon  9.0  9.0  9.0"
      ]
     },
     "execution_count": 29,
     "metadata": {},
     "output_type": "execute_result"
    }
   ],
   "source": [
    "frame - series  # subtract  with all rows of frame"
   ]
  },
  {
   "cell_type": "code",
   "execution_count": 32,
   "metadata": {},
   "outputs": [
    {
     "data": {
      "text/html": [
       "<div>\n",
       "<style scoped>\n",
       "    .dataframe tbody tr th:only-of-type {\n",
       "        vertical-align: middle;\n",
       "    }\n",
       "\n",
       "    .dataframe tbody tr th {\n",
       "        vertical-align: top;\n",
       "    }\n",
       "\n",
       "    .dataframe thead th {\n",
       "        text-align: right;\n",
       "    }\n",
       "</style>\n",
       "<table border=\"1\" class=\"dataframe\">\n",
       "  <thead>\n",
       "    <tr style=\"text-align: right;\">\n",
       "      <th></th>\n",
       "      <th>b</th>\n",
       "      <th>d</th>\n",
       "      <th>e</th>\n",
       "      <th>f</th>\n",
       "    </tr>\n",
       "  </thead>\n",
       "  <tbody>\n",
       "    <tr>\n",
       "      <th>Utah</th>\n",
       "      <td>0.0</td>\n",
       "      <td>NaN</td>\n",
       "      <td>1.0</td>\n",
       "      <td>NaN</td>\n",
       "    </tr>\n",
       "    <tr>\n",
       "      <th>Ohio</th>\n",
       "      <td>3.0</td>\n",
       "      <td>NaN</td>\n",
       "      <td>4.0</td>\n",
       "      <td>NaN</td>\n",
       "    </tr>\n",
       "    <tr>\n",
       "      <th>Texas</th>\n",
       "      <td>6.0</td>\n",
       "      <td>NaN</td>\n",
       "      <td>7.0</td>\n",
       "      <td>NaN</td>\n",
       "    </tr>\n",
       "    <tr>\n",
       "      <th>Oregon</th>\n",
       "      <td>9.0</td>\n",
       "      <td>NaN</td>\n",
       "      <td>10.0</td>\n",
       "      <td>NaN</td>\n",
       "    </tr>\n",
       "  </tbody>\n",
       "</table>\n",
       "</div>"
      ],
      "text/plain": [
       "          b   d     e   f\n",
       "Utah    0.0 NaN   1.0 NaN\n",
       "Ohio    3.0 NaN   4.0 NaN\n",
       "Texas   6.0 NaN   7.0 NaN\n",
       "Oregon  9.0 NaN  10.0 NaN"
      ]
     },
     "execution_count": 32,
     "metadata": {},
     "output_type": "execute_result"
    }
   ],
   "source": [
    "series2 = pd.Series(range(3), index=['b', 'e', 'f'])\n",
    "frame - series2"
   ]
  },
  {
   "cell_type": "code",
   "execution_count": 34,
   "metadata": {},
   "outputs": [
    {
     "data": {
      "text/plain": [
       "b    0\n",
       "e    1\n",
       "f    2\n",
       "dtype: int64"
      ]
     },
     "execution_count": 34,
     "metadata": {},
     "output_type": "execute_result"
    }
   ],
   "source": [
    "series2"
   ]
  },
  {
   "cell_type": "code",
   "execution_count": 36,
   "metadata": {},
   "outputs": [],
   "source": [
    "f = lambda x: x.max() - x.min()"
   ]
  },
  {
   "cell_type": "code",
   "execution_count": 37,
   "metadata": {},
   "outputs": [
    {
     "data": {
      "text/plain": [
       "b    9.0\n",
       "d    9.0\n",
       "e    9.0\n",
       "dtype: float64"
      ]
     },
     "execution_count": 37,
     "metadata": {},
     "output_type": "execute_result"
    }
   ],
   "source": [
    "frame.apply(f)"
   ]
  },
  {
   "cell_type": "code",
   "execution_count": 43,
   "metadata": {},
   "outputs": [
    {
     "data": {
      "text/plain": [
       "Utah      2.0\n",
       "Ohio      2.0\n",
       "Texas     2.0\n",
       "Oregon    2.0\n",
       "dtype: float64"
      ]
     },
     "execution_count": 43,
     "metadata": {},
     "output_type": "execute_result"
    }
   ],
   "source": [
    "frame.apply(f, axis='columns') # axis=columns or axis =1"
   ]
  },
  {
   "cell_type": "code",
   "execution_count": 44,
   "metadata": {},
   "outputs": [
    {
     "data": {
      "text/plain": [
       "d    0\n",
       "a    1\n",
       "b    2\n",
       "c    3\n",
       "dtype: int64"
      ]
     },
     "execution_count": 44,
     "metadata": {},
     "output_type": "execute_result"
    }
   ],
   "source": [
    "obj = pd.Series(range(4), index = ['d', 'a', 'b', 'c'])\n",
    "obj"
   ]
  },
  {
   "cell_type": "code",
   "execution_count": 45,
   "metadata": {},
   "outputs": [
    {
     "data": {
      "text/plain": [
       "a    1\n",
       "b    2\n",
       "c    3\n",
       "d    0\n",
       "dtype: int64"
      ]
     },
     "execution_count": 45,
     "metadata": {},
     "output_type": "execute_result"
    }
   ],
   "source": [
    "obj.sort_index()"
   ]
  },
  {
   "cell_type": "code",
   "execution_count": 48,
   "metadata": {},
   "outputs": [
    {
     "data": {
      "text/html": [
       "<div>\n",
       "<style scoped>\n",
       "    .dataframe tbody tr th:only-of-type {\n",
       "        vertical-align: middle;\n",
       "    }\n",
       "\n",
       "    .dataframe tbody tr th {\n",
       "        vertical-align: top;\n",
       "    }\n",
       "\n",
       "    .dataframe thead th {\n",
       "        text-align: right;\n",
       "    }\n",
       "</style>\n",
       "<table border=\"1\" class=\"dataframe\">\n",
       "  <thead>\n",
       "    <tr style=\"text-align: right;\">\n",
       "      <th></th>\n",
       "      <th>d</th>\n",
       "      <th>a</th>\n",
       "      <th>b</th>\n",
       "      <th>c</th>\n",
       "    </tr>\n",
       "  </thead>\n",
       "  <tbody>\n",
       "    <tr>\n",
       "      <th>three</th>\n",
       "      <td>0</td>\n",
       "      <td>1</td>\n",
       "      <td>2</td>\n",
       "      <td>3</td>\n",
       "    </tr>\n",
       "    <tr>\n",
       "      <th>one</th>\n",
       "      <td>4</td>\n",
       "      <td>5</td>\n",
       "      <td>6</td>\n",
       "      <td>7</td>\n",
       "    </tr>\n",
       "  </tbody>\n",
       "</table>\n",
       "</div>"
      ],
      "text/plain": [
       "       d  a  b  c\n",
       "three  0  1  2  3\n",
       "one    4  5  6  7"
      ]
     },
     "execution_count": 48,
     "metadata": {},
     "output_type": "execute_result"
    }
   ],
   "source": [
    "df = pd.DataFrame(np.arange(8).reshape((2,4)), \n",
    "                 index=['three', 'one'],\n",
    "                 columns =['d', 'a', 'b','c'])\n",
    "df"
   ]
  },
  {
   "cell_type": "code",
   "execution_count": 49,
   "metadata": {},
   "outputs": [
    {
     "data": {
      "text/html": [
       "<div>\n",
       "<style scoped>\n",
       "    .dataframe tbody tr th:only-of-type {\n",
       "        vertical-align: middle;\n",
       "    }\n",
       "\n",
       "    .dataframe tbody tr th {\n",
       "        vertical-align: top;\n",
       "    }\n",
       "\n",
       "    .dataframe thead th {\n",
       "        text-align: right;\n",
       "    }\n",
       "</style>\n",
       "<table border=\"1\" class=\"dataframe\">\n",
       "  <thead>\n",
       "    <tr style=\"text-align: right;\">\n",
       "      <th></th>\n",
       "      <th>d</th>\n",
       "      <th>a</th>\n",
       "      <th>b</th>\n",
       "      <th>c</th>\n",
       "    </tr>\n",
       "  </thead>\n",
       "  <tbody>\n",
       "    <tr>\n",
       "      <th>one</th>\n",
       "      <td>4</td>\n",
       "      <td>5</td>\n",
       "      <td>6</td>\n",
       "      <td>7</td>\n",
       "    </tr>\n",
       "    <tr>\n",
       "      <th>three</th>\n",
       "      <td>0</td>\n",
       "      <td>1</td>\n",
       "      <td>2</td>\n",
       "      <td>3</td>\n",
       "    </tr>\n",
       "  </tbody>\n",
       "</table>\n",
       "</div>"
      ],
      "text/plain": [
       "       d  a  b  c\n",
       "one    4  5  6  7\n",
       "three  0  1  2  3"
      ]
     },
     "execution_count": 49,
     "metadata": {},
     "output_type": "execute_result"
    }
   ],
   "source": [
    "df.sort_index()"
   ]
  },
  {
   "cell_type": "code",
   "execution_count": 57,
   "metadata": {},
   "outputs": [
    {
     "data": {
      "text/html": [
       "<div>\n",
       "<style scoped>\n",
       "    .dataframe tbody tr th:only-of-type {\n",
       "        vertical-align: middle;\n",
       "    }\n",
       "\n",
       "    .dataframe tbody tr th {\n",
       "        vertical-align: top;\n",
       "    }\n",
       "\n",
       "    .dataframe thead th {\n",
       "        text-align: right;\n",
       "    }\n",
       "</style>\n",
       "<table border=\"1\" class=\"dataframe\">\n",
       "  <thead>\n",
       "    <tr style=\"text-align: right;\">\n",
       "      <th></th>\n",
       "      <th>a</th>\n",
       "      <th>b</th>\n",
       "      <th>c</th>\n",
       "      <th>d</th>\n",
       "    </tr>\n",
       "  </thead>\n",
       "  <tbody>\n",
       "    <tr>\n",
       "      <th>three</th>\n",
       "      <td>1</td>\n",
       "      <td>2</td>\n",
       "      <td>3</td>\n",
       "      <td>0</td>\n",
       "    </tr>\n",
       "    <tr>\n",
       "      <th>one</th>\n",
       "      <td>5</td>\n",
       "      <td>6</td>\n",
       "      <td>7</td>\n",
       "      <td>4</td>\n",
       "    </tr>\n",
       "  </tbody>\n",
       "</table>\n",
       "</div>"
      ],
      "text/plain": [
       "       a  b  c  d\n",
       "three  1  2  3  0\n",
       "one    5  6  7  4"
      ]
     },
     "execution_count": 57,
     "metadata": {},
     "output_type": "execute_result"
    }
   ],
   "source": [
    "df.sort_index(axis=1)"
   ]
  },
  {
   "cell_type": "code",
   "execution_count": 59,
   "metadata": {},
   "outputs": [
    {
     "data": {
      "text/plain": [
       "2   -3\n",
       "3    2\n",
       "0    4\n",
       "1    7\n",
       "dtype: int64"
      ]
     },
     "execution_count": 59,
     "metadata": {},
     "output_type": "execute_result"
    }
   ],
   "source": [
    "obj1 = pd.Series([4, 7, -3, 2])\n",
    "obj1.sort_values()"
   ]
  },
  {
   "cell_type": "code",
   "execution_count": 69,
   "metadata": {},
   "outputs": [
    {
     "data": {
      "text/html": [
       "<div>\n",
       "<style scoped>\n",
       "    .dataframe tbody tr th:only-of-type {\n",
       "        vertical-align: middle;\n",
       "    }\n",
       "\n",
       "    .dataframe tbody tr th {\n",
       "        vertical-align: top;\n",
       "    }\n",
       "\n",
       "    .dataframe thead th {\n",
       "        text-align: right;\n",
       "    }\n",
       "</style>\n",
       "<table border=\"1\" class=\"dataframe\">\n",
       "  <thead>\n",
       "    <tr style=\"text-align: right;\">\n",
       "      <th></th>\n",
       "      <th>a</th>\n",
       "      <th>b</th>\n",
       "    </tr>\n",
       "  </thead>\n",
       "  <tbody>\n",
       "    <tr>\n",
       "      <th>0</th>\n",
       "      <td>0</td>\n",
       "      <td>4</td>\n",
       "    </tr>\n",
       "    <tr>\n",
       "      <th>1</th>\n",
       "      <td>3</td>\n",
       "      <td>7</td>\n",
       "    </tr>\n",
       "    <tr>\n",
       "      <th>2</th>\n",
       "      <td>2</td>\n",
       "      <td>-3</td>\n",
       "    </tr>\n",
       "    <tr>\n",
       "      <th>3</th>\n",
       "      <td>1</td>\n",
       "      <td>2</td>\n",
       "    </tr>\n",
       "  </tbody>\n",
       "</table>\n",
       "</div>"
      ],
      "text/plain": [
       "   a  b\n",
       "0  0  4\n",
       "1  3  7\n",
       "2  2 -3\n",
       "3  1  2"
      ]
     },
     "execution_count": 69,
     "metadata": {},
     "output_type": "execute_result"
    }
   ],
   "source": [
    "frame2 = pd.DataFrame({'a':[0,3,2,1], 'b':[4, 7, -3, 2]})\n",
    "frame2"
   ]
  },
  {
   "cell_type": "code",
   "execution_count": 70,
   "metadata": {},
   "outputs": [
    {
     "data": {
      "text/html": [
       "<div>\n",
       "<style scoped>\n",
       "    .dataframe tbody tr th:only-of-type {\n",
       "        vertical-align: middle;\n",
       "    }\n",
       "\n",
       "    .dataframe tbody tr th {\n",
       "        vertical-align: top;\n",
       "    }\n",
       "\n",
       "    .dataframe thead th {\n",
       "        text-align: right;\n",
       "    }\n",
       "</style>\n",
       "<table border=\"1\" class=\"dataframe\">\n",
       "  <thead>\n",
       "    <tr style=\"text-align: right;\">\n",
       "      <th></th>\n",
       "      <th>a</th>\n",
       "      <th>b</th>\n",
       "    </tr>\n",
       "  </thead>\n",
       "  <tbody>\n",
       "    <tr>\n",
       "      <th>2</th>\n",
       "      <td>2</td>\n",
       "      <td>-3</td>\n",
       "    </tr>\n",
       "    <tr>\n",
       "      <th>3</th>\n",
       "      <td>1</td>\n",
       "      <td>2</td>\n",
       "    </tr>\n",
       "    <tr>\n",
       "      <th>0</th>\n",
       "      <td>0</td>\n",
       "      <td>4</td>\n",
       "    </tr>\n",
       "    <tr>\n",
       "      <th>1</th>\n",
       "      <td>3</td>\n",
       "      <td>7</td>\n",
       "    </tr>\n",
       "  </tbody>\n",
       "</table>\n",
       "</div>"
      ],
      "text/plain": [
       "   a  b\n",
       "2  2 -3\n",
       "3  1  2\n",
       "0  0  4\n",
       "1  3  7"
      ]
     },
     "execution_count": 70,
     "metadata": {},
     "output_type": "execute_result"
    }
   ],
   "source": [
    "frame2.sort_values(by='b')"
   ]
  },
  {
   "cell_type": "code",
   "execution_count": 71,
   "metadata": {},
   "outputs": [
    {
     "data": {
      "text/html": [
       "<div>\n",
       "<style scoped>\n",
       "    .dataframe tbody tr th:only-of-type {\n",
       "        vertical-align: middle;\n",
       "    }\n",
       "\n",
       "    .dataframe tbody tr th {\n",
       "        vertical-align: top;\n",
       "    }\n",
       "\n",
       "    .dataframe thead th {\n",
       "        text-align: right;\n",
       "    }\n",
       "</style>\n",
       "<table border=\"1\" class=\"dataframe\">\n",
       "  <thead>\n",
       "    <tr style=\"text-align: right;\">\n",
       "      <th></th>\n",
       "      <th>a</th>\n",
       "      <th>b</th>\n",
       "    </tr>\n",
       "  </thead>\n",
       "  <tbody>\n",
       "    <tr>\n",
       "      <th>0</th>\n",
       "      <td>0</td>\n",
       "      <td>4</td>\n",
       "    </tr>\n",
       "    <tr>\n",
       "      <th>3</th>\n",
       "      <td>1</td>\n",
       "      <td>2</td>\n",
       "    </tr>\n",
       "    <tr>\n",
       "      <th>2</th>\n",
       "      <td>2</td>\n",
       "      <td>-3</td>\n",
       "    </tr>\n",
       "    <tr>\n",
       "      <th>1</th>\n",
       "      <td>3</td>\n",
       "      <td>7</td>\n",
       "    </tr>\n",
       "  </tbody>\n",
       "</table>\n",
       "</div>"
      ],
      "text/plain": [
       "   a  b\n",
       "0  0  4\n",
       "3  1  2\n",
       "2  2 -3\n",
       "1  3  7"
      ]
     },
     "execution_count": 71,
     "metadata": {},
     "output_type": "execute_result"
    }
   ],
   "source": [
    "frame2.sort_values(by=['a', 'b'])"
   ]
  },
  {
   "cell_type": "markdown",
   "metadata": {},
   "source": [
    "## Random Practice "
   ]
  },
  {
   "cell_type": "code",
   "execution_count": 30,
   "metadata": {},
   "outputs": [],
   "source": [
    "import pandas as pd\n"
   ]
  },
  {
   "cell_type": "code",
   "execution_count": 32,
   "metadata": {},
   "outputs": [
    {
     "data": {
      "text/plain": [
       "0    a\n",
       "1    b\n",
       "2    c\n",
       "3    d\n",
       "4    e\n",
       "5    f\n",
       "dtype: object"
      ]
     },
     "execution_count": 32,
     "metadata": {},
     "output_type": "execute_result"
    }
   ],
   "source": [
    "s = pd.Series(['a','b','c','d','e','f'])\n",
    "s"
   ]
  },
  {
   "cell_type": "code",
   "execution_count": 38,
   "metadata": {},
   "outputs": [
    {
     "data": {
      "text/plain": [
       "1    b\n",
       "2    c\n",
       "3    d\n",
       "dtype: object"
      ]
     },
     "execution_count": 38,
     "metadata": {},
     "output_type": "execute_result"
    }
   ],
   "source": [
    "s.loc[[1,2,3]]"
   ]
  },
  {
   "cell_type": "code",
   "execution_count": 44,
   "metadata": {},
   "outputs": [],
   "source": [
    "s.iloc?"
   ]
  },
  {
   "cell_type": "code",
   "execution_count": null,
   "metadata": {},
   "outputs": [],
   "source": []
  }
 ],
 "metadata": {
  "kernelspec": {
   "display_name": "Python 3",
   "language": "python",
   "name": "python3"
  },
  "language_info": {
   "codemirror_mode": {
    "name": "ipython",
    "version": 3
   },
   "file_extension": ".py",
   "mimetype": "text/x-python",
   "name": "python",
   "nbconvert_exporter": "python",
   "pygments_lexer": "ipython3",
   "version": "3.8.5"
  }
 },
 "nbformat": 4,
 "nbformat_minor": 4
}
