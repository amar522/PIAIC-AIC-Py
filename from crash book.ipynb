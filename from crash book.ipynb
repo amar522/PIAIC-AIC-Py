{
 "cells": [
  {
   "cell_type": "code",
   "execution_count": 7,
   "metadata": {},
   "outputs": [
    {
     "name": "stdout",
     "output_type": "stream",
     "text": [
      "hi how are you Ali\n",
      "hi how are you zain\n",
      "hi how are you shoukat\n"
     ]
    }
   ],
   "source": [
    "person_name=['Ali', 'zain', 'shoukat']\n",
    "msg_list=[f'hi how are you {person_name[0]}', f'hi how are you {person_name[1]}', f'hi how are you {person_name[2]}']\n",
    "print(msg_list[0])\n",
    "print(msg_list[1])\n",
    "print(msg_list[2])\n"
   ]
  },
  {
   "cell_type": "code",
   "execution_count": 10,
   "metadata": {
    "scrolled": true
   },
   "outputs": [
    {
     "name": "stdout",
     "output_type": "stream",
     "text": [
      "[]\n",
      "Ali\n",
      "[]\n",
      "[]\n"
     ]
    }
   ],
   "source": [
    "pooped_name = person_name.pop()\n",
    "print(person_name)\n",
    "print(pooped_name)\n",
    "print(person_name)\n",
    "print(person_name)"
   ]
  },
  {
   "cell_type": "code",
   "execution_count": 12,
   "metadata": {},
   "outputs": [
    {
     "name": "stdout",
     "output_type": "stream",
     "text": [
      "['Ali you are invited for dinner', 'zain you are invited for dinner', 'shoukat you are invited for dinner']\n"
     ]
    }
   ],
   "source": [
    "person_name=['Ali', 'zain', 'shoukat']\n",
    "\n",
    "invationlist=[ f'{person_name[0]} you are invited for dinner', f'{person_name[1]} you are invited for dinner', \n",
    "f'{person_name[2]} you are invited for dinner' ]\n",
    "print(invationlist)"
   ]
  },
  {
   "cell_type": "code",
   "execution_count": 17,
   "metadata": {},
   "outputs": [
    {
     "name": "stdout",
     "output_type": "stream",
     "text": [
      "['Ahmad', 'zain', 'shoukat']\n"
     ]
    }
   ],
   "source": [
    "person_name[0] = 'Ahmad'\n",
    "print(person_name)\n",
    "invationlist=[ f'{person_name[0]} you are invited for dinner', f'{person_name[1]} you are invited for dinner', \n",
    "f'{person_name[2]} you are invited for dinner' ]"
   ]
  },
  {
   "cell_type": "code",
   "execution_count": 18,
   "metadata": {},
   "outputs": [
    {
     "name": "stdout",
     "output_type": "stream",
     "text": [
      "['Ahmad you are invited for dinner', 'zain you are invited for dinner', 'shoukat you are invited for dinner']\n"
     ]
    }
   ],
   "source": [
    "print(invationlist)"
   ]
  },
  {
   "cell_type": "code",
   "execution_count": 30,
   "metadata": {},
   "outputs": [
    {
     "name": "stdout",
     "output_type": "stream",
     "text": [
      "['sheraz', 'sheraz', 'sanwal', 'sheraz', 'sanwal', 'sheraz', 'sanwal', 'sheraz', 'sanwal', 'sheraz', 'sanwal', 'Ahmad', 'sanwal', 'zain', 'shoukat', 'sajjad', 'sajjad', 'sajjad', 'sajjad', 'sajjad', 'sajjad']\n"
     ]
    }
   ],
   "source": [
    "person_name.insert(0, 'sheraz')\n",
    "person_name.insert(2, 'sanwal')\n",
    "person_name.append('sajjad')\n",
    "print(person_name)\n",
    "invationlist=[ f'{person_name[0]} you are invited for dinner', f'{person_name[1]} you are invited for dinner', \n",
    "f'{person_name[2]} you are invited for dinner' ]"
   ]
  },
  {
   "cell_type": "code",
   "execution_count": 31,
   "metadata": {},
   "outputs": [
    {
     "name": "stdout",
     "output_type": "stream",
     "text": [
      "['sheraz you are invited for dinner', 'sheraz you are invited for dinner', 'sanwal you are invited for dinner']\n"
     ]
    }
   ],
   "source": [
    "print(invationlist)"
   ]
  },
  {
   "cell_type": "code",
   "execution_count": 3,
   "metadata": {},
   "outputs": [
    {
     "name": "stdout",
     "output_type": "stream",
     "text": [
      "Alice, that was a great trick!\n",
      "I can't wait to see your next trick, Alice. \n",
      "\n",
      " David, that was a great trick!\n",
      "I can't wait to see your next trick,  David. \n",
      "\n",
      "Carolina, that was a great trick!\n",
      "I can't wait to see your next trick, Carolina. \n",
      "\n",
      "Thank you, everyone. That was a great magic show!\n"
     ]
    }
   ],
   "source": [
    "magicians = ['alice', ' david', 'carolina']\n",
    "for magician in magicians: \n",
    "    print(f'{magician.title()}, that was a great trick!')\n",
    "    print(f\"I can't wait to see your next trick, {magician.title()}. \\n\")\n",
    "\n",
    "print(\"Thank you, everyone. That was a great magic show!\")"
   ]
  },
  {
   "cell_type": "code",
   "execution_count": 1,
   "metadata": {},
   "outputs": [
    {
     "name": "stdout",
     "output_type": "stream",
     "text": [
      "Hi, this is my first variable.\n"
     ]
    }
   ],
   "source": [
    "message = \"Hi, this is my first variable.\"\n",
    "print(messagesage)"
   ]
  },
  {
   "cell_type": "code",
   "execution_count": 2,
   "metadata": {},
   "outputs": [],
   "source": [
    "message = \"This is my another line.\""
   ]
  },
  {
   "cell_type": "code",
   "execution_count": 3,
   "metadata": {},
   "outputs": [
    {
     "name": "stdout",
     "output_type": "stream",
     "text": [
      "This is my another line.\n"
     ]
    }
   ],
   "source": [
    "print(message)"
   ]
  },
  {
   "cell_type": "code",
   "execution_count": 4,
   "metadata": {},
   "outputs": [
    {
     "name": "stdout",
     "output_type": "stream",
     "text": [
      "Ada Lovelace\n"
     ]
    }
   ],
   "source": [
    "name = \"ada lovelace\"\n",
    "print(name.title())"
   ]
  },
  {
   "cell_type": "code",
   "execution_count": 5,
   "metadata": {},
   "outputs": [
    {
     "name": "stdout",
     "output_type": "stream",
     "text": [
      "ADA LOVELACE\n",
      "ada lovelace\n"
     ]
    }
   ],
   "source": [
    "print(name.upper())\n",
    "print(name.lower())"
   ]
  },
  {
   "cell_type": "code",
   "execution_count": 7,
   "metadata": {},
   "outputs": [
    {
     "name": "stdout",
     "output_type": "stream",
     "text": [
      "Ada Lovelace\n"
     ]
    }
   ],
   "source": [
    "f_name = \"ada\"\n",
    "l_name = \"lovelace\"\n",
    "full_name = f\"{f_name} {l_name}\"\n",
    "print(full_name.title())"
   ]
  },
  {
   "cell_type": "code",
   "execution_count": 8,
   "metadata": {},
   "outputs": [
    {
     "name": "stdout",
     "output_type": "stream",
     "text": [
      "Hello , Ada Lovelace! \n"
     ]
    }
   ],
   "source": [
    "message = f\"Hello , {full_name.title()}! \"\n",
    "print(message)"
   ]
  },
  {
   "cell_type": "code",
   "execution_count": 1,
   "metadata": {},
   "outputs": [
    {
     "name": "stdout",
     "output_type": "stream",
     "text": [
      "Hello, Amar , would you like to learn python today?\n"
     ]
    }
   ],
   "source": [
    "name = \"Amar\"\n",
    "message = f\"Hello, {name.title()} , would you like to learn python today?\"\n",
    "print(message)"
   ]
  },
  {
   "cell_type": "code",
   "execution_count": 3,
   "metadata": {},
   "outputs": [
    {
     "name": "stdout",
     "output_type": "stream",
     "text": [
      "Albert Einstein once said,'A person who never made \n",
      " a mistake never tried anything new.'\n"
     ]
    }
   ],
   "source": [
    "author = \"albert einstein\"\n",
    "qoute  = f\"{author.title()} once said,'A person who never made \\n a mistake never tried anything new.'\"\n",
    "print(qoute)"
   ]
  },
  {
   "cell_type": "code",
   "execution_count": 6,
   "metadata": {},
   "outputs": [
    {
     "name": "stdout",
     "output_type": "stream",
     "text": [
      "8\n",
      "8\n",
      "8.0\n"
     ]
    }
   ],
   "source": [
    "print(5+3)\n",
    "print(4*2)\n",
    "print(16/2)"
   ]
  },
  {
   "cell_type": "code",
   "execution_count": 2,
   "metadata": {},
   "outputs": [
    {
     "name": "stdout",
     "output_type": "stream",
     "text": [
      " My first bicycle was Specialized\n"
     ]
    }
   ],
   "source": [
    "bicycles = [\"trek\", \"redline\", \"specialized\"]\n",
    "message = f\" My first bicycle was {bicycles[2].title()}\"\n",
    "print(message)\n"
   ]
  },
  {
   "cell_type": "code",
   "execution_count": 4,
   "metadata": {},
   "outputs": [
    {
     "name": "stdout",
     "output_type": "stream",
     "text": [
      "Sheraz\n",
      "Sanwal\n",
      "Shahabaz\n",
      "Burhan\n"
     ]
    }
   ],
   "source": [
    "friends = [\"Sheraz\", \"Sanwal\" , \"Shahabaz\", \"Burhan\"]\n",
    "print(friends[0])\n",
    "print(friends[1])\n",
    "print(friends[2])\n",
    "print(friends[3])"
   ]
  },
  {
   "cell_type": "code",
   "execution_count": 6,
   "metadata": {},
   "outputs": [
    {
     "name": "stdout",
     "output_type": "stream",
     "text": [
      "Hi,How are you Sheraz  Hi,How are you Sanwal  Hi,How are you Shahabaz  Hi,How are you Burhan \n"
     ]
    }
   ],
   "source": [
    "message1 = f\"Hi,How are you {friends[0]} \"\n",
    "message2 =  f\"Hi,How are you {friends[1]} \"\n",
    "message3 = f\"Hi,How are you {friends[2]} \"\n",
    "message4 = f\"Hi,How are you {friends[3]} \"\n",
    "print(message1, message2, message3, message4)"
   ]
  },
  {
   "cell_type": "code",
   "execution_count": 8,
   "metadata": {},
   "outputs": [
    {
     "name": "stdout",
     "output_type": "stream",
     "text": [
      "I would like to own a Ferrai car.\n",
      "I would like to own a Rangerover car.\n",
      "I would like to own a Audi car.\n"
     ]
    }
   ],
   "source": [
    "cars = [\"ferrai\", \"rangerover\", \"audi\"]\n",
    "message1 = f\"I would like to own a {cars[0].title()} car.\"\n",
    "message2 = f\"I would like to own a {cars[1].title()} car.\"\n",
    "message3 = f\"I would like to own a {cars[2].title()} car.\"\n",
    "print(message1)\n",
    "print(message2)\n",
    "print(message3)"
   ]
  },
  {
   "cell_type": "code",
   "execution_count": 9,
   "metadata": {},
   "outputs": [
    {
     "name": "stdout",
     "output_type": "stream",
     "text": [
      "['ferrai', 'rangerover', 'audi']\n",
      "['Honda', 'rangerover', 'audi']\n"
     ]
    }
   ],
   "source": [
    "cars = [\"ferrai\", \"rangerover\", \"audi\"]\n",
    "print(cars)\n",
    "\n",
    "cars[0] = \"Honda\"\n",
    "print(cars)"
   ]
  },
  {
   "cell_type": "code",
   "execution_count": 10,
   "metadata": {},
   "outputs": [
    {
     "name": "stdout",
     "output_type": "stream",
     "text": [
      "['Honda', 'rangerover', 'audi', 'ferrari']\n"
     ]
    }
   ],
   "source": [
    "cars.append(\"ferrari\")\n",
    "print(cars)"
   ]
  },
  {
   "cell_type": "code",
   "execution_count": 18,
   "metadata": {},
   "outputs": [],
   "source": [
    "cars = []"
   ]
  },
  {
   "cell_type": "code",
   "execution_count": 19,
   "metadata": {},
   "outputs": [],
   "source": [
    "\n",
    "cars.append(\"rangrover\")\n",
    "cars.append(\"audi\")\n",
    "cars.append(\"ferrari\")"
   ]
  },
  {
   "cell_type": "code",
   "execution_count": 20,
   "metadata": {},
   "outputs": [
    {
     "name": "stdout",
     "output_type": "stream",
     "text": [
      "['rangrover', 'audi', 'ferrari']\n"
     ]
    }
   ],
   "source": [
    "print(cars)"
   ]
  },
  {
   "cell_type": "code",
   "execution_count": 21,
   "metadata": {},
   "outputs": [
    {
     "name": "stdout",
     "output_type": "stream",
     "text": [
      "['honda', 'rangrover', 'audi', 'ferrari']\n"
     ]
    }
   ],
   "source": [
    "cars.insert(0, \"honda\")\n",
    "print(cars)"
   ]
  },
  {
   "cell_type": "code",
   "execution_count": 22,
   "metadata": {},
   "outputs": [
    {
     "name": "stdout",
     "output_type": "stream",
     "text": [
      "['rangrover', 'audi', 'ferrari']\n"
     ]
    }
   ],
   "source": [
    "del cars[0]\n",
    "print(cars)"
   ]
  },
  {
   "cell_type": "code",
   "execution_count": 23,
   "metadata": {},
   "outputs": [
    {
     "name": "stdout",
     "output_type": "stream",
     "text": [
      "['rangrover', 'audi', 'ferrari']\n",
      "['rangrover', 'audi']\n",
      "ferrari\n"
     ]
    }
   ],
   "source": [
    "print(cars)\n",
    "\n",
    "popped_cars =  cars.pop()\n",
    "print(cars)\n",
    "print(popped_cars)"
   ]
  },
  {
   "cell_type": "code",
   "execution_count": 2,
   "metadata": {},
   "outputs": [
    {
     "name": "stdout",
     "output_type": "stream",
     "text": [
      " Sheraz, you are invited at dinner!\n",
      " Burhan, you are invited at dinner!\n",
      " Sanwal, you are invited at dinner!\n"
     ]
    }
   ],
   "source": [
    "Guests = [\"Sheraz\", \"Burhan\" , \"Sanwal\"]\n",
    "message1 = f\" {Guests[0]}, you are invited at dinner!\" \n",
    "message2 = f\" {Guests[1]}, you are invited at dinner!\" \n",
    "message3 = f\" {Guests[2]}, you are invited at dinner!\" \n",
    "print(message1)\n",
    "print(message2)\n",
    "print(message3)"
   ]
  },
  {
   "cell_type": "code",
   "execution_count": 5,
   "metadata": {},
   "outputs": [
    {
     "name": "stdout",
     "output_type": "stream",
     "text": [
      " Sheraz, you are invited at dinner!\n",
      " Burhan, you are invited at dinner!\n",
      " Sanwal refused to come at dinner!\n"
     ]
    }
   ],
   "source": [
    "Guests = [\"Sheraz\", \"Burhan\" , \"Sanwal\"]\n",
    "message1 = f\" {Guests[0]}, you are invited at dinner!\" \n",
    "message2 = f\" {Guests[1]}, you are invited at dinner!\" \n",
    "message3 = f\" {Guests[2]} refused to come at dinner!\" \n",
    "print(message1)\n",
    "print(message2)\n",
    "print(message3)"
   ]
  },
  {
   "cell_type": "code",
   "execution_count": 6,
   "metadata": {},
   "outputs": [
    {
     "name": "stdout",
     "output_type": "stream",
     "text": [
      " Sheraz, you are invited at dinner!\n",
      " Burhan, you are invited at dinner!\n",
      " Shahbaz refused to come at dinner!\n"
     ]
    }
   ],
   "source": [
    "Guests = [\"Sheraz\", \"Burhan\" , \"Sanwal\"]\n",
    "Guests[2] = \"Shahbaz\"\n",
    "message1 = f\" {Guests[0]}, you are invited at dinner!\" \n",
    "message2 = f\" {Guests[1]}, you are invited at dinner!\" \n",
    "message3 = f\" {Guests[2]} refused to come at dinner!\" \n",
    "print(message1)\n",
    "print(message2)\n",
    "print(message3)"
   ]
  },
  {
   "cell_type": "code",
   "execution_count": 8,
   "metadata": {},
   "outputs": [
    {
     "name": "stdout",
     "output_type": "stream",
     "text": [
      "['Ali', 'Sheraz', 'Okasha', 'Burhan', 'Sanwal', 'Zeeshan']\n",
      " Ali, you are invited at big dinner!\n",
      " Sheraz, you are invited at big dinner!\n",
      " Okasha, you are invited at big dinner!\n",
      " Burhan, you are invited at big dinner!\n",
      " Sanwal, you are invited at big dinner!\n",
      " Zeeshan, you are invited at big dinner!\n"
     ]
    }
   ],
   "source": [
    "Guests = [\"Sheraz\", \"Burhan\" , \"Sanwal\"]\n",
    "Guests.insert(0, \"Ali\")\n",
    "Guests.insert(2, \"Okasha\")\n",
    "Guests.append(\"Zeeshan\")\n",
    "message1 = f\" {Guests[0]}, you are invited at big dinner!\" \n",
    "message2 = f\" {Guests[1]}, you are invited at big dinner!\" \n",
    "message3 = f\" {Guests[2]}, you are invited at big dinner!\" \n",
    "message4 = f\" {Guests[3]}, you are invited at big dinner!\" \n",
    "message5 = f\" {Guests[4]}, you are invited at big dinner!\" \n",
    "message6 = f\" {Guests[5]}, you are invited at big dinner!\" \n",
    "print(Guests)\n",
    "print(message1)\n",
    "print(message2)\n",
    "print(message3)\n",
    "print(message4)\n",
    "print(message5)\n",
    "print(message6)"
   ]
  },
  {
   "cell_type": "code",
   "execution_count": 28,
   "metadata": {},
   "outputs": [
    {
     "name": "stdout",
     "output_type": "stream",
     "text": [
      "['Ali', 'Sheraz', 'Okasha', 'Burhan', 'Sanwal', 'Zeeshan']\n"
     ]
    }
   ],
   "source": [
    "Guests = [\"Ali\", \"Sheraz\", \"Okasha\", \"Burhan\", \"Sanwal\", \"Zeeshan\"]\n",
    "\n",
    "print(Guests)"
   ]
  },
  {
   "cell_type": "code",
   "execution_count": 32,
   "metadata": {},
   "outputs": [
    {
     "name": "stdout",
     "output_type": "stream",
     "text": [
      "I have just found that my new dinner table won't found in time so i have space for only two guests.\n",
      " As you Burhan know, I can't invite  you at dinner!\n",
      " As you Sheraz know, I can't invite  you at dinner!\n",
      " As you Okasha know, I can't invite  you at dinner!\n",
      " As you Burhan know, I can't invite  you at dinner!\n",
      " Sanwal, You are still invited at dinner! \n",
      " Zeeshan, You are still invited at dinner! \n"
     ]
    }
   ],
   "source": [
    "Guests = [\"Ali\", \"Sheraz\", \"Okasha\", \"Burhan\", \"Sanwal\", \"Zeeshan\"]\n",
    "\n",
    "message = \"I have just found that my new dinner table won't found in time so i have space for only two guests.\"\n",
    "print(message)\n",
    "\n",
    "droped_Guest = Guests.pop(0)\n",
    "message1 = f\" As you {droped_Guests} know, I can't invite  you at dinner!\"\n",
    "print(message1)\n",
    "\n",
    "droped_Guests = Guests.pop(0)\n",
    "message2 = f\" As you {droped_Guests} know, I can't invite  you at dinner!\"\n",
    "print(message2)\n",
    "\n",
    "droped_Guests = Guests.pop(0)\n",
    "message3 = f\" As you {droped_Guests} know, I can't invite  you at dinner!\"\n",
    "print(message3)\n",
    "\n",
    "droped_Guests = Guests.pop(0)\n",
    "message4 = f\" As you {droped_Guests} know, I can't invite  you at dinner!\"\n",
    "print(message4)\n",
    "\n",
    "message5 = f\" {Guests[0]}, You are still invited at dinner! \"\n",
    "message6 = f\" {Guests[1]}, You are still invited at dinner! \"\n",
    "\n",
    "print(message5)\n",
    "print(message6)\n"
   ]
  },
  {
   "cell_type": "code",
   "execution_count": 35,
   "metadata": {},
   "outputs": [],
   "source": [
    "del Guests[0:2]"
   ]
  },
  {
   "cell_type": "code",
   "execution_count": 36,
   "metadata": {},
   "outputs": [
    {
     "name": "stdout",
     "output_type": "stream",
     "text": [
      "[]\n"
     ]
    }
   ],
   "source": [
    "print(Guests)"
   ]
  },
  {
   "cell_type": "code",
   "execution_count": 3,
   "metadata": {},
   "outputs": [
    {
     "name": "stdout",
     "output_type": "stream",
     "text": [
      "Here is original list\n",
      "['honda', 'ferrai', 'rangerover', 'audi']\n",
      "Here is sorted list\n",
      "['audi', 'ferrai', 'honda', 'rangerover']\n"
     ]
    }
   ],
   "source": [
    "cars = [\"honda\", \"ferrai\", \"rangerover\", \"audi\"]\n",
    "print(\"Here is original list\")\n",
    "print(cars)\n",
    "cars.sort()\n",
    "print(\"Here is sorted list\")\n",
    "print(cars)"
   ]
  },
  {
   "cell_type": "code",
   "execution_count": 6,
   "metadata": {},
   "outputs": [
    {
     "name": "stdout",
     "output_type": "stream",
     "text": [
      "Here is original list\n",
      "['honda', 'ferrai', 'rangerover', 'audi']\n",
      "Here is temprarily sorted list\n",
      "['audi', 'ferrai', 'honda', 'rangerover']\n",
      "Here is original format of list\n",
      "['honda', 'ferrai', 'rangerover', 'audi']\n"
     ]
    }
   ],
   "source": [
    "cars = [\"honda\", \"ferrai\", \"rangerover\", \"audi\"]\n",
    "print(\"Here is original list\")\n",
    "print(cars)\n",
    "\n",
    "print(\"Here is temprarily sorted list\")\n",
    "print(sorted(cars))\n",
    "\n",
    "print(\"Here is original format of list\")\n",
    "print(cars)"
   ]
  },
  {
   "cell_type": "code",
   "execution_count": 8,
   "metadata": {},
   "outputs": [
    {
     "name": "stdout",
     "output_type": "stream",
     "text": [
      "Here is original list\n",
      "['honda', 'ferrai', 'rangerover', 'audi']\n",
      "Here is list in reverse order.\n",
      "['audi', 'rangerover', 'ferrai', 'honda']\n"
     ]
    }
   ],
   "source": [
    "cars = [\"honda\", \"ferrai\", \"rangerover\", \"audi\"]\n",
    "print(\"Here is original list\")\n",
    "print(cars)\n",
    "\n",
    "print(\"Here is list in reverse order.\")\n",
    "cars.reverse()\n",
    "print(cars)"
   ]
  },
  {
   "cell_type": "code",
   "execution_count": 1,
   "metadata": {},
   "outputs": [
    {
     "name": "stdout",
     "output_type": "stream",
     "text": [
      "alice\n",
      "david\n",
      "carolina\n"
     ]
    }
   ],
   "source": [
    " magicians = [\"alice\", \"david\", \"carolina\"]\n",
    "\n",
    "for magician in magicians:\n",
    "    print(magician)"
   ]
  },
  {
   "cell_type": "code",
   "execution_count": 2,
   "metadata": {},
   "outputs": [
    {
     "name": "stdout",
     "output_type": "stream",
     "text": [
      "Alice, that was a great trick!\n",
      "David, that was a great trick!\n",
      "Carolina, that was a great trick!\n"
     ]
    }
   ],
   "source": [
    "magicians = [\"alice\", \"david\", \"carolina\"]\n",
    "for magician in magicians:\n",
    "    print(f\"{magician.title()}, that was a great trick!\")"
   ]
  },
  {
   "cell_type": "code",
   "execution_count": 4,
   "metadata": {},
   "outputs": [
    {
     "name": "stdout",
     "output_type": "stream",
     "text": [
      "Alice, that was a great trick!\n",
      "I can't wait to see your next trick, Alice.\n",
      "\n",
      "David, that was a great trick!\n",
      "I can't wait to see your next trick, David.\n",
      "\n",
      "Carolina, that was a great trick!\n",
      "I can't wait to see your next trick, Carolina.\n",
      "\n"
     ]
    }
   ],
   "source": [
    "magicians = [\"alice\", \"david\", \"carolina\"]\n",
    "for magician in magicians:\n",
    "    print(f\"{magician.title()}, that was a great trick!\")\n",
    "    print(f\"I can't wait to see your next trick, {magician.title()}.\\n\")"
   ]
  },
  {
   "cell_type": "code",
   "execution_count": 5,
   "metadata": {},
   "outputs": [
    {
     "name": "stdout",
     "output_type": "stream",
     "text": [
      "fajita\n",
      "supreeme\n",
      "tikka boti\n"
     ]
    }
   ],
   "source": [
    "pizzas = [\"fajita\", \"supreeme\", \"tikka boti\"]\n",
    "for pizza in pizzas:\n",
    "    print(pizza)"
   ]
  },
  {
   "cell_type": "code",
   "execution_count": 6,
   "metadata": {},
   "outputs": [
    {
     "name": "stdout",
     "output_type": "stream",
     "text": [
      "I like Fajita pizza.\n",
      "I like Supreeme pizza.\n",
      "I like Tikka Boti pizza.\n"
     ]
    }
   ],
   "source": [
    "pizzas = [\"fajita\", \"supreeme\", \"tikka boti\"]\n",
    "for pizza in pizzas:\n",
    "    print(f\"I like {pizza.title()} pizza.\")\n"
   ]
  },
  {
   "cell_type": "code",
   "execution_count": 8,
   "metadata": {},
   "outputs": [
    {
     "name": "stdout",
     "output_type": "stream",
     "text": [
      "I like Fajita pizza.\n",
      "I like Supreeme pizza.\n",
      "I like Tikka Boti pizza.\n",
      "I like this pizzas because its special.\n",
      "This is very yammy.\n",
      "I realy love pizza\n"
     ]
    }
   ],
   "source": [
    "pizzas = [\"fajita\", \"supreeme\", \"tikka boti\"]\n",
    "for pizza in pizzas:\n",
    "    print(f\"I like {pizza.title()} pizza.\")\n",
    "print(\"I like this pizzas because its special.\\nThis is very yammy.\\nI realy love pizza\")"
   ]
  },
  {
   "cell_type": "code",
   "execution_count": 12,
   "metadata": {},
   "outputs": [
    {
     "name": "stdout",
     "output_type": "stream",
     "text": [
      "Cat, would make a great pet.\n",
      "Dog, would make a great pet.\n",
      "Jaguar, would make a great pet.\n",
      "\n",
      "Any of these animals would make a great pet.\n"
     ]
    }
   ],
   "source": [
    "animals = [\"cat\", \"dog\", \"jaguar\"]\n",
    "for animal in animals:\n",
    "    print(f\"{animal.title()}, would make a great pet.\")\n",
    "print(\"\\nAny of these animals would make a great pet.\")"
   ]
  },
  {
   "cell_type": "code",
   "execution_count": 16,
   "metadata": {},
   "outputs": [
    {
     "name": "stdout",
     "output_type": "stream",
     "text": [
      "[1, 4, 9, 16, 25, 36, 49, 64, 81, 100]\n"
     ]
    }
   ],
   "source": [
    "squares = []\n",
    "for value in range(1,11):\n",
    "    square = value **2\n",
    "    squares.append(square)\n",
    "print(squares)"
   ]
  },
  {
   "cell_type": "code",
   "execution_count": 20,
   "metadata": {},
   "outputs": [
    {
     "name": "stdout",
     "output_type": "stream",
     "text": [
      "[1, 4, 9, 16, 25, 36, 49, 64, 81, 100]\n"
     ]
    }
   ],
   "source": [
    "\n",
    "squares = []\n",
    "\n",
    "for value in range(1,11):\n",
    "    squares.append(value **2)\n",
    "print(squares)"
   ]
  },
  {
   "cell_type": "code",
   "execution_count": 2,
   "metadata": {},
   "outputs": [
    {
     "name": "stdout",
     "output_type": "stream",
     "text": [
      "1\n",
      "2\n",
      "3\n",
      "4\n",
      "5\n",
      "6\n",
      "7\n",
      "8\n",
      "9\n",
      "10\n",
      "11\n",
      "12\n",
      "13\n",
      "14\n",
      "15\n",
      "16\n",
      "17\n",
      "18\n",
      "19\n",
      "20\n"
     ]
    }
   ],
   "source": [
    "for value in range(1,21):\n",
    "    print(value)"
   ]
  },
  {
   "cell_type": "code",
   "execution_count": null,
   "metadata": {},
   "outputs": [],
   "source": []
  },
  {
   "cell_type": "code",
   "execution_count": 8,
   "metadata": {},
   "outputs": [
    {
     "name": "stdout",
     "output_type": "stream",
     "text": [
      "1\n",
      "1000000\n",
      "500000500000\n"
     ]
    }
   ],
   "source": [
    "values = []\n",
    "for value in range(1, 1000001):\n",
    "    values.append(value)\n",
    "print(min(values))\n",
    "print(max(values))\n",
    "print(sum(values))"
   ]
  },
  {
   "cell_type": "code",
   "execution_count": 10,
   "metadata": {},
   "outputs": [
    {
     "name": "stdout",
     "output_type": "stream",
     "text": [
      "[3, 9, 15]\n"
     ]
    }
   ],
   "source": [
    "odd_numbers = []\n",
    "for odd in range(3, 20, 6):\n",
    "    odd_numbers.append(odd)\n",
    "print(odd_numbers)"
   ]
  },
  {
   "cell_type": "code",
   "execution_count": 11,
   "metadata": {},
   "outputs": [
    {
     "ename": "SyntaxError",
     "evalue": "invalid syntax (<ipython-input-11-88830c8f24be>, line 3)",
     "output_type": "error",
     "traceback": [
      "\u001b[1;36m  File \u001b[1;32m\"<ipython-input-11-88830c8f24be>\"\u001b[1;36m, line \u001b[1;32m3\u001b[0m\n\u001b[1;33m    mul =\u001b[0m\n\u001b[1;37m          ^\u001b[0m\n\u001b[1;31mSyntaxError\u001b[0m\u001b[1;31m:\u001b[0m invalid syntax\n"
     ]
    }
   ],
   "source": [
    "multiple_3 = []\n",
    "for value in range(3,31):\n",
    "    mul = "
   ]
  },
  {
   "cell_type": "code",
   "execution_count": 12,
   "metadata": {},
   "outputs": [
    {
     "name": "stdout",
     "output_type": "stream",
     "text": [
      "[1, 8, 27, 64, 125, 216, 343, 512, 729, 1000]\n"
     ]
    }
   ],
   "source": [
    "#using empty list\n",
    "cubes = []\n",
    "for value in range(1, 11):\n",
    "    cubes.append(value**3)\n",
    "print(cubes)"
   ]
  },
  {
   "cell_type": "code",
   "execution_count": 13,
   "metadata": {},
   "outputs": [
    {
     "name": "stdout",
     "output_type": "stream",
     "text": [
      "[1, 8, 27, 64, 125, 216, 343, 512, 729, 1000]\n"
     ]
    }
   ],
   "source": [
    "#using own comprehension list\n",
    "cubes = [value**3 for value in range(1,11)]\n",
    "print(cubes)"
   ]
  },
  {
   "cell_type": "code",
   "execution_count": 1,
   "metadata": {},
   "outputs": [
    {
     "name": "stdout",
     "output_type": "stream",
     "text": [
      "First three players in the list are:\n",
      "Afridi\n",
      "Nawaz\n",
      "Razzaq\n"
     ]
    }
   ],
   "source": [
    "players = [\"Afridi\", \"Nawaz\", \"Razzaq\", \"Sarfraz\", \"Azam\"]\n",
    "\n",
    "print(\"First three players in the list are:\")\n",
    "for player in players[:3]:\n",
    "    print(player.title())"
   ]
  },
  {
   "cell_type": "code",
   "execution_count": 2,
   "metadata": {},
   "outputs": [
    {
     "name": "stdout",
     "output_type": "stream",
     "text": [
      "Three players from the middle of the list are:\n",
      "Nawaz\n",
      "Razzaq\n",
      "Sarfraz\n"
     ]
    }
   ],
   "source": [
    "print(\"Three players from the middle of the list are:\")\n",
    "for player in players[1:4]:\n",
    "    print(player.title())"
   ]
  },
  {
   "cell_type": "code",
   "execution_count": 3,
   "metadata": {},
   "outputs": [
    {
     "name": "stdout",
     "output_type": "stream",
     "text": [
      "Last three players in the list are:\n",
      "Razzaq\n",
      "Sarfraz\n",
      "Azam\n"
     ]
    }
   ],
   "source": [
    "print(\"Last three players in the list are:\")\n",
    "for player in players[2:]:\n",
    "    print(player.title())"
   ]
  },
  {
   "cell_type": "code",
   "execution_count": 5,
   "metadata": {},
   "outputs": [
    {
     "name": "stdout",
     "output_type": "stream",
     "text": [
      "My favorite pizzas are:\n",
      "fajita\n",
      "supreeme\n",
      "tikka boti\n",
      "Malaiboti\n",
      "\n",
      "My friends favorite pizzas are:\n",
      "fajita\n",
      "supreeme\n",
      "tikka boti\n",
      "ChickenTikka\n"
     ]
    }
   ],
   "source": [
    "My_pizzas = [\"fajita\", \"supreeme\", \"tikka boti\"]\n",
    "Myfreind_pizzas = My_pizzas[:]\n",
    "\n",
    "My_pizzas.append(\"Malaiboti\")\n",
    "Myfreind_pizzas.append(\"ChickenTikka\")\n",
    "\n",
    "print(\"My favorite pizzas are:\")\n",
    "for pizza in My_pizzas:\n",
    "    print(pizza)\n",
    "\n",
    "print(\"\\nMy friends favorite pizzas are:\")\n",
    "for pizza in Myfreind_pizzas:\n",
    "    print(pizza)"
   ]
  },
  {
   "cell_type": "code",
   "execution_count": 8,
   "metadata": {},
   "outputs": [
    {
     "name": "stdout",
     "output_type": "stream",
     "text": [
      "Biryani\n",
      "Charga Broast\n",
      "Mutton\n"
     ]
    }
   ],
   "source": [
    "dishes = (\"biryani\", \"charga broast\", \"Mutton\")\n",
    "for dish in dishes:\n",
    "    print(dish.title())"
   ]
  },
  {
   "cell_type": "code",
   "execution_count": 9,
   "metadata": {},
   "outputs": [
    {
     "ename": "TypeError",
     "evalue": "'tuple' object does not support item assignment",
     "output_type": "error",
     "traceback": [
      "\u001b[1;31m---------------------------------------------------------------------------\u001b[0m",
      "\u001b[1;31mTypeError\u001b[0m                                 Traceback (most recent call last)",
      "\u001b[1;32m<ipython-input-9-426d6c762630>\u001b[0m in \u001b[0;36m<module>\u001b[1;34m\u001b[0m\n\u001b[1;32m----> 1\u001b[1;33m \u001b[0mdishes\u001b[0m\u001b[1;33m[\u001b[0m\u001b[1;36m0\u001b[0m\u001b[1;33m]\u001b[0m \u001b[1;33m=\u001b[0m \u001b[1;34m\"soop\"\u001b[0m\u001b[1;33m\u001b[0m\u001b[1;33m\u001b[0m\u001b[0m\n\u001b[0m",
      "\u001b[1;31mTypeError\u001b[0m: 'tuple' object does not support item assignment"
     ]
    }
   ],
   "source": [
    "dishes[0] = \"soop\" "
   ]
  },
  {
   "cell_type": "code",
   "execution_count": 10,
   "metadata": {},
   "outputs": [
    {
     "name": "stdout",
     "output_type": "stream",
     "text": [
      "Original tuple\n",
      "Biryani\n",
      "Charga Broast\n",
      "Mutton\n",
      "\n",
      "Modify tuple\n",
      "Tikka\n",
      "Beef\n",
      "Mutton\n"
     ]
    }
   ],
   "source": [
    "print(\"Original tuple\")\n",
    "for dish in dishes:\n",
    "    print(dish.title())\n",
    "\n",
    "print(\"\\nModify tuple\")\n",
    "dishes = (\"Tikka\", \"Beef\", \"mutton\")\n",
    "for dish in dishes:\n",
    "    print(dish.title())"
   ]
  },
  {
   "cell_type": "code",
   "execution_count": 1,
   "metadata": {},
   "outputs": [
    {
     "name": "stdout",
     "output_type": "stream",
     "text": [
      "You are old enough to vote!\n",
      "How you registered to vote?\n"
     ]
    }
   ],
   "source": [
    "age = 19\n",
    "if age>=18:\n",
    "    print(\"You are old enough to vote!\")\n",
    "    print(\"How you registered to vote?\")"
   ]
  },
  {
   "cell_type": "code",
   "execution_count": 2,
   "metadata": {},
   "outputs": [
    {
     "name": "stdout",
     "output_type": "stream",
     "text": [
      "Sorry, you are too young too vote.\n",
      "please register to vote as soon as you turn 18\n"
     ]
    }
   ],
   "source": [
    "age = 17\n",
    "if age >= 18:\n",
    "    print(\"You are old enough to vote!\")\n",
    "    print(\"How you registered to vote?\")\n",
    "else:\n",
    "    print(\"Sorry, you are too young too vote.\")\n",
    "    print(\"please register to vote as soon as you turn 18\")"
   ]
  },
  {
   "cell_type": "code",
   "execution_count": 3,
   "metadata": {},
   "outputs": [
    {
     "name": "stdout",
     "output_type": "stream",
     "text": [
      "Your admission cost is $40.\n"
     ]
    }
   ],
   "source": [
    "age = 12\n",
    "if age<4:\n",
    "    print(\"Your admission cost is $0.\")\n",
    "elif age>18:\n",
    "    print(\"Your admission cost is $25.\")\n",
    "else:\n",
    "    print(\"Your admission cost is $40.\")"
   ]
  },
  {
   "cell_type": "code",
   "execution_count": 4,
   "metadata": {},
   "outputs": [
    {
     "name": "stdout",
     "output_type": "stream",
     "text": [
      "Your admission cost is $40.\n"
     ]
    }
   ],
   "source": [
    "age = 12\n",
    "if age<4:\n",
    "    price = 0\n",
    "elif age>18:\n",
    "    price = 25\n",
    "else:\n",
    "    price = 40\n",
    "print(f\"Your admission cost is ${price}.\")"
   ]
  },
  {
   "cell_type": "code",
   "execution_count": 6,
   "metadata": {},
   "outputs": [
    {
     "name": "stdout",
     "output_type": "stream",
     "text": [
      "Player just earned five dolloar\n"
     ]
    }
   ],
   "source": [
    "alien_color = [\"red\", \"green\", \"blue\"]\n",
    "if \"green\" in alien_color:\n",
    "    print(\"Player just earned five dolloar\")"
   ]
  },
  {
   "cell_type": "code",
   "execution_count": 24,
   "metadata": {},
   "outputs": [
    {
     "name": "stdout",
     "output_type": "stream",
     "text": [
      "Player just earned ten dollar.\n"
     ]
    }
   ],
   "source": [
    "color =\"blue\"\n",
    "if color ==\"green\":\n",
    "    print(\"Player just earned five dollar.\")\n",
    "else: \n",
    "    print(\"Player just earned ten dollar.\")\n",
    "    \n",
    "    "
   ]
  },
  {
   "cell_type": "code",
   "execution_count": 25,
   "metadata": {},
   "outputs": [
    {
     "name": "stdout",
     "output_type": "stream",
     "text": [
      "Adding <built-in method title of str object at 0x00000115C45685F0>\n",
      "We are out of green peppers right now.\n",
      "Adding <built-in method title of str object at 0x00000115C4570F70>\n",
      "\n",
      "Finished making your pizza\n"
     ]
    }
   ],
   "source": [
    "requested_toppings = [\"mushrooms\", \"green peppers\", \"extra cheese\"]\n",
    "for requested_topping in requested_toppings:\n",
    "    if requested_topping == \"green peppers\":\n",
    "        print(\"We are out of green peppers right now.\")\n",
    "    else:\n",
    "        print(f\"Adding {requested_topping.title}\")\n",
    "print(\"\\nFinished making your pizza\")"
   ]
  },
  {
   "cell_type": "code",
   "execution_count": 26,
   "metadata": {},
   "outputs": [
    {
     "name": "stdout",
     "output_type": "stream",
     "text": [
      "Adding <built-in method title of str object at 0x00000115C45685F0>\n",
      "We are out of green peppers right now.\n",
      "Adding <built-in method title of str object at 0x00000115C459A130>\n",
      "\n",
      "Finished making your pizza\n"
     ]
    }
   ],
   "source": [
    "requested_toppings = [\"mushrooms\", \"green peppers\", \"extra cheese\"]\n",
    "for requested_topping in requested_toppings:\n",
    "    if requested_topping == \"green peppers\":\n",
    "        print(\"We are out of green peppers right now.\")\n",
    "    else:\n",
    "        print(f\"Adding {requested_topping.title}\")\n",
    "print(\"\\nFinished making your pizza\")"
   ]
  },
  {
   "cell_type": "code",
   "execution_count": 29,
   "metadata": {},
   "outputs": [
    {
     "name": "stdout",
     "output_type": "stream",
     "text": [
      "Adding topping mushrooms\n",
      "Adding topping green peppers\n",
      "Adding topping extra cheese\n",
      "\n",
      "Finished Making pizza\n"
     ]
    }
   ],
   "source": [
    "available_toppings = ['mushrooms', 'olives', 'green peppers','pepperoni', 'pineapple', 'extra cheese']\n",
    "requested_toppings = [\"mushrooms\", \"green peppers\", \"extra cheese\"]\n",
    "for requested_topping in requested_toppings:\n",
    "    if requested_topping in available_toppings:\n",
    "        print(f\"Adding topping {requested_topping}\")\n",
    "    else:\n",
    "        print(f\"Sorry,we don't have {requested_topping}\")\n",
    "        \n",
    "print(\"\\nFinished Making pizza\")"
   ]
  },
  {
   "cell_type": "code",
   "execution_count": 30,
   "metadata": {},
   "outputs": [
    {
     "name": "stdout",
     "output_type": "stream",
     "text": [
      "Hello admin, would you like to see admin panel.\n",
      "Hello Amar, thank you logging in again\n",
      "Hello Sheraz, thank you logging in again\n",
      "Hello Sanwal, thank you logging in again\n",
      "Hello Shahbaz, thank you logging in again\n"
     ]
    }
   ],
   "source": [
    "users = [\"admin\", \"amar\", \"sheraz\", \"sanwal\", \"shahbaz\"]\n",
    "for user in users:\n",
    "    if user == \"admin\":\n",
    "        print(\"Hello admin, would you like to see admin panel.\")\n",
    "    elif user == \"amar\":\n",
    "        print(f\"Hello {user.title()}, thank you logging in again\")\n",
    "    elif user == \"sheraz\":\n",
    "        print(f\"Hello {user.title()}, thank you logging in again\")\n",
    "    elif user == \"sanwal\":\n",
    "        print(f\"Hello {user.title()}, thank you logging in again\")\n",
    "    elif user == \"shahbaz\":\n",
    "        print(f\"Hello {user.title()}, thank you logging in again\")"
   ]
  },
  {
   "cell_type": "code",
   "execution_count": 36,
   "metadata": {},
   "outputs": [
    {
     "name": "stdout",
     "output_type": "stream",
     "text": [
      "The person will need to enter a new username.\n",
      "The person will need to enter a new username.\n",
      "Username is available.\n",
      "Username is available.\n"
     ]
    }
   ],
   "source": [
    "current_users = [\"admin\", \"amar\", \"sheraz\", \"sanwal\", \"shahbaz\"]\n",
    "new_users = [\"ADMIN\", \"AMAR\", \"ali\",\"wahab\"]\n",
    "for new_user in new_users:\n",
    "    if new_user.lower() in current_users:\n",
    "        print(\"The person will need to enter a new username.\")\n",
    "    else:\n",
    "        print(\"Username is available.\")\n"
   ]
  },
  {
   "cell_type": "code",
   "execution_count": 37,
   "metadata": {},
   "outputs": [
    {
     "name": "stdout",
     "output_type": "stream",
     "text": [
      "{'color': 'green', 'points': 5}\n"
     ]
    }
   ],
   "source": [
    "alien_0 = {}\n",
    "alien_0[\"color\"] = \"green\"\n",
    "alien_0[\"points\"] = 5\n",
    "\n",
    "print(alien_0)"
   ]
  },
  {
   "cell_type": "code",
   "execution_count": 43,
   "metadata": {},
   "outputs": [
    {
     "name": "stdout",
     "output_type": "stream",
     "text": [
      "Original position:0\n",
      "New position: 2\n"
     ]
    }
   ],
   "source": [
    "alien_0 = {\"x_position\":0, \"y_position\":25, \"speed\":\"medium\" }\n",
    "print(f\"Original position:{alien_0['x_position']}\" )\n",
    "\n",
    "#Move alien to right..\n",
    "#Determine how far to move the alien based on its current speed\n",
    "\n",
    "if alien_0[\"speed\"] ==\"slow\":\n",
    "    x_increment = 1\n",
    "elif alien_0[\"speed\"] == \"medium\":\n",
    "    x_increment = 2\n",
    "else:\n",
    "    #this is must be fast alien\n",
    "    x_increment = 3\n",
    "#the new position is the old the position plus the increment\n",
    "alien_0[\"x_position\"] = alien_0[\"x_position\"] + x_increment\n",
    "\n",
    "print(f\"New position: {alien_0['x_position']}\")"
   ]
  },
  {
   "cell_type": "code",
   "execution_count": 1,
   "metadata": {},
   "outputs": [
    {
     "name": "stdout",
     "output_type": "stream",
     "text": [
      "Amar's favorite language is Python\n"
     ]
    }
   ],
   "source": [
    "favorite_languages = {'ali':'python', 'amar':'python', 'sanwal':'ruby', 'ahsan':'c'}\n",
    "\n",
    "language = favorite_languages[\"amar\"].title()\n",
    "print(f\"Amar's favorite language is {language}\")"
   ]
  },
  {
   "cell_type": "code",
   "execution_count": 8,
   "metadata": {},
   "outputs": [
    {
     "name": "stdout",
     "output_type": "stream",
     "text": [
      "{'f_name': 'amar', 'l_name': 'ismail', 'age': '19', 'city': 'fsd'}\n",
      "{'f_name': 'sanwal', 'l_name': 'khan', 'age': '19', 'city': 'fsd'}\n",
      "{'f_name': 'sheraz', 'l_name': 'mehmood', 'age': '19', 'city': 'fsd'}\n"
     ]
    }
   ],
   "source": [
    "peoples = [\n",
    "    {'f_name':'amar','l_name':'ismail', 'age':'19', 'city':'fsd'}, \n",
    "          {'f_name':'sanwal','l_name':'khan','age':'19', 'city':'fsd'}, \n",
    "          {'f_name':'sheraz','l_name':'mehmood', 'age':'19', 'city':'fsd'}\n",
    "]\n",
    "\n",
    "for people in peoples:\n",
    "    print(people)"
   ]
  },
  {
   "cell_type": "code",
   "execution_count": 9,
   "metadata": {},
   "outputs": [
    {
     "name": "stdout",
     "output_type": "stream",
     "text": [
      "Tell me something, i will repeat it back to you.hello world\n",
      "hello world\n"
     ]
    }
   ],
   "source": [
    "message = input(\"Tell me something, i will repeat it back to you.\")\n",
    "print(message)"
   ]
  },
  {
   "cell_type": "code",
   "execution_count": 10,
   "metadata": {},
   "outputs": [
    {
     "name": "stdout",
     "output_type": "stream",
     "text": [
      "Enter your name:Ammar\n",
      "\n",
      "Hello, Ammar\n"
     ]
    }
   ],
   "source": [
    "name = input(\"Enter your name:\")\n",
    "print(f\"\\nHello, {name}\")"
   ]
  },
  {
   "cell_type": "code",
   "execution_count": 14,
   "metadata": {},
   "outputs": [
    {
     "name": "stdout",
     "output_type": "stream",
     "text": [
      "How tall are you in inches? 50\n",
      "50\n",
      "\n",
      "You are tall enough!\n"
     ]
    }
   ],
   "source": [
    "height =input(\"How tall are you in inches? \")\n",
    "height = int(height)\n",
    "print(height)\n",
    "\n",
    "if height >= 48:\n",
    "    print(\"\\nYou are tall enough!\")\n",
    "else:\n",
    "    print(\"\\nYou'll be able to ride when you are little older.\")"
   ]
  },
  {
   "cell_type": "code",
   "execution_count": 18,
   "metadata": {},
   "outputs": [
    {
     "name": "stdout",
     "output_type": "stream",
     "text": [
      "Enter a number and I'll tell you if it's even or old: 43\n",
      "\n",
      "The number 43 is odd.\n"
     ]
    }
   ],
   "source": [
    "number = input(\"Enter a number and I'll tell you if it's even or old: \")\n",
    "number = int(number)\n",
    "\n",
    "if number % 2 ==0:\n",
    "    print(f\"\\nThe number {number} is even.\")\n",
    "else:\n",
    "    print(f\"\\nThe number {number} is odd.\")"
   ]
  },
  {
   "cell_type": "code",
   "execution_count": 19,
   "metadata": {},
   "outputs": [
    {
     "name": "stdout",
     "output_type": "stream",
     "text": [
      "What kind of rental car you would like?: Range Rover\n",
      "Let me see if i can find you a Range Rover\n"
     ]
    }
   ],
   "source": [
    "car = input(\"What kind of rental car you would like?: \")\n",
    "print(f\"Let me see if i can find you a {car}\")"
   ]
  },
  {
   "cell_type": "code",
   "execution_count": 21,
   "metadata": {},
   "outputs": [
    {
     "name": "stdout",
     "output_type": "stream",
     "text": [
      "How many people are in their dinner group?: 9\n",
      "\n",
      "They'll have to wait for table.\n"
     ]
    }
   ],
   "source": [
    "people = input(\"How many people are in their dinner group?: \")\n",
    "people = int(people)\n",
    "if people > 8:\n",
    "    print(\"\\nThey'll have to wait for table.\")\n",
    "else:\n",
    "    print(\"\\nTheir table is ready.\")"
   ]
  },
  {
   "cell_type": "code",
   "execution_count": 22,
   "metadata": {},
   "outputs": [
    {
     "name": "stdout",
     "output_type": "stream",
     "text": [
      "How many people are in their dinner group?: 5\n",
      "\n",
      "Their table is ready.\n"
     ]
    }
   ],
   "source": [
    "people = input(\"How many people are in their dinner group?: \")\n",
    "people = int(people)\n",
    "if people > 8:\n",
    "    print(\"\\nThey'll have to wait for table.\")\n",
    "else:\n",
    "    print(\"\\nTheir table is ready.\")\n",
    "    "
   ]
  },
  {
   "cell_type": "code",
   "execution_count": 24,
   "metadata": {},
   "outputs": [
    {
     "name": "stdout",
     "output_type": "stream",
     "text": [
      "\n",
      "Tell me and i'll repeat it something for you.\n",
      "Enter 'quit' to end program: hi\n",
      "hi\n",
      "\n",
      "Tell me and i'll repeat it something for you.\n",
      "Enter 'quit' to end program: quit\n",
      "quit\n"
     ]
    }
   ],
   "source": [
    "prompt = \"\\nTell me and i'll repeat it something for you.\"\n",
    "prompt += \"\\nEnter 'quit' to end program: \"\n",
    "\n",
    "message = \"\"\n",
    "while message != \"quit\":\n",
    "    message = input(prompt)\n",
    "    print(message)\n"
   ]
  },
  {
   "cell_type": "code",
   "execution_count": 2,
   "metadata": {},
   "outputs": [
    {
     "name": "stdout",
     "output_type": "stream",
     "text": [
      "\n",
      "I have a hamster\n",
      "My hamster's name is Harry.\n"
     ]
    }
   ],
   "source": [
    "def describe_pet(animal_type, pet_name):\n",
    "    #display infromation about pet\n",
    "    print(f'\\nI have a {animal_type}')\n",
    "    print(f\"My {animal_type}'s name is {pet_name.title()}.\")\n",
    "    \n",
    "    \n",
    "describe_pet('hamster', 'harry')"
   ]
  },
  {
   "cell_type": "code",
   "execution_count": 3,
   "metadata": {},
   "outputs": [
    {
     "name": "stdout",
     "output_type": "stream",
     "text": [
      "\n",
      "I have a hamster\n",
      "My hamster's name is Harry.\n",
      "\n",
      "I have a dog\n",
      "My dog's name is Willie.\n"
     ]
    }
   ],
   "source": [
    "describe_pet('hamster', 'harry')\n",
    "describe_pet('dog', 'willie')"
   ]
  },
  {
   "cell_type": "code",
   "execution_count": 4,
   "metadata": {},
   "outputs": [
    {
     "name": "stdout",
     "output_type": "stream",
     "text": [
      "\n",
      "I have a hamster\n",
      "My hamster's name is Harry.\n"
     ]
    }
   ],
   "source": [
    "#by keyword arguments\n",
    "describe_pet(animal_type='hamster', pet_name= 'harry')"
   ]
  },
  {
   "cell_type": "code",
   "execution_count": 9,
   "metadata": {},
   "outputs": [
    {
     "name": "stdout",
     "output_type": "stream",
     "text": [
      "The size of Shirt is 15\n"
     ]
    }
   ],
   "source": [
    "def make_shirt(size):\n",
    "    #display infromation of shirt\n",
    "    print(f\"The size of Shirt is {size}\")\n",
    "          \n",
    "make_shirt(\"15\")"
   ]
  },
  {
   "cell_type": "code",
   "execution_count": 11,
   "metadata": {},
   "outputs": [
    {
     "name": "stdout",
     "output_type": "stream",
     "text": [
      "Fsd is in Pk.\n",
      "Uk is in Eng.\n"
     ]
    }
   ],
   "source": [
    "def describe_city(city, country):\n",
    "    print(f\"{city.title()} is in {country.title()}.\")\n",
    "    \n",
    "describe_city(\"fsd\", \"Pk\")\n",
    "describe_city(\"Uk\", \"eng\")"
   ]
  },
  {
   "cell_type": "code",
   "execution_count": 12,
   "metadata": {},
   "outputs": [
    {
     "name": "stdout",
     "output_type": "stream",
     "text": [
      "Amar Ismail\n"
     ]
    }
   ],
   "source": [
    "def get_formatted_name(first_name, last_name):\n",
    "    #return a full name, neatly formatted.\n",
    "    full_name = f\"{first_name} {last_name}\"\n",
    "    return full_name.title()\n",
    "\n",
    "musician = get_formatted_name(\"amar\", \"ismail\")\n",
    "print(musician)"
   ]
  },
  {
   "cell_type": "code",
   "execution_count": 13,
   "metadata": {},
   "outputs": [
    {
     "name": "stdout",
     "output_type": "stream",
     "text": [
      "{'first': 'ammar', 'last': 'ismail'}\n"
     ]
    }
   ],
   "source": [
    "def build_person(first_name, last_name):\n",
    "    #eturn a dictionary of information about a person.\n",
    "    person = {'first':first_name, 'last':last_name}\n",
    "    return person\n",
    "\n",
    "musician = build_person(\"ammar\", \"ismail\")\n",
    "print(musician)"
   ]
  },
  {
   "cell_type": "code",
   "execution_count": 15,
   "metadata": {},
   "outputs": [
    {
     "name": "stdout",
     "output_type": "stream",
     "text": [
      "{'first': 'ammar', 'last': 'ismail', 'age': 19}\n"
     ]
    }
   ],
   "source": [
    "def build_person(first_name, last_name, age =None):\n",
    "    #eturn a dictionary of information about a person.\n",
    "    person = {'first':first_name, 'last':last_name}\n",
    "    if age:\n",
    "        person['age'] = age\n",
    "    return person\n",
    "\n",
    "musician = build_person(\"ammar\", \"ismail\", age= 19)\n",
    "print(musician)"
   ]
  },
  {
   "cell_type": "code",
   "execution_count": 1,
   "metadata": {},
   "outputs": [
    {
     "name": "stdout",
     "output_type": "stream",
     "text": [
      "\n",
      "Please tell me your name:\n",
      "(enter 'q' at any time to quit)\n",
      "First name: amar\n",
      "last name: ismail\n",
      "\n",
      "Hello, Amar Ismail!\n",
      "\n",
      "Please tell me your name:\n",
      "(enter 'q' at any time to quit)\n",
      "First name: q\n"
     ]
    }
   ],
   "source": [
    "def get_formatted_name(first_name, last_name):\n",
    "    #return a full name, neatly formatted.\n",
    "    full_name = f\"{first_name} {last_name}\"\n",
    "    return full_name.title()\n",
    "\n",
    "while True:\n",
    "    print(\"\\nPlease tell me your name:\")\n",
    "    print(\"(enter 'q' at any time to quit)\")\n",
    "    \n",
    "    first_name= input(\"First name: \")\n",
    "    if first_name == 'q':\n",
    "        break\n",
    "        \n",
    "    last_name = input(\"last name: \")\n",
    "    if last_name == 'q':\n",
    "        break\n",
    "    \n",
    "    formatted_name = get_formatted_name(first_name, last_name)\n",
    "    print(f\"\\nHello, {formatted_name.title()}!\")\n",
    "            "
   ]
  },
  {
   "cell_type": "code",
   "execution_count": 3,
   "metadata": {},
   "outputs": [],
   "source": [
    "def make_album(atirst_name, album_title,no_of_songs = None):\n",
    "    #return dictionary of different albums\n",
    "    music_album = {'atirst': atirst_name, 'title': album_title}\n",
    "    if no_of_songs:\n",
    "        music_album['songs'] = no_of_songs\n",
    "    return music_album\n",
    "    \n",
    "    video_album = {'atirst': atirst_name, 'title': album_title}\n",
    "    if no_of_videos:\n",
    "        video_album['songs'] = no_of_videos\n",
    "    return video_album"
   ]
  },
  {
   "cell_type": "code",
   "execution_count": 6,
   "metadata": {},
   "outputs": [
    {
     "name": "stdout",
     "output_type": "stream",
     "text": [
      "{'atirst': 'bohemia', 'title': 'pesa nasha pyar', 'songs': 5}\n"
     ]
    },
    {
     "ename": "NameError",
     "evalue": "name 'video_album' is not defined",
     "output_type": "error",
     "traceback": [
      "\u001b[1;31m---------------------------------------------------------------------------\u001b[0m",
      "\u001b[1;31mNameError\u001b[0m                                 Traceback (most recent call last)",
      "\u001b[1;32m<ipython-input-6-cd0bf516e4b9>\u001b[0m in \u001b[0;36m<module>\u001b[1;34m\u001b[0m\n\u001b[0;32m      2\u001b[0m \u001b[0mprint\u001b[0m\u001b[1;33m(\u001b[0m\u001b[0malbum1\u001b[0m\u001b[1;33m)\u001b[0m\u001b[1;33m\u001b[0m\u001b[1;33m\u001b[0m\u001b[0m\n\u001b[0;32m      3\u001b[0m \u001b[1;33m\u001b[0m\u001b[0m\n\u001b[1;32m----> 4\u001b[1;33m \u001b[0mprint\u001b[0m\u001b[1;33m(\u001b[0m\u001b[0mvideo_album\u001b[0m\u001b[1;33m)\u001b[0m\u001b[1;33m\u001b[0m\u001b[1;33m\u001b[0m\u001b[0m\n\u001b[0m",
      "\u001b[1;31mNameError\u001b[0m: name 'video_album' is not defined"
     ]
    }
   ],
   "source": [
    "album1= make_album('bohemia', 'pesa nasha pyar', 5)\n",
    "print(album1)\n",
    "\n",
    "print(video_album)\n"
   ]
  },
  {
   "cell_type": "code",
   "execution_count": 7,
   "metadata": {},
   "outputs": [
    {
     "name": "stdout",
     "output_type": "stream",
     "text": [
      "Hello, Amar!\n",
      "Hello, Sanwal!\n",
      "Hello, Sheraz!\n"
     ]
    }
   ],
   "source": [
    "def greet_users(names):\n",
    "    #print simple greeting to each user in the list.\n",
    "    for name in names:\n",
    "        msg = f\"Hello, {name.title()}!\"\n",
    "        print(msg)\n",
    "\n",
    "usernames = ['amar', 'sanwal', 'sheraz']\n",
    "greet_users(usernames)\n"
   ]
  },
  {
   "cell_type": "code",
   "execution_count": 13,
   "metadata": {},
   "outputs": [
    {
     "name": "stdout",
     "output_type": "stream",
     "text": [
      "Printing model: dodecahedron\n",
      "Printing model: robot pendant\n",
      "Printing model: phone case\n",
      "\n",
      "The following models have been printed:\n",
      "dodecahedron\n",
      "robot pendant\n",
      "phone case\n",
      "[]\n"
     ]
    }
   ],
   "source": [
    "def print_models(unprinted_models, completed_models):\n",
    "    \"\"\"\"simulate printing each design, until none are left.move\n",
    "    each design to completed models after printing.\"\"\"\n",
    "    \n",
    "    while unprinted_models:\n",
    "        current_design = unprinted_models.pop()\n",
    "        print(f\"Printing model: {current_design}\")\n",
    "        completed_models.append(current_design)\n",
    "        \n",
    "def show_completed_models(completed_models):\n",
    "    #show all the models that are printed.\n",
    "    print(\"\\nThe following models have been printed:\")\n",
    "    for completed_model in completed_models:\n",
    "        print(completed_model)\n",
    "        \n",
    "unprinted_models = ['phone case', 'robot pendant', 'dodecahedron']\n",
    "completed_models = []\n",
    "\n",
    "print_models(unprinted_models, completed_models)\n",
    "show_completed_models(completed_models)\n",
    "\n",
    "#unprinted_models list becomes empty\n",
    "print(unprinted_models)"
   ]
  },
  {
   "cell_type": "code",
   "execution_count": 11,
   "metadata": {},
   "outputs": [
    {
     "name": "stdout",
     "output_type": "stream",
     "text": [
      "Printing model: dodecahedron\n",
      "Printing model: robot pendant\n",
      "Printing model: phone case\n",
      "\n",
      "The following models have been printed:\n",
      "dodecahedron\n",
      "robot pendant\n",
      "phone case\n",
      "['phone case', 'robot pendant', 'dodecahedron']\n"
     ]
    }
   ],
   "source": [
    "unprinted_models = ['phone case', 'robot pendant', 'dodecahedron']\n",
    "completed_models = []\n",
    "\n",
    "print_models(unprinted_models[:], completed_models)\n",
    "show_completed_models(completed_models)\n",
    "\n",
    "#unprinted_models list filled remain\n",
    "print(unprinted_models)"
   ]
  },
  {
   "cell_type": "code",
   "execution_count": 15,
   "metadata": {},
   "outputs": [
    {
     "name": "stdout",
     "output_type": "stream",
     "text": [
      "Hi\n",
      "hwo are you?\n",
      "whats going on today?\n"
     ]
    }
   ],
   "source": [
    "def show_Messages(messages):\n",
    "    for message in messages:\n",
    "        print(message)\n",
    "        \n",
    "messages = [\"Hi\", \"hwo are you?\", \"whats going on today?\"]\n",
    "show_Messages(messages)\n"
   ]
  },
  {
   "cell_type": "code",
   "execution_count": 20,
   "metadata": {},
   "outputs": [
    {
     "name": "stdout",
     "output_type": "stream",
     "text": [
      "Message:Whats Going On Today?\n",
      "Message:Hwo Are You?\n",
      "Message:Hi\n",
      "\n",
      "The following messages have been sent.\n",
      "whats going on today?\n",
      "hwo are you?\n",
      "Hi\n"
     ]
    }
   ],
   "source": [
    "def show_Messages(messages, sent_messages):\n",
    "    #move each message from messages to send_messages.\n",
    "    \n",
    "    while messages:\n",
    "        current_message = messages.pop()\n",
    "        print(f\"Message:{current_message.title()}\")\n",
    "        sent_messages.append(current_message)\n",
    "    \n",
    "def send_Messages(sent_messages):\n",
    "    #print a list of sent messages.\n",
    "    print(\"\\nThe following messages have been sent.\")\n",
    "    for sent_message in sent_messages:\n",
    "        print(sent_message)\n",
    "\n",
    "messages = [\"Hi\", \"hwo are you?\", \"whats going on today?\"]\n",
    "sent_messages = []\n",
    "\n",
    "show_Messages(messages, sent_messages)\n",
    "send_Messages(sent_messages)\n"
   ]
  },
  {
   "cell_type": "code",
   "execution_count": 23,
   "metadata": {},
   "outputs": [
    {
     "name": "stdout",
     "output_type": "stream",
     "text": [
      "Message:Whats Going On Today?\n",
      "Message:Hwo Are You?\n",
      "Message:Hi\n",
      "\n",
      "The following messages have been sent.\n",
      "whats going on today?\n",
      "hwo are you?\n",
      "Hi\n",
      "['Hi', 'hwo are you?', 'whats going on today?']\n"
     ]
    }
   ],
   "source": [
    "messages = [\"Hi\", \"hwo are you?\", \"whats going on today?\"]\n",
    "sent_messages = []\n",
    "\n",
    " \n",
    "show_Messages(messages[:], sent_messages)\n",
    "send_Messages(sent_messages)\n",
    "\n",
    "#archived messages\n",
    "print(messages)"
   ]
  },
  {
   "cell_type": "code",
   "execution_count": 27,
   "metadata": {},
   "outputs": [
    {
     "name": "stdout",
     "output_type": "stream",
     "text": [
      "My dog's name is willie.\n",
      "willie is now sitting.\n",
      "willie rolled over!\n",
      "\n",
      "My dog's name is mack.\n",
      "mack is now sitting.\n",
      "mack rolled over!\n"
     ]
    }
   ],
   "source": [
    "class Dog:\n",
    "    \"\"\"a simple attempt to model a dog.\"\"\"\n",
    "     \n",
    "    def __init__(self, name, age):\n",
    "        \"\"\"initialize name and age attributes.\"\"\"\n",
    "        self.name = name\n",
    "        self.age = age\n",
    "        \n",
    "    def sit(self):\n",
    "        \"\"\"simulate a dog sitting in response to a command\"\"\"\n",
    "        print(f\"{self.name} is now sitting.\")\n",
    "        \n",
    "        \n",
    "    def roll_over(self):\n",
    "        \"\"\"simulate rolling over in response to a command.\"\"\"\n",
    "        print(f\"{self.name} rolled over!\")\n",
    "        \n",
    "        \n",
    "my_dog = Dog('willie', 6)\n",
    "your_dog = Dog('mack', 5)\n",
    "\n",
    "print(f\"My dog's name is {my_dog.name}.\")\n",
    "my_dog.sit()\n",
    "my_dog.roll_over()\n",
    "\n",
    "print(f\"\\nMy dog's name is {your_dog.name}.\")\n",
    "your_dog.sit()\n",
    "your_dog.roll_over()"
   ]
  },
  {
   "cell_type": "code",
   "execution_count": 32,
   "metadata": {},
   "outputs": [
    {
     "name": "stdout",
     "output_type": "stream",
     "text": [
      "The restaurant name is Sereena.\n",
      "Available cuisine type is Soul\n",
      "\n",
      "The restaurant is well furnished.\n",
      "\n",
      "The restaurant is available for 24/7\n",
      "\n",
      "The restaurant is open now.\n"
     ]
    }
   ],
   "source": [
    "class Restaurant:\n",
    "    \"\"\"a simple for describe about restaurant\"\"\"\n",
    "    def __init__(self, restaurant_name, cusinie_type):\n",
    "        self.restaurant_name = restaurant_name\n",
    "        self.cuisine_type = cusinie_type\n",
    "    \n",
    "    \n",
    "    def describe_restaurant(self):\n",
    "        \"\"\"simulate about restaurant\"\"\"\n",
    "        print(\"\\nThe restaurant is well furnished.\")\n",
    "        print(\"\\nThe restaurant is available for 24/7\")\n",
    "    \n",
    "    \n",
    "    def open_restaurant(self):\n",
    "        \"\"\"simulate that restaurant is open\"\"\"\n",
    "        print(\"\\nThe restaurant is open now.\")\n",
    "    \n",
    "    \n",
    "#create an intance\n",
    "restaurant = Restaurant(\"Sereena\", \"soul\")\n",
    "print(f\"The restaurant name is {restaurant.restaurant_name.title()}.\")\n",
    "print(f\"Available cuisine type is {restaurant.cuisine_type.title()}\")\n",
    "\n",
    "restaurant.describe_restaurant()\n",
    "restaurant.open_restaurant()"
   ]
  },
  {
   "cell_type": "code",
   "execution_count": 34,
   "metadata": {},
   "outputs": [
    {
     "name": "stdout",
     "output_type": "stream",
     "text": [
      "2019 Audi A4\n"
     ]
    }
   ],
   "source": [
    "class Car:\n",
    "    \"\"\"A simple attempt to represent a car.\"\"\"\n",
    "    \n",
    "    def __init__(self, make, model, year):\n",
    "        \"\"\"initialize attributes to describe a car.\"\"\"\n",
    "        self.make = make\n",
    "        self.model = model \n",
    "        self.year = year\n",
    "\n",
    "    \n",
    "    def get_descriptive_name(self):\n",
    "        \"\"\"Return a neatly formatted descriptive name.\"\"\"\n",
    "        long_name = f\"{self.year} {self.make} {self.model}\"\n",
    "        return long_name.title()\n",
    "    \n",
    "    \n",
    "my_new_car = Car('audi', 'a4', 2019)\n",
    "print(my_new_car.get_descriptive_name())"
   ]
  },
  {
   "cell_type": "code",
   "execution_count": 3,
   "metadata": {},
   "outputs": [
    {
     "name": "stdout",
     "output_type": "stream",
     "text": [
      "0 this loop is printing.\n",
      "1 this loop is printing.\n",
      "2 this loop is printing.\n",
      "3 this loop is printing.\n",
      "4 this loop is printing.\n",
      "5 this loop is printing.\n",
      "6 this loop is printing.\n",
      "7 this loop is printing.\n",
      "8 this loop is printing.\n",
      "9 this loop is printing.\n"
     ]
    }
   ],
   "source": [
    "a = 0 \n",
    "while a<10:\n",
    "    print(a,\"this loop is printing.\")\n",
    "    a += 1"
   ]
  },
  {
   "cell_type": "code",
   "execution_count": null,
   "metadata": {},
   "outputs": [],
   "source": []
  }
 ],
 "metadata": {
  "kernelspec": {
   "display_name": "Python 3",
   "language": "python",
   "name": "python3"
  },
  "language_info": {
   "codemirror_mode": {
    "name": "ipython",
    "version": 3
   },
   "file_extension": ".py",
   "mimetype": "text/x-python",
   "name": "python",
   "nbconvert_exporter": "python",
   "pygments_lexer": "ipython3",
   "version": "3.7.4"
  }
 },
 "nbformat": 4,
 "nbformat_minor": 2
}
